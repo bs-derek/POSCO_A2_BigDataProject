{
 "cells": [
  {
   "cell_type": "code",
   "execution_count": 1,
   "metadata": {},
   "outputs": [],
   "source": [
    "import pandas as pd\n",
    "import numpy as np\n",
    "# import pydot\n",
    "\n",
    "import matplotlib.pyplot as plt\n",
    "import matplotlib\n",
    "import seaborn as sns\n",
    "from sklearn.model_selection import train_test_split\n",
    "\n",
    "import statsmodels.formula.api as smf\n",
    "from sklearn.tree import DecisionTreeRegressor\n",
    "from sklearn.ensemble import RandomForestRegressor\n",
    "from sklearn.ensemble import GradientBoostingRegressor\n",
    "\n",
    "from sklearn.metrics import mean_squared_error\n",
    "from sklearn.metrics import mean_absolute_error\n",
    "\n",
    "from sklearn.tree import DecisionTreeClassifier\n",
    "from sklearn.ensemble import RandomForestClassifier\n",
    "from sklearn.ensemble import GradientBoostingClassifier\n",
    "from sklearn.neural_network import MLPClassifier\n",
    "\n",
    "from sklearn.svm import SVC\n",
    "\n",
    "from sklearn.metrics import f1_score,roc_curve,auc,precision_score,recall_score\n",
    "\n",
    "from sklearn.metrics import confusion_matrix\n",
    "\n",
    "import seaborn as sns\n",
    "from scipy import stats\n",
    "import scipy.stats\n",
    "import statsmodels.api as smd\n",
    "from statsmodels.stats.proportion import proportions_ztest\n",
    "\n",
    "# 가설검정, 분산분석하는 패키지\n",
    "from statsmodels.formula.api import ols # 분산분석하기? 모델링?\n",
    "from statsmodels.stats.anova import anova_lm # 아노바 데이터프레임 형태 출력\n",
    "from scipy.stats import shapiro\n",
    "%matplotlib inline\n",
    "from sklearn.preprocessing import scale,minmax_scale,robust_scale\n",
    "from scipy.stats import probplot\n",
    "from sklearn.model_selection import train_test_split\n",
    "from statsmodels.api import Logit\n",
    "\n",
    "# font_path = 'C:/Windows/Fonts/gulim.ttc'\n",
    "font_path = 'C:/Windows/Fonts/gulim.ttc'\n",
    "font_name = matplotlib.font_manager.FontProperties(fname=font_path).get_name()\n",
    "matplotlib.rc('font', family = font_name)\n",
    "\n",
    "from matplotlib import font_manager,rc\n",
    "\n",
    "from statsmodels.stats.outliers_influence import variance_inflation_factor\n",
    "from sklearn.linear_model import LinearRegression\n",
    "from sklearn.feature_selection import RFE\n",
    "from sklearn.preprocessing import StandardScaler\n",
    "from statsmodels.api import qqplot, add_constant\n",
    "\n",
    "# from sklearn.tree import export_graphviz\n",
    "# import graphviz\n",
    "\n",
    "from sklearn.metrics import mean_squared_error\n",
    "from sklearn.metrics import mean_absolute_error\n",
    "import numpy as np\n",
    "# import pydot\n",
    "\n",
    "import matplotlib.pyplot as plt\n",
    "import matplotlib\n",
    "import seaborn as sns\n",
    "from sklearn.model_selection import train_test_split\n",
    "\n",
    "import statsmodels.formula.api as smf\n",
    "from sklearn.tree import DecisionTreeRegressor\n",
    "from sklearn.ensemble import RandomForestRegressor\n",
    "from sklearn.ensemble import GradientBoostingRegressor\n",
    "\n",
    "from sklearn.metrics import mean_squared_error\n",
    "from sklearn.metrics import mean_absolute_error\n",
    "\n",
    "from sklearn.tree import DecisionTreeClassifier\n",
    "from sklearn.ensemble import RandomForestClassifier\n",
    "from sklearn.ensemble import GradientBoostingClassifier\n",
    "from sklearn.neural_network import MLPClassifier\n",
    "\n",
    "from sklearn.svm import SVC\n",
    "\n",
    "from sklearn.metrics import f1_score,roc_curve,auc,precision_score,recall_score\n",
    "\n",
    "from sklearn.metrics import confusion_matrix\n",
    "\n",
    "import seaborn as sns\n",
    "from scipy import stats\n",
    "import scipy.stats\n",
    "import statsmodels.api as smd\n",
    "from statsmodels.stats.proportion import proportions_ztest\n",
    "\n",
    "# 가설검정, 분산분석하는 패키지\n",
    "from statsmodels.formula.api import ols # 분산분석하기? 모델링?\n",
    "from statsmodels.stats.anova import anova_lm # 아노바 데이터프레임 형태 출력\n",
    "from scipy.stats import shapiro\n",
    "%matplotlib inline\n",
    "from sklearn.preprocessing import scale,minmax_scale,robust_scale\n",
    "from scipy.stats import probplot\n",
    "from sklearn.model_selection import train_test_split\n",
    "from statsmodels.api import Logit\n",
    "\n",
    "# # font_path = 'C:/Windows/Fonts/gulim.ttc'\n",
    "# font_path = '/usr/share/fonts/opentype/noto/NotoSerifCJK-ExtraLight.ttc'\n",
    "# font_name = matplotlib.font_manager.FontProperties(fname=font_path).get_name()\n",
    "# matplotlib.rc('font', family = font_name)\n",
    "\n",
    "from matplotlib import font_manager,rc\n",
    "\n",
    "from statsmodels.stats.outliers_influence import variance_inflation_factor\n",
    "from sklearn.linear_model import LinearRegression\n",
    "from sklearn.feature_selection import RFE\n",
    "from sklearn.preprocessing import StandardScaler\n",
    "from statsmodels.api import qqplot, add_constant\n",
    "\n",
    "# from sklearn.tree import export_graphviz\n",
    "# import graphviz\n",
    "\n",
    "from sklearn.metrics import mean_squared_error\n",
    "from sklearn.metrics import mean_absolute_error"
   ]
  },
  {
   "cell_type": "code",
   "execution_count": 2,
   "metadata": {},
   "outputs": [],
   "source": [
    "df_raw = pd.read_csv('review_1.csv',encoding='euckr')"
   ]
  },
  {
   "cell_type": "code",
   "execution_count": 3,
   "metadata": {},
   "outputs": [
    {
     "data": {
      "text/plain": [
       "Unnamed: 0              0\n",
       "customer_id             0\n",
       "review_cat              0\n",
       "judge                   0\n",
       "review_date             0\n",
       "gender                  0\n",
       "age                     0\n",
       "height                  0\n",
       "weight                  0\n",
       "bust                    0\n",
       "waist                   0\n",
       "bmi                     0\n",
       "whtr                    0\n",
       "bp_min                  0\n",
       "bp_max                  0\n",
       "pulse_count             0\n",
       "bt_chol               990\n",
       "bt_crea              2884\n",
       "bt_gluc               990\n",
       "bt_hb                2047\n",
       "bt_hbsa               990\n",
       "bt_hct               2047\n",
       "bt_mch               2047\n",
       "bt_mchc              2047\n",
       "bt_mvc               2047\n",
       "bt_plat              2047\n",
       "bt_rbc               2047\n",
       "bt_wbc               2047\n",
       "bt_rgpt              2666\n",
       "bt_sgot              2569\n",
       "bt_sgpt               990\n",
       "bt_trig              2607\n",
       "judge_score             0\n",
       "bp_judge                0\n",
       "pulse_count_judge       0\n",
       "bt_chol_judge         990\n",
       "bt_crea_judge         990\n",
       "bt_gluc_judge         990\n",
       "bt_hb_judge           990\n",
       "bt_hbsa_judge         990\n",
       "bt_hct_judge          990\n",
       "bt_mch_judge          990\n",
       "bt_mchc_judge         990\n",
       "bt_mvc_judge          990\n",
       "bt_plat_judge         990\n",
       "bt_rbc_judge          990\n",
       "bt_wbc_judge          990\n",
       "bt_rgpt_judge         990\n",
       "bt_sgot_judge         990\n",
       "bt_sgpt_judge         990\n",
       "bt_trig_judge         990\n",
       "risk                    0\n",
       "dtype: int64"
      ]
     },
     "execution_count": 3,
     "metadata": {},
     "output_type": "execute_result"
    }
   ],
   "source": [
    "df_raw.isna().sum()"
   ]
  },
  {
   "cell_type": "code",
   "execution_count": 4,
   "metadata": {},
   "outputs": [
    {
     "data": {
      "text/html": [
       "<div>\n",
       "<style scoped>\n",
       "    .dataframe tbody tr th:only-of-type {\n",
       "        vertical-align: middle;\n",
       "    }\n",
       "\n",
       "    .dataframe tbody tr th {\n",
       "        vertical-align: top;\n",
       "    }\n",
       "\n",
       "    .dataframe thead th {\n",
       "        text-align: right;\n",
       "    }\n",
       "</style>\n",
       "<table border=\"1\" class=\"dataframe\">\n",
       "  <thead>\n",
       "    <tr style=\"text-align: right;\">\n",
       "      <th></th>\n",
       "      <th>customer_id</th>\n",
       "      <th>review_cat</th>\n",
       "      <th>judge</th>\n",
       "      <th>review_date</th>\n",
       "      <th>gender</th>\n",
       "      <th>age</th>\n",
       "      <th>height</th>\n",
       "      <th>weight</th>\n",
       "      <th>bust</th>\n",
       "      <th>waist</th>\n",
       "      <th>...</th>\n",
       "      <th>bt_mchc_judge</th>\n",
       "      <th>bt_mvc_judge</th>\n",
       "      <th>bt_plat_judge</th>\n",
       "      <th>bt_rbc_judge</th>\n",
       "      <th>bt_wbc_judge</th>\n",
       "      <th>bt_rgpt_judge</th>\n",
       "      <th>bt_sgot_judge</th>\n",
       "      <th>bt_sgpt_judge</th>\n",
       "      <th>bt_trig_judge</th>\n",
       "      <th>risk</th>\n",
       "    </tr>\n",
       "  </thead>\n",
       "  <tbody>\n",
       "    <tr>\n",
       "      <th>2</th>\n",
       "      <td>C112411</td>\n",
       "      <td>일반검진</td>\n",
       "      <td>재검</td>\n",
       "      <td>2015-09-20</td>\n",
       "      <td>1</td>\n",
       "      <td>69</td>\n",
       "      <td>165</td>\n",
       "      <td>70</td>\n",
       "      <td>92</td>\n",
       "      <td>88</td>\n",
       "      <td>...</td>\n",
       "      <td>NaN</td>\n",
       "      <td>NaN</td>\n",
       "      <td>NaN</td>\n",
       "      <td>NaN</td>\n",
       "      <td>NaN</td>\n",
       "      <td>NaN</td>\n",
       "      <td>NaN</td>\n",
       "      <td>NaN</td>\n",
       "      <td>NaN</td>\n",
       "      <td>1.0</td>\n",
       "    </tr>\n",
       "    <tr>\n",
       "      <th>3</th>\n",
       "      <td>C112570</td>\n",
       "      <td>일반검진</td>\n",
       "      <td>재검</td>\n",
       "      <td>2015-05-27</td>\n",
       "      <td>1</td>\n",
       "      <td>67</td>\n",
       "      <td>165</td>\n",
       "      <td>75</td>\n",
       "      <td>95</td>\n",
       "      <td>89</td>\n",
       "      <td>...</td>\n",
       "      <td>NaN</td>\n",
       "      <td>NaN</td>\n",
       "      <td>NaN</td>\n",
       "      <td>NaN</td>\n",
       "      <td>NaN</td>\n",
       "      <td>NaN</td>\n",
       "      <td>NaN</td>\n",
       "      <td>NaN</td>\n",
       "      <td>NaN</td>\n",
       "      <td>1.0</td>\n",
       "    </tr>\n",
       "    <tr>\n",
       "      <th>4</th>\n",
       "      <td>C112727</td>\n",
       "      <td>일반검진</td>\n",
       "      <td>승인</td>\n",
       "      <td>2015-06-24</td>\n",
       "      <td>1</td>\n",
       "      <td>65</td>\n",
       "      <td>160</td>\n",
       "      <td>50</td>\n",
       "      <td>89</td>\n",
       "      <td>66</td>\n",
       "      <td>...</td>\n",
       "      <td>NaN</td>\n",
       "      <td>NaN</td>\n",
       "      <td>NaN</td>\n",
       "      <td>NaN</td>\n",
       "      <td>NaN</td>\n",
       "      <td>NaN</td>\n",
       "      <td>NaN</td>\n",
       "      <td>NaN</td>\n",
       "      <td>NaN</td>\n",
       "      <td>1.0</td>\n",
       "    </tr>\n",
       "    <tr>\n",
       "      <th>5</th>\n",
       "      <td>C112730</td>\n",
       "      <td>일반검진</td>\n",
       "      <td>승인</td>\n",
       "      <td>2015-09-01</td>\n",
       "      <td>1</td>\n",
       "      <td>65</td>\n",
       "      <td>164</td>\n",
       "      <td>64</td>\n",
       "      <td>97</td>\n",
       "      <td>80</td>\n",
       "      <td>...</td>\n",
       "      <td>NaN</td>\n",
       "      <td>NaN</td>\n",
       "      <td>NaN</td>\n",
       "      <td>NaN</td>\n",
       "      <td>NaN</td>\n",
       "      <td>NaN</td>\n",
       "      <td>NaN</td>\n",
       "      <td>NaN</td>\n",
       "      <td>NaN</td>\n",
       "      <td>1.0</td>\n",
       "    </tr>\n",
       "    <tr>\n",
       "      <th>6</th>\n",
       "      <td>C112742</td>\n",
       "      <td>일반검진</td>\n",
       "      <td>승인</td>\n",
       "      <td>2015-09-02</td>\n",
       "      <td>1</td>\n",
       "      <td>65</td>\n",
       "      <td>169</td>\n",
       "      <td>62</td>\n",
       "      <td>89</td>\n",
       "      <td>72</td>\n",
       "      <td>...</td>\n",
       "      <td>NaN</td>\n",
       "      <td>NaN</td>\n",
       "      <td>NaN</td>\n",
       "      <td>NaN</td>\n",
       "      <td>NaN</td>\n",
       "      <td>NaN</td>\n",
       "      <td>NaN</td>\n",
       "      <td>NaN</td>\n",
       "      <td>NaN</td>\n",
       "      <td>1.0</td>\n",
       "    </tr>\n",
       "  </tbody>\n",
       "</table>\n",
       "<p>5 rows × 51 columns</p>\n",
       "</div>"
      ],
      "text/plain": [
       "  customer_id review_cat judge review_date  gender  age  height  weight  bust  \\\n",
       "2     C112411       일반검진    재검  2015-09-20       1   69     165      70    92   \n",
       "3     C112570       일반검진    재검  2015-05-27       1   67     165      75    95   \n",
       "4     C112727       일반검진    승인  2015-06-24       1   65     160      50    89   \n",
       "5     C112730       일반검진    승인  2015-09-01       1   65     164      64    97   \n",
       "6     C112742       일반검진    승인  2015-09-02       1   65     169      62    89   \n",
       "\n",
       "   waist  ...  bt_mchc_judge  bt_mvc_judge  bt_plat_judge  bt_rbc_judge  \\\n",
       "2     88  ...            NaN           NaN            NaN           NaN   \n",
       "3     89  ...            NaN           NaN            NaN           NaN   \n",
       "4     66  ...            NaN           NaN            NaN           NaN   \n",
       "5     80  ...            NaN           NaN            NaN           NaN   \n",
       "6     72  ...            NaN           NaN            NaN           NaN   \n",
       "\n",
       "   bt_wbc_judge  bt_rgpt_judge  bt_sgot_judge  bt_sgpt_judge  bt_trig_judge  \\\n",
       "2           NaN            NaN            NaN            NaN            NaN   \n",
       "3           NaN            NaN            NaN            NaN            NaN   \n",
       "4           NaN            NaN            NaN            NaN            NaN   \n",
       "5           NaN            NaN            NaN            NaN            NaN   \n",
       "6           NaN            NaN            NaN            NaN            NaN   \n",
       "\n",
       "  risk  \n",
       "2  1.0  \n",
       "3  1.0  \n",
       "4  1.0  \n",
       "5  1.0  \n",
       "6  1.0  \n",
       "\n",
       "[5 rows x 51 columns]"
      ]
     },
     "execution_count": 4,
     "metadata": {},
     "output_type": "execute_result"
    }
   ],
   "source": [
    "g_raw = df_raw[df_raw['review_cat'] != '혈액검사'].drop('Unnamed: 0',axis=1)\n",
    "g_raw.head()"
   ]
  },
  {
   "cell_type": "code",
   "execution_count": 5,
   "metadata": {},
   "outputs": [
    {
     "data": {
      "text/plain": [
       "customer_id            0\n",
       "review_cat             0\n",
       "judge                  0\n",
       "review_date            0\n",
       "gender                 0\n",
       "age                    0\n",
       "height                 0\n",
       "weight                 0\n",
       "bust                   0\n",
       "waist                  0\n",
       "bmi                    0\n",
       "whtr                   0\n",
       "bp_min                 0\n",
       "bp_max                 0\n",
       "pulse_count            0\n",
       "bt_chol              990\n",
       "bt_crea              990\n",
       "bt_gluc              990\n",
       "bt_hb                990\n",
       "bt_hbsa              990\n",
       "bt_hct               990\n",
       "bt_mch               990\n",
       "bt_mchc              990\n",
       "bt_mvc               990\n",
       "bt_plat              990\n",
       "bt_rbc               990\n",
       "bt_wbc               990\n",
       "bt_rgpt              990\n",
       "bt_sgot              990\n",
       "bt_sgpt              990\n",
       "bt_trig              990\n",
       "judge_score            0\n",
       "bp_judge               0\n",
       "pulse_count_judge      0\n",
       "bt_chol_judge        990\n",
       "bt_crea_judge        990\n",
       "bt_gluc_judge        990\n",
       "bt_hb_judge          990\n",
       "bt_hbsa_judge        990\n",
       "bt_hct_judge         990\n",
       "bt_mch_judge         990\n",
       "bt_mchc_judge        990\n",
       "bt_mvc_judge         990\n",
       "bt_plat_judge        990\n",
       "bt_rbc_judge         990\n",
       "bt_wbc_judge         990\n",
       "bt_rgpt_judge        990\n",
       "bt_sgot_judge        990\n",
       "bt_sgpt_judge        990\n",
       "bt_trig_judge        990\n",
       "risk                   0\n",
       "dtype: int64"
      ]
     },
     "execution_count": 5,
     "metadata": {},
     "output_type": "execute_result"
    }
   ],
   "source": [
    "g_raw.isna().sum()"
   ]
  },
  {
   "cell_type": "code",
   "execution_count": 6,
   "metadata": {},
   "outputs": [
    {
     "data": {
      "text/html": [
       "<div>\n",
       "<style scoped>\n",
       "    .dataframe tbody tr th:only-of-type {\n",
       "        vertical-align: middle;\n",
       "    }\n",
       "\n",
       "    .dataframe tbody tr th {\n",
       "        vertical-align: top;\n",
       "    }\n",
       "\n",
       "    .dataframe thead th {\n",
       "        text-align: right;\n",
       "    }\n",
       "</style>\n",
       "<table border=\"1\" class=\"dataframe\">\n",
       "  <thead>\n",
       "    <tr style=\"text-align: right;\">\n",
       "      <th></th>\n",
       "      <th>customer_id</th>\n",
       "      <th>review_cat</th>\n",
       "      <th>judge</th>\n",
       "      <th>review_date</th>\n",
       "      <th>gender</th>\n",
       "      <th>age</th>\n",
       "      <th>height</th>\n",
       "      <th>weight</th>\n",
       "      <th>bust</th>\n",
       "      <th>waist</th>\n",
       "      <th>bmi</th>\n",
       "      <th>whtr</th>\n",
       "      <th>bp_min</th>\n",
       "      <th>bp_max</th>\n",
       "      <th>pulse_count</th>\n",
       "      <th>bp_judge</th>\n",
       "      <th>pulse_count_judge</th>\n",
       "      <th>judge_score</th>\n",
       "      <th>risk</th>\n",
       "    </tr>\n",
       "  </thead>\n",
       "  <tbody>\n",
       "    <tr>\n",
       "      <th>0</th>\n",
       "      <td>C112411</td>\n",
       "      <td>일반검진</td>\n",
       "      <td>재검</td>\n",
       "      <td>2015-09-20</td>\n",
       "      <td>1</td>\n",
       "      <td>69</td>\n",
       "      <td>165</td>\n",
       "      <td>70</td>\n",
       "      <td>92</td>\n",
       "      <td>88</td>\n",
       "      <td>25.711662</td>\n",
       "      <td>0.533333</td>\n",
       "      <td>75</td>\n",
       "      <td>120</td>\n",
       "      <td>68</td>\n",
       "      <td>0</td>\n",
       "      <td>0</td>\n",
       "      <td>0</td>\n",
       "      <td>1.0</td>\n",
       "    </tr>\n",
       "    <tr>\n",
       "      <th>1</th>\n",
       "      <td>C112570</td>\n",
       "      <td>일반검진</td>\n",
       "      <td>재검</td>\n",
       "      <td>2015-05-27</td>\n",
       "      <td>1</td>\n",
       "      <td>67</td>\n",
       "      <td>165</td>\n",
       "      <td>75</td>\n",
       "      <td>95</td>\n",
       "      <td>89</td>\n",
       "      <td>27.548209</td>\n",
       "      <td>0.539394</td>\n",
       "      <td>90</td>\n",
       "      <td>140</td>\n",
       "      <td>70</td>\n",
       "      <td>1</td>\n",
       "      <td>0</td>\n",
       "      <td>1</td>\n",
       "      <td>1.0</td>\n",
       "    </tr>\n",
       "    <tr>\n",
       "      <th>2</th>\n",
       "      <td>C112727</td>\n",
       "      <td>일반검진</td>\n",
       "      <td>승인</td>\n",
       "      <td>2015-06-24</td>\n",
       "      <td>1</td>\n",
       "      <td>65</td>\n",
       "      <td>160</td>\n",
       "      <td>50</td>\n",
       "      <td>89</td>\n",
       "      <td>66</td>\n",
       "      <td>19.531250</td>\n",
       "      <td>0.412500</td>\n",
       "      <td>80</td>\n",
       "      <td>130</td>\n",
       "      <td>64</td>\n",
       "      <td>1</td>\n",
       "      <td>0</td>\n",
       "      <td>0</td>\n",
       "      <td>1.0</td>\n",
       "    </tr>\n",
       "    <tr>\n",
       "      <th>3</th>\n",
       "      <td>C112730</td>\n",
       "      <td>일반검진</td>\n",
       "      <td>승인</td>\n",
       "      <td>2015-09-01</td>\n",
       "      <td>1</td>\n",
       "      <td>65</td>\n",
       "      <td>164</td>\n",
       "      <td>64</td>\n",
       "      <td>97</td>\n",
       "      <td>80</td>\n",
       "      <td>23.795360</td>\n",
       "      <td>0.487805</td>\n",
       "      <td>80</td>\n",
       "      <td>125</td>\n",
       "      <td>68</td>\n",
       "      <td>1</td>\n",
       "      <td>0</td>\n",
       "      <td>0</td>\n",
       "      <td>1.0</td>\n",
       "    </tr>\n",
       "    <tr>\n",
       "      <th>4</th>\n",
       "      <td>C112742</td>\n",
       "      <td>일반검진</td>\n",
       "      <td>승인</td>\n",
       "      <td>2015-09-02</td>\n",
       "      <td>1</td>\n",
       "      <td>65</td>\n",
       "      <td>169</td>\n",
       "      <td>62</td>\n",
       "      <td>89</td>\n",
       "      <td>72</td>\n",
       "      <td>21.707923</td>\n",
       "      <td>0.426036</td>\n",
       "      <td>80</td>\n",
       "      <td>120</td>\n",
       "      <td>70</td>\n",
       "      <td>0</td>\n",
       "      <td>0</td>\n",
       "      <td>0</td>\n",
       "      <td>1.0</td>\n",
       "    </tr>\n",
       "    <tr>\n",
       "      <th>...</th>\n",
       "      <td>...</td>\n",
       "      <td>...</td>\n",
       "      <td>...</td>\n",
       "      <td>...</td>\n",
       "      <td>...</td>\n",
       "      <td>...</td>\n",
       "      <td>...</td>\n",
       "      <td>...</td>\n",
       "      <td>...</td>\n",
       "      <td>...</td>\n",
       "      <td>...</td>\n",
       "      <td>...</td>\n",
       "      <td>...</td>\n",
       "      <td>...</td>\n",
       "      <td>...</td>\n",
       "      <td>...</td>\n",
       "      <td>...</td>\n",
       "      <td>...</td>\n",
       "      <td>...</td>\n",
       "    </tr>\n",
       "    <tr>\n",
       "      <th>985</th>\n",
       "      <td>C134107</td>\n",
       "      <td>일반검진</td>\n",
       "      <td>재검</td>\n",
       "      <td>2015-07-12</td>\n",
       "      <td>2</td>\n",
       "      <td>55</td>\n",
       "      <td>158</td>\n",
       "      <td>63</td>\n",
       "      <td>98</td>\n",
       "      <td>80</td>\n",
       "      <td>25.236340</td>\n",
       "      <td>0.506329</td>\n",
       "      <td>80</td>\n",
       "      <td>135</td>\n",
       "      <td>70</td>\n",
       "      <td>1</td>\n",
       "      <td>0</td>\n",
       "      <td>1</td>\n",
       "      <td>1.0</td>\n",
       "    </tr>\n",
       "    <tr>\n",
       "      <th>986</th>\n",
       "      <td>C134186</td>\n",
       "      <td>일반검진</td>\n",
       "      <td>승인</td>\n",
       "      <td>2015-05-12</td>\n",
       "      <td>2</td>\n",
       "      <td>38</td>\n",
       "      <td>161</td>\n",
       "      <td>65</td>\n",
       "      <td>94</td>\n",
       "      <td>80</td>\n",
       "      <td>25.076193</td>\n",
       "      <td>0.496894</td>\n",
       "      <td>70</td>\n",
       "      <td>110</td>\n",
       "      <td>72</td>\n",
       "      <td>0</td>\n",
       "      <td>0</td>\n",
       "      <td>0</td>\n",
       "      <td>1.0</td>\n",
       "    </tr>\n",
       "    <tr>\n",
       "      <th>987</th>\n",
       "      <td>C134188</td>\n",
       "      <td>일반검진</td>\n",
       "      <td>승인</td>\n",
       "      <td>2015-06-22</td>\n",
       "      <td>1</td>\n",
       "      <td>41</td>\n",
       "      <td>175</td>\n",
       "      <td>78</td>\n",
       "      <td>100</td>\n",
       "      <td>92</td>\n",
       "      <td>25.469388</td>\n",
       "      <td>0.525714</td>\n",
       "      <td>80</td>\n",
       "      <td>110</td>\n",
       "      <td>66</td>\n",
       "      <td>0</td>\n",
       "      <td>0</td>\n",
       "      <td>0</td>\n",
       "      <td>1.0</td>\n",
       "    </tr>\n",
       "    <tr>\n",
       "      <th>988</th>\n",
       "      <td>C134250</td>\n",
       "      <td>일반검진</td>\n",
       "      <td>승인</td>\n",
       "      <td>2015-09-16</td>\n",
       "      <td>2</td>\n",
       "      <td>52</td>\n",
       "      <td>164</td>\n",
       "      <td>60</td>\n",
       "      <td>90</td>\n",
       "      <td>66</td>\n",
       "      <td>22.308150</td>\n",
       "      <td>0.402439</td>\n",
       "      <td>80</td>\n",
       "      <td>120</td>\n",
       "      <td>70</td>\n",
       "      <td>0</td>\n",
       "      <td>0</td>\n",
       "      <td>0</td>\n",
       "      <td>1.0</td>\n",
       "    </tr>\n",
       "    <tr>\n",
       "      <th>989</th>\n",
       "      <td>C134251</td>\n",
       "      <td>일반검진</td>\n",
       "      <td>재검</td>\n",
       "      <td>2015-06-21</td>\n",
       "      <td>2</td>\n",
       "      <td>57</td>\n",
       "      <td>157</td>\n",
       "      <td>48</td>\n",
       "      <td>89</td>\n",
       "      <td>72</td>\n",
       "      <td>19.473407</td>\n",
       "      <td>0.458599</td>\n",
       "      <td>70</td>\n",
       "      <td>110</td>\n",
       "      <td>72</td>\n",
       "      <td>0</td>\n",
       "      <td>0</td>\n",
       "      <td>2</td>\n",
       "      <td>1.0</td>\n",
       "    </tr>\n",
       "  </tbody>\n",
       "</table>\n",
       "<p>990 rows × 19 columns</p>\n",
       "</div>"
      ],
      "text/plain": [
       "    customer_id review_cat judge review_date  gender  age  height  weight  \\\n",
       "0       C112411       일반검진    재검  2015-09-20       1   69     165      70   \n",
       "1       C112570       일반검진    재검  2015-05-27       1   67     165      75   \n",
       "2       C112727       일반검진    승인  2015-06-24       1   65     160      50   \n",
       "3       C112730       일반검진    승인  2015-09-01       1   65     164      64   \n",
       "4       C112742       일반검진    승인  2015-09-02       1   65     169      62   \n",
       "..          ...        ...   ...         ...     ...  ...     ...     ...   \n",
       "985     C134107       일반검진    재검  2015-07-12       2   55     158      63   \n",
       "986     C134186       일반검진    승인  2015-05-12       2   38     161      65   \n",
       "987     C134188       일반검진    승인  2015-06-22       1   41     175      78   \n",
       "988     C134250       일반검진    승인  2015-09-16       2   52     164      60   \n",
       "989     C134251       일반검진    재검  2015-06-21       2   57     157      48   \n",
       "\n",
       "     bust  waist        bmi      whtr  bp_min  bp_max  pulse_count  bp_judge  \\\n",
       "0      92     88  25.711662  0.533333      75     120           68         0   \n",
       "1      95     89  27.548209  0.539394      90     140           70         1   \n",
       "2      89     66  19.531250  0.412500      80     130           64         1   \n",
       "3      97     80  23.795360  0.487805      80     125           68         1   \n",
       "4      89     72  21.707923  0.426036      80     120           70         0   \n",
       "..    ...    ...        ...       ...     ...     ...          ...       ...   \n",
       "985    98     80  25.236340  0.506329      80     135           70         1   \n",
       "986    94     80  25.076193  0.496894      70     110           72         0   \n",
       "987   100     92  25.469388  0.525714      80     110           66         0   \n",
       "988    90     66  22.308150  0.402439      80     120           70         0   \n",
       "989    89     72  19.473407  0.458599      70     110           72         0   \n",
       "\n",
       "     pulse_count_judge  judge_score  risk  \n",
       "0                    0            0   1.0  \n",
       "1                    0            1   1.0  \n",
       "2                    0            0   1.0  \n",
       "3                    0            0   1.0  \n",
       "4                    0            0   1.0  \n",
       "..                 ...          ...   ...  \n",
       "985                  0            1   1.0  \n",
       "986                  0            0   1.0  \n",
       "987                  0            0   1.0  \n",
       "988                  0            0   1.0  \n",
       "989                  0            2   1.0  \n",
       "\n",
       "[990 rows x 19 columns]"
      ]
     },
     "execution_count": 6,
     "metadata": {},
     "output_type": "execute_result"
    }
   ],
   "source": [
    "g_test_1 = g_raw.iloc[:,:15]\n",
    "g_test_2 = g_raw[['bp_judge','pulse_count_judge','judge_score','risk','customer_id']]\n",
    "g_test = pd.merge(g_test_1,g_test_2,on='customer_id',how='left')\n",
    "g_test"
   ]
  },
  {
   "cell_type": "code",
   "execution_count": 7,
   "metadata": {},
   "outputs": [
    {
     "data": {
      "text/plain": [
       "Index(['customer_id', 'review_cat', 'judge', 'review_date', 'gender', 'age',\n",
       "       'height', 'weight', 'bust', 'waist', 'bmi', 'whtr', 'bp_min', 'bp_max',\n",
       "       'pulse_count', 'bp_judge', 'pulse_count_judge', 'judge_score', 'risk'],\n",
       "      dtype='object')"
      ]
     },
     "execution_count": 7,
     "metadata": {},
     "output_type": "execute_result"
    }
   ],
   "source": [
    "g_test.columns"
   ]
  },
  {
   "cell_type": "markdown",
   "metadata": {},
   "source": [
    "## 탐색적 분석"
   ]
  },
  {
   "cell_type": "code",
   "execution_count": 8,
   "metadata": {},
   "outputs": [],
   "source": [
    "def myhist(data,var):\n",
    "    plt.hist(data[data['risk']==0][var],label = '수익', alpha = 0.5)\n",
    "    plt.hist(data[data['risk']==1][var],label = '위험', alpha = 0.5)\n",
    "    plt.legend()\n",
    "    \n",
    "def mycrosstab(data,var) : \n",
    "    print(pd.crosstab(index = data['risk'], columns = data[var]))\n",
    "    print()\n",
    "    print(pd.crosstab(index = data['risk'], columns = data[var],normalize = 'columns').round(3))"
   ]
  },
  {
   "cell_type": "code",
   "execution_count": 9,
   "metadata": {},
   "outputs": [],
   "source": [
    "def my_t(data,var):\n",
    "    k = stats.levene(data[data['risk']==0][var],data[data['risk']==1][var])\n",
    "    t_result = stats.ttest_ind(data[data['risk']==0][[var]],\n",
    "                               data[data['risk']==1][[var]],equal_var=True) # 2 sample 비교 명령어\n",
    "\n",
    "    t,p = t_result\n",
    "    print(k,p)"
   ]
  },
  {
   "cell_type": "markdown",
   "metadata": {},
   "source": [
    "### 검정 탐색"
   ]
  },
  {
   "cell_type": "code",
   "execution_count": 10,
   "metadata": {},
   "outputs": [
    {
     "data": {
      "image/png": "[encoded data removed]",
      "text/plain": [
       "<Figure size 432x288 with 1 Axes>"
      ]
     },
     "metadata": {
      "needs_background": "light"
     },
     "output_type": "display_data"
    }
   ],
   "source": [
    "myhist(g_test,'judge')"
   ]
  },
  {
   "cell_type": "code",
   "execution_count": 11,
   "metadata": {},
   "outputs": [
    {
     "name": "stdout",
     "output_type": "stream",
     "text": [
      "judge   승인   재검\n",
      "risk           \n",
      "0.0     62   53\n",
      "1.0    401  474\n",
      "\n",
      "judge     승인     재검\n",
      "risk               \n",
      "0.0    0.134  0.101\n",
      "1.0    0.866  0.899\n"
     ]
    }
   ],
   "source": [
    "mycrosstab(g_test,'judge')"
   ]
  },
  {
   "cell_type": "code",
   "execution_count": 12,
   "metadata": {},
   "outputs": [
    {
     "name": "stdout",
     "output_type": "stream",
     "text": [
      "p-value는 0.102\n"
     ]
    }
   ],
   "source": [
    "a = 62 ; b =53 ; c = 401 ; d = 474\n",
    "\n",
    "count = np.array([a,b])\n",
    "num = np.array([a+c,b+d])\n",
    "\n",
    "stat, p_value = proportions_ztest(count,num)\n",
    "print('p-value는 {:.3f}'.format(p_value.round(3))) # 유의 X, 층별 x"
   ]
  },
  {
   "cell_type": "code",
   "execution_count": 13,
   "metadata": {},
   "outputs": [
    {
     "data": {
      "image/png": "[encoded data removed]",
      "text/plain": [
       "<Figure size 432x288 with 1 Axes>"
      ]
     },
     "metadata": {
      "needs_background": "light"
     },
     "output_type": "display_data"
    }
   ],
   "source": [
    "myhist(g_test,'gender')"
   ]
  },
  {
   "cell_type": "code",
   "execution_count": 14,
   "metadata": {},
   "outputs": [
    {
     "name": "stdout",
     "output_type": "stream",
     "text": [
      "gender    1    2\n",
      "risk            \n",
      "0.0      31   84\n",
      "1.0     356  519\n",
      "\n",
      "gender     1      2\n",
      "risk               \n",
      "0.0     0.08  0.139\n",
      "1.0     0.92  0.861\n"
     ]
    }
   ],
   "source": [
    "mycrosstab(g_test,'gender')"
   ]
  },
  {
   "cell_type": "code",
   "execution_count": 15,
   "metadata": {},
   "outputs": [
    {
     "name": "stdout",
     "output_type": "stream",
     "text": [
      "p-value는 0.005\n"
     ]
    }
   ],
   "source": [
    "a = 31 ; b = 84 ; c = 356 ; d = 519\n",
    "\n",
    "count = np.array([a,b])\n",
    "num = np.array([a+c,b+d])\n",
    "\n",
    "stat, p_value = proportions_ztest(count,num)\n",
    "print('p-value는 {:.3f}'.format(p_value.round(3))) # 유의"
   ]
  },
  {
   "cell_type": "code",
   "execution_count": 16,
   "metadata": {},
   "outputs": [
    {
     "data": {
      "image/png": "[encoded data removed]",
      "text/plain": [
       "<Figure size 432x288 with 1 Axes>"
      ]
     },
     "metadata": {
      "needs_background": "light"
     },
     "output_type": "display_data"
    }
   ],
   "source": [
    "myhist(g_test,'pulse_count_judge') # pulse count 1 고객 존재 X -> 판단 불가, 제외"
   ]
  },
  {
   "cell_type": "code",
   "execution_count": 17,
   "metadata": {},
   "outputs": [
    {
     "data": {
      "image/png": "[encoded data removed]",
      "text/plain": [
       "<Figure size 432x288 with 1 Axes>"
      ]
     },
     "metadata": {
      "needs_background": "light"
     },
     "output_type": "display_data"
    }
   ],
   "source": [
    "myhist(g_test,'bp_judge')"
   ]
  },
  {
   "cell_type": "code",
   "execution_count": 18,
   "metadata": {},
   "outputs": [
    {
     "name": "stdout",
     "output_type": "stream",
     "text": [
      "bp_judge    0    1\n",
      "risk              \n",
      "0.0        97   18\n",
      "1.0       705  170\n",
      "\n",
      "bp_judge      0      1\n",
      "risk                  \n",
      "0.0       0.121  0.096\n",
      "1.0       0.879  0.904\n"
     ]
    }
   ],
   "source": [
    "mycrosstab(g_test,'bp_judge')"
   ]
  },
  {
   "cell_type": "code",
   "execution_count": 19,
   "metadata": {},
   "outputs": [
    {
     "name": "stdout",
     "output_type": "stream",
     "text": [
      "p-value는 0.332\n"
     ]
    }
   ],
   "source": [
    "a = 97 ; b = 18 ; c = 705 ; d = 170\n",
    "\n",
    "count = np.array([a,b])\n",
    "num = np.array([a+c,b+d])\n",
    "\n",
    "stat, p_value = proportions_ztest(count,num)\n",
    "print('p-value는 {:.3f}'.format(p_value.round(3)))"
   ]
  },
  {
   "cell_type": "code",
   "execution_count": 20,
   "metadata": {},
   "outputs": [
    {
     "data": {
      "image/png": "[encoded data removed]",
      "text/plain": [
       "<Figure size 432x288 with 1 Axes>"
      ]
     },
     "metadata": {
      "needs_background": "light"
     },
     "output_type": "display_data"
    }
   ],
   "source": [
    "myhist(g_test,'judge_score')"
   ]
  },
  {
   "cell_type": "code",
   "execution_count": 21,
   "metadata": {},
   "outputs": [
    {
     "name": "stdout",
     "output_type": "stream",
     "text": [
      "judge_score    0    1   2   3   4   5  6\n",
      "risk                                    \n",
      "0.0           77   23   4   6   2   3  0\n",
      "1.0          574  177  66  22  22  11  3\n",
      "\n",
      "judge_score      0      1      2      3      4      5    6\n",
      "risk                                                      \n",
      "0.0          0.118  0.115  0.057  0.214  0.083  0.214  0.0\n",
      "1.0          0.882  0.885  0.943  0.786  0.917  0.786  1.0\n"
     ]
    }
   ],
   "source": [
    "mycrosstab(g_test,'judge_score')"
   ]
  },
  {
   "cell_type": "code",
   "execution_count": 22,
   "metadata": {},
   "outputs": [
    {
     "name": "stdout",
     "output_type": "stream",
     "text": [
      "검정 통계량은 6.991 p-value는 0.321682)\n"
     ]
    }
   ],
   "source": [
    "df = pd.DataFrame({'A':[77,23,4,6,2,3,0],'B':[574,177,66,22,22,11,3]})\n",
    "chi, p, dof, expected = stats.chi2_contingency(df.T) #테이블 형태로 넣는다는 의미\n",
    "print('검정 통계량은 {0} p-value는 {1})'.format(chi.round(3), p.round(6)))"
   ]
  },
  {
   "cell_type": "markdown",
   "metadata": {},
   "source": [
    "### judge_score 파생"
   ]
  },
  {
   "cell_type": "code",
   "execution_count": 23,
   "metadata": {},
   "outputs": [
    {
     "data": {
      "text/html": [
       "<div>\n",
       "<style scoped>\n",
       "    .dataframe tbody tr th:only-of-type {\n",
       "        vertical-align: middle;\n",
       "    }\n",
       "\n",
       "    .dataframe tbody tr th {\n",
       "        vertical-align: top;\n",
       "    }\n",
       "\n",
       "    .dataframe thead th {\n",
       "        text-align: right;\n",
       "    }\n",
       "</style>\n",
       "<table border=\"1\" class=\"dataframe\">\n",
       "  <thead>\n",
       "    <tr style=\"text-align: right;\">\n",
       "      <th></th>\n",
       "      <th>customer_id</th>\n",
       "      <th>review_cat</th>\n",
       "      <th>judge</th>\n",
       "      <th>review_date</th>\n",
       "      <th>gender</th>\n",
       "      <th>age</th>\n",
       "      <th>height</th>\n",
       "      <th>weight</th>\n",
       "      <th>bust</th>\n",
       "      <th>waist</th>\n",
       "      <th>bmi</th>\n",
       "      <th>whtr</th>\n",
       "      <th>bp_min</th>\n",
       "      <th>bp_max</th>\n",
       "      <th>pulse_count</th>\n",
       "      <th>bp_judge</th>\n",
       "      <th>pulse_count_judge</th>\n",
       "      <th>judge_score</th>\n",
       "      <th>risk</th>\n",
       "      <th>new_judge</th>\n",
       "    </tr>\n",
       "  </thead>\n",
       "  <tbody>\n",
       "    <tr>\n",
       "      <th>0</th>\n",
       "      <td>C112411</td>\n",
       "      <td>일반검진</td>\n",
       "      <td>재검</td>\n",
       "      <td>2015-09-20</td>\n",
       "      <td>1</td>\n",
       "      <td>69</td>\n",
       "      <td>165</td>\n",
       "      <td>70</td>\n",
       "      <td>92</td>\n",
       "      <td>88</td>\n",
       "      <td>25.711662</td>\n",
       "      <td>0.533333</td>\n",
       "      <td>75</td>\n",
       "      <td>120</td>\n",
       "      <td>68</td>\n",
       "      <td>0</td>\n",
       "      <td>0</td>\n",
       "      <td>0</td>\n",
       "      <td>1.0</td>\n",
       "      <td>0</td>\n",
       "    </tr>\n",
       "    <tr>\n",
       "      <th>1</th>\n",
       "      <td>C112570</td>\n",
       "      <td>일반검진</td>\n",
       "      <td>재검</td>\n",
       "      <td>2015-05-27</td>\n",
       "      <td>1</td>\n",
       "      <td>67</td>\n",
       "      <td>165</td>\n",
       "      <td>75</td>\n",
       "      <td>95</td>\n",
       "      <td>89</td>\n",
       "      <td>27.548209</td>\n",
       "      <td>0.539394</td>\n",
       "      <td>90</td>\n",
       "      <td>140</td>\n",
       "      <td>70</td>\n",
       "      <td>1</td>\n",
       "      <td>0</td>\n",
       "      <td>1</td>\n",
       "      <td>1.0</td>\n",
       "      <td>0</td>\n",
       "    </tr>\n",
       "    <tr>\n",
       "      <th>2</th>\n",
       "      <td>C112727</td>\n",
       "      <td>일반검진</td>\n",
       "      <td>승인</td>\n",
       "      <td>2015-06-24</td>\n",
       "      <td>1</td>\n",
       "      <td>65</td>\n",
       "      <td>160</td>\n",
       "      <td>50</td>\n",
       "      <td>89</td>\n",
       "      <td>66</td>\n",
       "      <td>19.531250</td>\n",
       "      <td>0.412500</td>\n",
       "      <td>80</td>\n",
       "      <td>130</td>\n",
       "      <td>64</td>\n",
       "      <td>1</td>\n",
       "      <td>0</td>\n",
       "      <td>0</td>\n",
       "      <td>1.0</td>\n",
       "      <td>0</td>\n",
       "    </tr>\n",
       "    <tr>\n",
       "      <th>3</th>\n",
       "      <td>C112730</td>\n",
       "      <td>일반검진</td>\n",
       "      <td>승인</td>\n",
       "      <td>2015-09-01</td>\n",
       "      <td>1</td>\n",
       "      <td>65</td>\n",
       "      <td>164</td>\n",
       "      <td>64</td>\n",
       "      <td>97</td>\n",
       "      <td>80</td>\n",
       "      <td>23.795360</td>\n",
       "      <td>0.487805</td>\n",
       "      <td>80</td>\n",
       "      <td>125</td>\n",
       "      <td>68</td>\n",
       "      <td>1</td>\n",
       "      <td>0</td>\n",
       "      <td>0</td>\n",
       "      <td>1.0</td>\n",
       "      <td>0</td>\n",
       "    </tr>\n",
       "    <tr>\n",
       "      <th>4</th>\n",
       "      <td>C112742</td>\n",
       "      <td>일반검진</td>\n",
       "      <td>승인</td>\n",
       "      <td>2015-09-02</td>\n",
       "      <td>1</td>\n",
       "      <td>65</td>\n",
       "      <td>169</td>\n",
       "      <td>62</td>\n",
       "      <td>89</td>\n",
       "      <td>72</td>\n",
       "      <td>21.707923</td>\n",
       "      <td>0.426036</td>\n",
       "      <td>80</td>\n",
       "      <td>120</td>\n",
       "      <td>70</td>\n",
       "      <td>0</td>\n",
       "      <td>0</td>\n",
       "      <td>0</td>\n",
       "      <td>1.0</td>\n",
       "      <td>0</td>\n",
       "    </tr>\n",
       "  </tbody>\n",
       "</table>\n",
       "</div>"
      ],
      "text/plain": [
       "  customer_id review_cat judge review_date  gender  age  height  weight  bust  \\\n",
       "0     C112411       일반검진    재검  2015-09-20       1   69     165      70    92   \n",
       "1     C112570       일반검진    재검  2015-05-27       1   67     165      75    95   \n",
       "2     C112727       일반검진    승인  2015-06-24       1   65     160      50    89   \n",
       "3     C112730       일반검진    승인  2015-09-01       1   65     164      64    97   \n",
       "4     C112742       일반검진    승인  2015-09-02       1   65     169      62    89   \n",
       "\n",
       "   waist        bmi      whtr  bp_min  bp_max  pulse_count  bp_judge  \\\n",
       "0     88  25.711662  0.533333      75     120           68         0   \n",
       "1     89  27.548209  0.539394      90     140           70         1   \n",
       "2     66  19.531250  0.412500      80     130           64         1   \n",
       "3     80  23.795360  0.487805      80     125           68         1   \n",
       "4     72  21.707923  0.426036      80     120           70         0   \n",
       "\n",
       "   pulse_count_judge  judge_score  risk  new_judge  \n",
       "0                  0            0   1.0          0  \n",
       "1                  0            1   1.0          0  \n",
       "2                  0            0   1.0          0  \n",
       "3                  0            0   1.0          0  \n",
       "4                  0            0   1.0          0  "
      ]
     },
     "execution_count": 23,
     "metadata": {},
     "output_type": "execute_result"
    }
   ],
   "source": [
    "g_test['new_judge'] = np.where(g_test['judge_score']<5,0,1)\n",
    "g_test.head()"
   ]
  },
  {
   "cell_type": "code",
   "execution_count": 24,
   "metadata": {},
   "outputs": [
    {
     "data": {
      "image/png": "[encoded data removed]",
      "text/plain": [
       "<Figure size 432x288 with 1 Axes>"
      ]
     },
     "metadata": {
      "needs_background": "light"
     },
     "output_type": "display_data"
    }
   ],
   "source": [
    "myhist(g_test,'new_judge')"
   ]
  },
  {
   "cell_type": "code",
   "execution_count": 25,
   "metadata": {},
   "outputs": [
    {
     "name": "stdout",
     "output_type": "stream",
     "text": [
      "new_judge    0   1\n",
      "risk              \n",
      "0.0        112   3\n",
      "1.0        861  14\n",
      "\n",
      "new_judge      0      1\n",
      "risk                   \n",
      "0.0        0.115  0.176\n",
      "1.0        0.885  0.824\n"
     ]
    }
   ],
   "source": [
    "mycrosstab(g_test,'new_judge')"
   ]
  },
  {
   "cell_type": "code",
   "execution_count": 26,
   "metadata": {},
   "outputs": [
    {
     "name": "stdout",
     "output_type": "stream",
     "text": [
      "p-value는 0.434\n"
     ]
    }
   ],
   "source": [
    "a = 112 ; b = 3 ; c = 861 ; d = 14\n",
    "\n",
    "count = np.array([a,b])\n",
    "num = np.array([a+c,b+d])\n",
    "\n",
    "stat, p_value = proportions_ztest(count,num)\n",
    "print('p-value는 {:.3f}'.format(p_value.round(3)))"
   ]
  },
  {
   "cell_type": "code",
   "execution_count": 27,
   "metadata": {},
   "outputs": [],
   "source": [
    "g_test = g_test.drop('new_judge',axis=1)"
   ]
  },
  {
   "cell_type": "markdown",
   "metadata": {},
   "source": [
    "### 파생 유의 X"
   ]
  },
  {
   "cell_type": "code",
   "execution_count": 28,
   "metadata": {},
   "outputs": [
    {
     "data": {
      "image/png": "[encoded data removed]",
      "text/plain": [
       "<Figure size 432x288 with 1 Axes>"
      ]
     },
     "metadata": {
      "needs_background": "light"
     },
     "output_type": "display_data"
    }
   ],
   "source": [
    "myhist(g_test,'age')"
   ]
  },
  {
   "cell_type": "code",
   "execution_count": 29,
   "metadata": {},
   "outputs": [
    {
     "name": "stdout",
     "output_type": "stream",
     "text": [
      "LeveneResult(statistic=9.238027360192584, pvalue=0.002432801083511642) [0.00425202]\n"
     ]
    }
   ],
   "source": [
    "my_t(g_test,'age') # 유의"
   ]
  },
  {
   "cell_type": "code",
   "execution_count": 30,
   "metadata": {},
   "outputs": [
    {
     "data": {
      "image/png": "[encoded data removed]",
      "text/plain": [
       "<Figure size 432x288 with 1 Axes>"
      ]
     },
     "metadata": {
      "needs_background": "light"
     },
     "output_type": "display_data"
    }
   ],
   "source": [
    "myhist(g_test,'height')"
   ]
  },
  {
   "cell_type": "code",
   "execution_count": 31,
   "metadata": {},
   "outputs": [
    {
     "name": "stdout",
     "output_type": "stream",
     "text": [
      "LeveneResult(statistic=0.8436662641394731, pvalue=0.35857449352769366) [0.37864392]\n"
     ]
    }
   ],
   "source": [
    "my_t(g_test,'height')"
   ]
  },
  {
   "cell_type": "code",
   "execution_count": 32,
   "metadata": {},
   "outputs": [
    {
     "data": {
      "image/png": "[encoded data removed]",
      "text/plain": [
       "<Figure size 432x288 with 1 Axes>"
      ]
     },
     "metadata": {
      "needs_background": "light"
     },
     "output_type": "display_data"
    }
   ],
   "source": [
    "myhist(g_test,'bp_max')"
   ]
  },
  {
   "cell_type": "code",
   "execution_count": 33,
   "metadata": {},
   "outputs": [
    {
     "name": "stdout",
     "output_type": "stream",
     "text": [
      "LeveneResult(statistic=0.0056678234112955625, pvalue=0.9400032376874241) [0.98619684]\n"
     ]
    }
   ],
   "source": [
    "my_t(g_test,'bp_max')"
   ]
  },
  {
   "cell_type": "code",
   "execution_count": 34,
   "metadata": {},
   "outputs": [
    {
     "data": {
      "image/png": "[encoded data removed]",
      "text/plain": [
       "<Figure size 432x288 with 1 Axes>"
      ]
     },
     "metadata": {
      "needs_background": "light"
     },
     "output_type": "display_data"
    }
   ],
   "source": [
    "myhist(g_test,'bp_min')"
   ]
  },
  {
   "cell_type": "code",
   "execution_count": 35,
   "metadata": {},
   "outputs": [
    {
     "name": "stdout",
     "output_type": "stream",
     "text": [
      "LeveneResult(statistic=0.13860121958920868, pvalue=0.7097554078617287) [0.40054324]\n"
     ]
    }
   ],
   "source": [
    "my_t(g_test,'bp_min')"
   ]
  },
  {
   "cell_type": "code",
   "execution_count": 36,
   "metadata": {},
   "outputs": [
    {
     "data": {
      "image/png": "[encoded data removed]",
      "text/plain": [
       "<Figure size 432x288 with 1 Axes>"
      ]
     },
     "metadata": {
      "needs_background": "light"
     },
     "output_type": "display_data"
    }
   ],
   "source": [
    "myhist(g_test,'waist')"
   ]
  },
  {
   "cell_type": "code",
   "execution_count": 37,
   "metadata": {},
   "outputs": [
    {
     "name": "stdout",
     "output_type": "stream",
     "text": [
      "LeveneResult(statistic=0.02569027217138631, pvalue=0.8726918172445952) [0.33498123]\n"
     ]
    }
   ],
   "source": [
    "my_t(g_test,'waist')"
   ]
  },
  {
   "cell_type": "code",
   "execution_count": 38,
   "metadata": {},
   "outputs": [
    {
     "data": {
      "image/png": "[encoded data removed]",
      "text/plain": [
       "<Figure size 432x288 with 1 Axes>"
      ]
     },
     "metadata": {
      "needs_background": "light"
     },
     "output_type": "display_data"
    }
   ],
   "source": [
    "myhist(g_test,'bust')"
   ]
  },
  {
   "cell_type": "code",
   "execution_count": 39,
   "metadata": {},
   "outputs": [
    {
     "name": "stdout",
     "output_type": "stream",
     "text": [
      "LeveneResult(statistic=1.4261389954954018, pvalue=0.2326822198738059) [0.26989796]\n"
     ]
    }
   ],
   "source": [
    "my_t(g_test,'bust')"
   ]
  },
  {
   "cell_type": "code",
   "execution_count": 40,
   "metadata": {},
   "outputs": [
    {
     "data": {
      "image/png": "[encoded data removed]",
      "text/plain": [
       "<Figure size 432x288 with 1 Axes>"
      ]
     },
     "metadata": {
      "needs_background": "light"
     },
     "output_type": "display_data"
    }
   ],
   "source": [
    "myhist(g_test,'bmi')"
   ]
  },
  {
   "cell_type": "code",
   "execution_count": 41,
   "metadata": {},
   "outputs": [
    {
     "name": "stdout",
     "output_type": "stream",
     "text": [
      "LeveneResult(statistic=0.05471128090992733, pvalue=0.8151076334981407) [0.22408367]\n"
     ]
    }
   ],
   "source": [
    "my_t(g_test,'bmi')"
   ]
  },
  {
   "cell_type": "code",
   "execution_count": 42,
   "metadata": {},
   "outputs": [
    {
     "data": {
      "image/png": "[encoded data removed]",
      "text/plain": [
       "<Figure size 432x288 with 1 Axes>"
      ]
     },
     "metadata": {
      "needs_background": "light"
     },
     "output_type": "display_data"
    }
   ],
   "source": [
    "myhist(g_test,'pulse_count')"
   ]
  },
  {
   "cell_type": "code",
   "execution_count": 43,
   "metadata": {},
   "outputs": [
    {
     "name": "stdout",
     "output_type": "stream",
     "text": [
      "LeveneResult(statistic=0.9352968659411688, pvalue=0.3337269784279512) [0.29394272]\n"
     ]
    }
   ],
   "source": [
    "my_t(g_test,'pulse_count')"
   ]
  },
  {
   "cell_type": "code",
   "execution_count": 44,
   "metadata": {},
   "outputs": [
    {
     "data": {
      "image/png": "[encoded data removed]",
      "text/plain": [
       "<Figure size 432x288 with 1 Axes>"
      ]
     },
     "metadata": {
      "needs_background": "light"
     },
     "output_type": "display_data"
    }
   ],
   "source": [
    "myhist(g_test,'whtr')"
   ]
  },
  {
   "cell_type": "code",
   "execution_count": 45,
   "metadata": {},
   "outputs": [
    {
     "name": "stdout",
     "output_type": "stream",
     "text": [
      "LeveneResult(statistic=0.014241924106015536, pvalue=0.9050306251369153) [0.12838136]\n"
     ]
    }
   ],
   "source": [
    "my_t(g_test,'whtr')"
   ]
  },
  {
   "cell_type": "markdown",
   "metadata": {},
   "source": [
    "### 로지스틱 탐색"
   ]
  },
  {
   "cell_type": "code",
   "execution_count": 46,
   "metadata": {},
   "outputs": [
    {
     "data": {
      "text/plain": [
       "Index(['customer_id', 'review_cat', 'judge', 'review_date', 'gender', 'age',\n",
       "       'height', 'weight', 'bust', 'waist', 'bmi', 'whtr', 'bp_min', 'bp_max',\n",
       "       'pulse_count', 'bp_judge', 'pulse_count_judge', 'judge_score', 'risk'],\n",
       "      dtype='object')"
      ]
     },
     "execution_count": 46,
     "metadata": {},
     "output_type": "execute_result"
    }
   ],
   "source": [
    "g_test.columns"
   ]
  },
  {
   "cell_type": "code",
   "execution_count": 47,
   "metadata": {},
   "outputs": [
    {
     "name": "stdout",
     "output_type": "stream",
     "text": [
      "Warning: Maximum number of iterations has been exceeded.\n",
      "         Current function value: 0.374999\n",
      "         Iterations: 35\n",
      "                           Logit Regression Results                           \n",
      "==============================================================================\n",
      "Dep. Variable:                   risk   No. Observations:                  990\n",
      "Model:                          Logit   Df Residuals:                      970\n",
      "Method:                           MLE   Df Model:                           19\n",
      "Date:                Sun, 03 May 2020   Pseudo R-squ.:                -0.04396\n",
      "Time:                        21:49:41   Log-Likelihood:                -371.25\n",
      "converged:                      False   LL-Null:                       -355.61\n",
      "Covariance Type:            nonrobust   LLR p-value:                     1.000\n",
      "=============================================================================================\n",
      "                                coef    std err          z      P>|z|      [0.025      0.975]\n",
      "---------------------------------------------------------------------------------------------\n",
      "Intercept                   -10.3556     28.417     -0.364      0.716     -66.053      45.342\n",
      "C(gender)[T.2]               -1.4908      0.364     -4.096      0.000      -2.204      -0.777\n",
      "C(pulse_count_judge)[T.1]    17.6462   1.56e+04      0.001      0.999   -3.05e+04    3.05e+04\n",
      "C(judge_score)[T.1]          -0.0325      0.261     -0.124      0.901      -0.545       0.480\n",
      "C(judge_score)[T.2]           0.7997      0.539      1.483      0.138      -0.257       1.857\n",
      "C(judge_score)[T.3]          -0.8679      0.504     -1.721      0.085      -1.856       0.120\n",
      "C(judge_score)[T.4]           0.6238      0.780      0.800      0.424      -0.905       2.153\n",
      "C(judge_score)[T.5]          -0.7591      0.690     -1.100      0.272      -2.112       0.594\n",
      "C(judge_score)[T.6]         -14.9329    293.490     -0.051      0.959    -590.162     560.296\n",
      "C(bp_judge)[T.1]              0.5198      0.398      1.308      0.191      -0.259       1.299\n",
      "age                          -0.0371      0.012     -2.996      0.003      -0.061      -0.013\n",
      "height                        0.1072      0.174      0.614      0.539      -0.235       0.449\n",
      "bust                         -0.0118      0.028     -0.420      0.675      -0.067       0.043\n",
      "bmi                          -0.2534      0.562     -0.451      0.652      -1.355       0.849\n",
      "whtr                         79.3650     74.332      1.068      0.286     -66.322     225.053\n",
      "bp_min                        0.0554      0.031      1.771      0.077      -0.006       0.117\n",
      "bp_max                       -0.0446      0.027     -1.640      0.101      -0.098       0.009\n",
      "pulse_count                   0.0177      0.022      0.793      0.428      -0.026       0.062\n",
      "waist                        -0.5038      0.457     -1.101      0.271      -1.400       0.393\n",
      "weight                        0.0915      0.209      0.437      0.662      -0.318       0.501\n",
      "=============================================================================================\n"
     ]
    },
    {
     "name": "stderr",
     "output_type": "stream",
     "text": [
      "C:\\Users\\BHU\\anaconda3\\lib\\site-packages\\statsmodels\\base\\model.py:568: ConvergenceWarning: Maximum Likelihood optimization failed to converge. Check mle_retvals\n",
      "  \"Check mle_retvals\", ConvergenceWarning)\n"
     ]
    }
   ],
   "source": [
    "log_model = Logit.from_formula(''' risk ~ C(gender) + age + height + bust\n",
    "+bmi+whtr+bp_min+bp_max+pulse_count + C(pulse_count_judge) +C(judge_score)+ waist + weight+\n",
    "C(bp_judge)''',data = g_test)\n",
    "log_result = log_model.fit()\n",
    "print(log_result.summary())\n",
    "\n",
    "# 판정은 0 아니면 1 따라서, 스케일은 진행하지 X"
   ]
  },
  {
   "cell_type": "code",
   "execution_count": 48,
   "metadata": {},
   "outputs": [
    {
     "data": {
      "text/html": [
       "<div>\n",
       "<style scoped>\n",
       "    .dataframe tbody tr th:only-of-type {\n",
       "        vertical-align: middle;\n",
       "    }\n",
       "\n",
       "    .dataframe tbody tr th {\n",
       "        vertical-align: top;\n",
       "    }\n",
       "\n",
       "    .dataframe thead th {\n",
       "        text-align: right;\n",
       "    }\n",
       "</style>\n",
       "<table border=\"1\" class=\"dataframe\">\n",
       "  <thead>\n",
       "    <tr style=\"text-align: right;\">\n",
       "      <th></th>\n",
       "      <th>variable</th>\n",
       "      <th>VIF</th>\n",
       "    </tr>\n",
       "  </thead>\n",
       "  <tbody>\n",
       "    <tr>\n",
       "      <th>14</th>\n",
       "      <td>judge_score</td>\n",
       "      <td>1.017</td>\n",
       "    </tr>\n",
       "    <tr>\n",
       "      <th>13</th>\n",
       "      <td>pulse_count_judge</td>\n",
       "      <td>1.040</td>\n",
       "    </tr>\n",
       "    <tr>\n",
       "      <th>11</th>\n",
       "      <td>pulse_count</td>\n",
       "      <td>1.050</td>\n",
       "    </tr>\n",
       "    <tr>\n",
       "      <th>2</th>\n",
       "      <td>age</td>\n",
       "      <td>1.325</td>\n",
       "    </tr>\n",
       "    <tr>\n",
       "      <th>12</th>\n",
       "      <td>bp_judge</td>\n",
       "      <td>1.928</td>\n",
       "    </tr>\n",
       "    <tr>\n",
       "      <th>1</th>\n",
       "      <td>gender</td>\n",
       "      <td>2.586</td>\n",
       "    </tr>\n",
       "    <tr>\n",
       "      <th>9</th>\n",
       "      <td>bp_min</td>\n",
       "      <td>3.376</td>\n",
       "    </tr>\n",
       "    <tr>\n",
       "      <th>5</th>\n",
       "      <td>bust</td>\n",
       "      <td>3.798</td>\n",
       "    </tr>\n",
       "    <tr>\n",
       "      <th>10</th>\n",
       "      <td>bp_max</td>\n",
       "      <td>4.756</td>\n",
       "    </tr>\n",
       "    <tr>\n",
       "      <th>3</th>\n",
       "      <td>height</td>\n",
       "      <td>150.134</td>\n",
       "    </tr>\n",
       "    <tr>\n",
       "      <th>7</th>\n",
       "      <td>bmi</td>\n",
       "      <td>153.060</td>\n",
       "    </tr>\n",
       "    <tr>\n",
       "      <th>4</th>\n",
       "      <td>weight</td>\n",
       "      <td>318.858</td>\n",
       "    </tr>\n",
       "    <tr>\n",
       "      <th>8</th>\n",
       "      <td>whtr</td>\n",
       "      <td>774.320</td>\n",
       "    </tr>\n",
       "    <tr>\n",
       "      <th>6</th>\n",
       "      <td>waist</td>\n",
       "      <td>985.017</td>\n",
       "    </tr>\n",
       "    <tr>\n",
       "      <th>0</th>\n",
       "      <td>const</td>\n",
       "      <td>69579.169</td>\n",
       "    </tr>\n",
       "  </tbody>\n",
       "</table>\n",
       "</div>"
      ],
      "text/plain": [
       "             variable        VIF\n",
       "14        judge_score      1.017\n",
       "13  pulse_count_judge      1.040\n",
       "11        pulse_count      1.050\n",
       "2                 age      1.325\n",
       "12           bp_judge      1.928\n",
       "1              gender      2.586\n",
       "9              bp_min      3.376\n",
       "5                bust      3.798\n",
       "10             bp_max      4.756\n",
       "3              height    150.134\n",
       "7                 bmi    153.060\n",
       "4              weight    318.858\n",
       "8                whtr    774.320\n",
       "6               waist    985.017\n",
       "0               const  69579.169"
      ]
     },
     "execution_count": 48,
     "metadata": {},
     "output_type": "execute_result"
    }
   ],
   "source": [
    "df_x = g_test.drop(['risk','customer_id','review_cat','judge','review_date'],axis = 1)\n",
    "df_x # 종속 변수 빼고 새롭게 데이터 프레임 생성\n",
    "df_x_const = add_constant(df_x) # const열 생성\n",
    "\n",
    "df_vif = pd.DataFrame()\n",
    "df_vif['variable'] = df_x_const.columns\n",
    "df_vif['VIF'] = [variance_inflation_factor(df_x_const.values,i) for i in range(df_x_const.shape[1])]\n",
    "df_vif.sort_values('VIF',inplace=True)\n",
    "df_vif.round(3) # 다중공선성 존재 X -> 회귀식 자체로 판단"
   ]
  },
  {
   "cell_type": "code",
   "execution_count": 49,
   "metadata": {},
   "outputs": [
    {
     "data": {
      "text/html": [
       "<div>\n",
       "<style scoped>\n",
       "    .dataframe tbody tr th:only-of-type {\n",
       "        vertical-align: middle;\n",
       "    }\n",
       "\n",
       "    .dataframe tbody tr th {\n",
       "        vertical-align: top;\n",
       "    }\n",
       "\n",
       "    .dataframe thead th {\n",
       "        text-align: right;\n",
       "    }\n",
       "</style>\n",
       "<table border=\"1\" class=\"dataframe\">\n",
       "  <thead>\n",
       "    <tr style=\"text-align: right;\">\n",
       "      <th></th>\n",
       "      <th>variable</th>\n",
       "      <th>VIF</th>\n",
       "    </tr>\n",
       "  </thead>\n",
       "  <tbody>\n",
       "    <tr>\n",
       "      <th>12</th>\n",
       "      <td>judge_score</td>\n",
       "      <td>1.010</td>\n",
       "    </tr>\n",
       "    <tr>\n",
       "      <th>11</th>\n",
       "      <td>pulse_count_judge</td>\n",
       "      <td>1.032</td>\n",
       "    </tr>\n",
       "    <tr>\n",
       "      <th>9</th>\n",
       "      <td>pulse_count</td>\n",
       "      <td>1.049</td>\n",
       "    </tr>\n",
       "    <tr>\n",
       "      <th>2</th>\n",
       "      <td>age</td>\n",
       "      <td>1.289</td>\n",
       "    </tr>\n",
       "    <tr>\n",
       "      <th>10</th>\n",
       "      <td>bp_judge</td>\n",
       "      <td>1.925</td>\n",
       "    </tr>\n",
       "    <tr>\n",
       "      <th>1</th>\n",
       "      <td>gender</td>\n",
       "      <td>2.585</td>\n",
       "    </tr>\n",
       "    <tr>\n",
       "      <th>5</th>\n",
       "      <td>bmi</td>\n",
       "      <td>2.984</td>\n",
       "    </tr>\n",
       "    <tr>\n",
       "      <th>7</th>\n",
       "      <td>bp_min</td>\n",
       "      <td>3.375</td>\n",
       "    </tr>\n",
       "    <tr>\n",
       "      <th>3</th>\n",
       "      <td>height</td>\n",
       "      <td>3.458</td>\n",
       "    </tr>\n",
       "    <tr>\n",
       "      <th>6</th>\n",
       "      <td>whtr</td>\n",
       "      <td>3.502</td>\n",
       "    </tr>\n",
       "    <tr>\n",
       "      <th>4</th>\n",
       "      <td>bust</td>\n",
       "      <td>3.787</td>\n",
       "    </tr>\n",
       "    <tr>\n",
       "      <th>8</th>\n",
       "      <td>bp_max</td>\n",
       "      <td>4.753</td>\n",
       "    </tr>\n",
       "    <tr>\n",
       "      <th>0</th>\n",
       "      <td>const</td>\n",
       "      <td>2368.093</td>\n",
       "    </tr>\n",
       "  </tbody>\n",
       "</table>\n",
       "</div>"
      ],
      "text/plain": [
       "             variable       VIF\n",
       "12        judge_score     1.010\n",
       "11  pulse_count_judge     1.032\n",
       "9         pulse_count     1.049\n",
       "2                 age     1.289\n",
       "10           bp_judge     1.925\n",
       "1              gender     2.585\n",
       "5                 bmi     2.984\n",
       "7              bp_min     3.375\n",
       "3              height     3.458\n",
       "6                whtr     3.502\n",
       "4                bust     3.787\n",
       "8              bp_max     4.753\n",
       "0               const  2368.093"
      ]
     },
     "execution_count": 49,
     "metadata": {},
     "output_type": "execute_result"
    }
   ],
   "source": [
    "df_x = g_test.drop(['risk','customer_id','review_cat','judge','review_date'\n",
    "                   ,'waist','weight'],axis = 1)\n",
    "df_x # 종속 변수 빼고 새롭게 데이터 프레임 생성\n",
    "df_x_const = add_constant(df_x) # const열 생성\n",
    "\n",
    "df_vif = pd.DataFrame()\n",
    "df_vif['variable'] = df_x_const.columns\n",
    "df_vif['VIF'] = [variance_inflation_factor(df_x_const.values,i) for i in range(df_x_const.shape[1])]\n",
    "df_vif.sort_values('VIF',inplace=True)\n",
    "df_vif.round(3) # 다중공선성 존재 X -> 회귀식 자체로 판단"
   ]
  },
  {
   "cell_type": "code",
   "execution_count": 50,
   "metadata": {},
   "outputs": [
    {
     "name": "stdout",
     "output_type": "stream",
     "text": [
      "Warning: Maximum number of iterations has been exceeded.\n",
      "         Current function value: 0.337690\n",
      "         Iterations: 35\n",
      "                           Logit Regression Results                           \n",
      "==============================================================================\n",
      "Dep. Variable:                   risk   No. Observations:                  990\n",
      "Model:                          Logit   Df Residuals:                      972\n",
      "Method:                           MLE   Df Model:                           17\n",
      "Date:                Sun, 03 May 2020   Pseudo R-squ.:                 0.05990\n",
      "Time:                        21:49:43   Log-Likelihood:                -334.31\n",
      "converged:                      False   LL-Null:                       -355.61\n",
      "Covariance Type:            nonrobust   LLR p-value:                 0.0005484\n",
      "=============================================================================================\n",
      "                                coef    std err          z      P>|z|      [0.025      0.975]\n",
      "---------------------------------------------------------------------------------------------\n",
      "Intercept                    17.6537      4.910      3.596      0.000       8.031      27.276\n",
      "C(gender)[T.2]               -1.4863      0.362     -4.106      0.000      -2.196      -0.777\n",
      "C(pulse_count_judge)[T.1]    17.4537   1.56e+04      0.001      0.999   -3.05e+04    3.05e+04\n",
      "C(judge_score)[T.1]          -0.0355      0.261     -0.136      0.892      -0.547       0.476\n",
      "C(judge_score)[T.2]           0.7685      0.537      1.431      0.152      -0.284       1.821\n",
      "C(judge_score)[T.3]          -0.8985      0.501     -1.792      0.073      -1.881       0.084\n",
      "C(judge_score)[T.4]           0.5333      0.769      0.694      0.488      -0.974       2.041\n",
      "C(judge_score)[T.5]          -0.7646      0.690     -1.108      0.268      -2.117       0.588\n",
      "C(judge_score)[T.6]          13.7011   1737.897      0.008      0.994   -3392.514    3419.916\n",
      "C(bp_judge)[T.1]              0.5444      0.395      1.376      0.169      -0.231       1.320\n",
      "age                          -0.0382      0.012     -3.123      0.002      -0.062      -0.014\n",
      "height                       -0.0661      0.025     -2.600      0.009      -0.116      -0.016\n",
      "bust                         -0.0116      0.028     -0.417      0.677      -0.066       0.043\n",
      "bmi                          -0.0103      0.070     -0.147      0.883      -0.148       0.127\n",
      "whtr                         -2.1584      4.448     -0.485      0.627     -10.876       6.559\n",
      "bp_min                        0.0546      0.031      1.753      0.080      -0.006       0.116\n",
      "bp_max                       -0.0441      0.027     -1.625      0.104      -0.097       0.009\n",
      "pulse_count                   0.0177      0.022      0.793      0.428      -0.026       0.061\n",
      "=============================================================================================\n"
     ]
    },
    {
     "name": "stderr",
     "output_type": "stream",
     "text": [
      "C:\\Users\\BHU\\anaconda3\\lib\\site-packages\\statsmodels\\base\\model.py:568: ConvergenceWarning: Maximum Likelihood optimization failed to converge. Check mle_retvals\n",
      "  \"Check mle_retvals\", ConvergenceWarning)\n"
     ]
    }
   ],
   "source": [
    "log_model = Logit.from_formula(''' risk ~ C(gender) + age + height + bust\n",
    "+bmi+whtr+bp_min+bp_max+pulse_count + C(pulse_count_judge) +C(judge_score)+\n",
    "C(bp_judge)''',data = g_test)\n",
    "log_result = log_model.fit()\n",
    "print(log_result.summary())\n",
    "\n",
    "# 판정은 0 아니면 1 따라서, 스케일은 진행하지 X"
   ]
  },
  {
   "cell_type": "code",
   "execution_count": 51,
   "metadata": {},
   "outputs": [
    {
     "name": "stdout",
     "output_type": "stream",
     "text": [
      "select variables :  Index(['gender', 'height', 'whtr', 'bp_judge', 'pulse_count_judge'], dtype='object')\n",
      "removed variable :  Index(['age', 'bust', 'bmi', 'bp_min', 'bp_max', 'pulse_count', 'judge_score'], dtype='object')\n"
     ]
    }
   ],
   "source": [
    "df_y = g_test['risk']\n",
    "model = LinearRegression()\n",
    "rfe = RFE(estimator = model, n_features_to_select = 5).fit(df_x,df_y)\n",
    "# df_x는 다중 공선성으로 제거 후 남은 x인자만 존재\n",
    "selected_cols = df_x.columns[rfe.support_]\n",
    "removed_cols = df_x.columns[~rfe.support_]\n",
    "\n",
    "print(\"select variables : \",selected_cols)\n",
    "print(\"removed variable : \",removed_cols)"
   ]
  },
  {
   "cell_type": "code",
   "execution_count": 52,
   "metadata": {},
   "outputs": [
    {
     "name": "stdout",
     "output_type": "stream",
     "text": [
      "Warning: Maximum number of iterations has been exceeded.\n",
      "         Current function value: 0.349676\n",
      "         Iterations: 35\n",
      "                           Logit Regression Results                           \n",
      "==============================================================================\n",
      "Dep. Variable:                   risk   No. Observations:                  990\n",
      "Model:                          Logit   Df Residuals:                      984\n",
      "Method:                           MLE   Df Model:                            5\n",
      "Date:                Sun, 03 May 2020   Pseudo R-squ.:                 0.02653\n",
      "Time:                        21:49:44   Log-Likelihood:                -346.18\n",
      "converged:                      False   LL-Null:                       -355.61\n",
      "Covariance Type:            nonrobust   LLR p-value:                  0.002032\n",
      "=============================================================================================\n",
      "                                coef    std err          z      P>|z|      [0.025      0.975]\n",
      "---------------------------------------------------------------------------------------------\n",
      "Intercept                    13.5803      3.934      3.452      0.001       5.870      21.291\n",
      "C(gender)[T.2]               -1.2558      0.343     -3.659      0.000      -1.928      -0.583\n",
      "C(pulse_count_judge)[T.1]    16.7909   1.56e+04      0.001      0.999   -3.05e+04    3.05e+04\n",
      "C(bp_judge)[T.1]              0.1978      0.280      0.707      0.480      -0.351       0.746\n",
      "height                       -0.0480      0.020     -2.355      0.019      -0.088      -0.008\n",
      "whtr                         -6.1386      2.394     -2.564      0.010     -10.832      -1.445\n",
      "=============================================================================================\n"
     ]
    },
    {
     "name": "stderr",
     "output_type": "stream",
     "text": [
      "C:\\Users\\BHU\\anaconda3\\lib\\site-packages\\statsmodels\\base\\model.py:568: ConvergenceWarning: Maximum Likelihood optimization failed to converge. Check mle_retvals\n",
      "  \"Check mle_retvals\", ConvergenceWarning)\n"
     ]
    }
   ],
   "source": [
    "log_model = Logit.from_formula(''' risk ~ C(gender) + height\n",
    "+whtr+C(pulse_count_judge)+\n",
    "C(bp_judge)''',data = g_test)\n",
    "log_result = log_model.fit()\n",
    "print(log_result.summary())\n",
    "\n",
    "# 판정은 0 아니면 1 따라서, 스케일은 진행하지 X"
   ]
  },
  {
   "cell_type": "code",
   "execution_count": 53,
   "metadata": {},
   "outputs": [
    {
     "name": "stdout",
     "output_type": "stream",
     "text": [
      "Optimization terminated successfully.\n",
      "         Current function value: 0.350014\n",
      "         Iterations 7\n",
      "                           Logit Regression Results                           \n",
      "==============================================================================\n",
      "Dep. Variable:                   risk   No. Observations:                  990\n",
      "Model:                          Logit   Df Residuals:                      986\n",
      "Method:                           MLE   Df Model:                            3\n",
      "Date:                Sun, 03 May 2020   Pseudo R-squ.:                 0.02559\n",
      "Time:                        21:49:44   Log-Likelihood:                -346.51\n",
      "converged:                       True   LL-Null:                       -355.61\n",
      "Covariance Type:            nonrobust   LLR p-value:                 0.0003998\n",
      "==================================================================================\n",
      "                     coef    std err          z      P>|z|      [0.025      0.975]\n",
      "----------------------------------------------------------------------------------\n",
      "Intercept         13.7199      3.932      3.490      0.000       6.014      21.426\n",
      "C(gender)[T.2]    -1.2911      0.341     -3.787      0.000      -1.959      -0.623\n",
      "height            -0.0490      0.020     -2.412      0.016      -0.089      -0.009\n",
      "whtr              -5.9350      2.365     -2.509      0.012     -10.571      -1.299\n",
      "==================================================================================\n"
     ]
    }
   ],
   "source": [
    "log_model = Logit.from_formula(''' risk ~ C(gender) + height\n",
    "+whtr''',data = g_test)\n",
    "log_result = log_model.fit()\n",
    "print(log_result.summary())\n",
    "\n",
    "# 판정은 0 아니면 1 따라서, 스케일은 진행하지 X"
   ]
  },
  {
   "cell_type": "code",
   "execution_count": 54,
   "metadata": {},
   "outputs": [
    {
     "name": "stdout",
     "output_type": "stream",
     "text": [
      "Optimization terminated successfully.\n",
      "         Current function value: 0.345583\n",
      "         Iterations 7\n",
      "                           Logit Regression Results                           \n",
      "==============================================================================\n",
      "Dep. Variable:                   risk   No. Observations:                  990\n",
      "Model:                          Logit   Df Residuals:                      986\n",
      "Method:                           MLE   Df Model:                            3\n",
      "Date:                Sun, 03 May 2020   Pseudo R-squ.:                 0.03793\n",
      "Time:                        21:49:45   Log-Likelihood:                -342.13\n",
      "converged:                       True   LL-Null:                       -355.61\n",
      "Covariance Type:            nonrobust   LLR p-value:                 5.958e-06\n",
      "==================================================================================\n",
      "                     coef    std err          z      P>|z|      [0.025      0.975]\n",
      "----------------------------------------------------------------------------------\n",
      "Intercept         15.9572      3.975      4.015      0.000       8.167      23.747\n",
      "C(gender)[T.2]    -1.4190      0.344     -4.125      0.000      -2.093      -0.745\n",
      "age               -0.0423      0.012     -3.648      0.000      -0.065      -0.020\n",
      "height            -0.0670      0.022     -3.083      0.002      -0.110      -0.024\n",
      "==================================================================================\n"
     ]
    }
   ],
   "source": [
    "log_model = Logit.from_formula(''' risk ~ C(gender) + age + height \n",
    "''',data = g_test)\n",
    "log_result = log_model.fit()\n",
    "print(log_result.summary())\n",
    "\n",
    "# 로지스틱 2"
   ]
  },
  {
   "cell_type": "markdown",
   "metadata": {},
   "source": [
    "# Case 정리\n",
    "\n",
    "- 파라미터 설정 X (컨퓨전 분류 X)\n",
    "- scale 모델 사용 X (컨퓨전 분류 X)\n",
    "\n",
    "### 정확도 / 정밀도 / 재현도_GB모델\n",
    "\n",
    "- 검정 : 'age', 'gender', 0.869, 컨퓨전 x\n",
    "- 로지스틱 : 'gender','height','whtr', 0.828 / 0.866 / 0.95\n",
    "- 후진제거법 : 'gender', 'height', 'whtr', 'bp_judge', 'pulse_count_judge' 0.825 / 0.866 / recall 0.946\n",
    "- 로지스틱 2 : 'gender' , 'age' , 'height' 0.862 / 0.87 / 0.988\n",
    "\n",
    "### 정확도 / 정밀도 / 재현도_RF모델\n",
    "\n",
    "- 검정 : 'age', 'gender', 0.869, 컨퓨전 x\n",
    "- 로지스틱 : 'gender','height','whtr', 0.828 / 0.866 / 0.95\n",
    "- 후진제거법 : 'gender', 'height', 'whtr', 'bp_judge', 'pulse_count_judge' 0.828 / 0.865 / recall 0.946\n",
    "- 로지스틱 2 : 'gender' , 'age' , 'height' 0.862 / 0.87 / 0.988\n",
    "- 'gender','age','height','whtr','bmi' 0.862 / 0.871 / 0.992 -> 선택(정밀도 높은 모델)"
   ]
  },
  {
   "cell_type": "code",
   "execution_count": 56,
   "metadata": {},
   "outputs": [],
   "source": [
    "ensem_x = g_test[['gender','age','height','whtr','bmi']]\n",
    "ensem_y = g_test[['risk']]\n",
    "\n",
    "# ensem_x = pd.get_dummies(ensem_x)\n",
    "\n",
    "# scaler = StandardScaler()\n",
    "# en_sc = scaler.fit_transform(ensem_x)\n",
    "# ensem_x = pd.DataFrame(en_sc,columns=ensem_x.columns)\n",
    "\n",
    "# 데이터 분할 1 : 학습용과 시험용\n",
    "\n",
    "train_x, test_x, train_y, test_y = train_test_split(ensem_x,ensem_y,test_size=0.3,random_state = 1234)\n",
    "# 학습용 데이터를 밸리데이션과 학습용으로 분할함으로써 CV진행 준비\n",
    "train_x, val_x, train_y, val_y = train_test_split(train_x,train_y,test_size = 3/7, random_state = 1234)"
   ]
  },
  {
   "cell_type": "code",
   "execution_count": 62,
   "metadata": {},
   "outputs": [
    {
     "name": "stderr",
     "output_type": "stream",
     "text": [
      "C:\\Users\\BHU\\anaconda3\\lib\\site-packages\\ipykernel_launcher.py:2: DataConversionWarning: A column-vector y was passed when a 1d array was expected. Please change the shape of y to (n_samples,), for example using ravel().\n",
      "  \n"
     ]
    },
    {
     "name": "stdout",
     "output_type": "stream",
     "text": [
      "\n",
      "초기 모델의 train data의 설명력 : 1.000\n",
      "초기 모델의 validation data의 설명력 : 0.889\n",
      "초기 모델의 test data의 설명력 : 0.865\n"
     ]
    }
   ],
   "source": [
    "gb_first = RandomForestClassifier(random_state=1234)\n",
    "gb_first.fit(train_x,train_y)\n",
    "\n",
    "print()\n",
    "print('초기 모델의 train data의 설명력 : {:.3f}'.format(gb_first.score(train_x,train_y)))\n",
    "print('초기 모델의 validation data의 설명력 : {:.3f}'.format(gb_first.score(val_x,val_y)))\n",
    "print('초기 모델의 test data의 설명력 : {:.3f}'.format(gb_first.score(test_x,test_y)))"
   ]
  },
  {
   "cell_type": "code",
   "execution_count": 63,
   "metadata": {},
   "outputs": [
    {
     "name": "stdout",
     "output_type": "stream",
     "text": [
      "Accuracy:0.865\n",
      "\n",
      "Confusion matrix:\n",
      "[[  1  38]\n",
      " [  2 256]]\n"
     ]
    },
    {
     "name": "stderr",
     "output_type": "stream",
     "text": [
      "C:\\Users\\BHU\\anaconda3\\lib\\site-packages\\ipykernel_launcher.py:20: DataConversionWarning: A column-vector y was passed when a 1d array was expected. Please change the shape of y to (n_samples,), for example using ravel().\n"
     ]
    },
    {
     "data": {
      "text/html": [
       "<div>\n",
       "<style scoped>\n",
       "    .dataframe tbody tr th:only-of-type {\n",
       "        vertical-align: middle;\n",
       "    }\n",
       "\n",
       "    .dataframe tbody tr th {\n",
       "        vertical-align: top;\n",
       "    }\n",
       "\n",
       "    .dataframe thead th {\n",
       "        text-align: right;\n",
       "    }\n",
       "</style>\n",
       "<table border=\"1\" class=\"dataframe\">\n",
       "  <thead>\n",
       "    <tr style=\"text-align: right;\">\n",
       "      <th></th>\n",
       "      <th>TrainAccuracy</th>\n",
       "      <th>TestAccuracy</th>\n",
       "      <th>F1Score</th>\n",
       "      <th>AUC</th>\n",
       "      <th>PrecisionScore</th>\n",
       "      <th>RecallScore</th>\n",
       "    </tr>\n",
       "  </thead>\n",
       "  <tbody>\n",
       "    <tr>\n",
       "      <th>GradientBoosting</th>\n",
       "      <td>1.0</td>\n",
       "      <td>0.865</td>\n",
       "      <td>0.928</td>\n",
       "      <td>0.509</td>\n",
       "      <td>0.871</td>\n",
       "      <td>0.992</td>\n",
       "    </tr>\n",
       "  </tbody>\n",
       "</table>\n",
       "</div>"
      ],
      "text/plain": [
       "                  TrainAccuracy  TestAccuracy  F1Score    AUC  PrecisionScore  \\\n",
       "GradientBoosting            1.0         0.865    0.928  0.509           0.871   \n",
       "\n",
       "                  RecallScore  \n",
       "GradientBoosting        0.992  "
      ]
     },
     "execution_count": 63,
     "metadata": {},
     "output_type": "execute_result"
    }
   ],
   "source": [
    "y_pred=gb_first.predict(test_x)\n",
    "print('Accuracy:{0:.3f}\\n'.format(gb_first.score(test_x,test_y)))\n",
    "print('Confusion matrix:\\n{}'.format(confusion_matrix(test_y,y_pred)))\n",
    "\n",
    "#분석 모델\n",
    "model=['GradientBoosting']\n",
    "#정확도 저장\n",
    "train_accuracy=[]; test_accuracy=[]\n",
    "#f1 score 저장\n",
    "model_f1_score=[]\n",
    "#auc score 저장\n",
    "model_auc=[]\n",
    "#precision score저장\n",
    "model_precision_score=[]\n",
    "#recall score 저장\n",
    "model_recall_score=[]\n",
    "\n",
    "#최종 모델\n",
    "gb_model=RandomForestClassifier(random_state=1234)\n",
    "gb_model.fit(train_x,train_y)\n",
    "# train 정확도\n",
    "train_accuracy.append(gb_model.score(train_x, train_y))\n",
    "# test 정확도\n",
    "test_accuracy.append(gb_model.score(test_x, test_y))\n",
    "#최종 모델을 이용한 분류 예측\n",
    "y_pred=gb_model.predict(test_x)\n",
    "#roc_curve(실제값,예측값) fpr=(FP)/(FP+TN):거짓 양성 비율, tpr=TP/(TP+FN):진짜 양성비율(재현율)\n",
    "fpr,tpr,thresholds=roc_curve(test_y,y_pred)\n",
    "roc_auc=auc(fpr,tpr)\n",
    "#auc 저장\n",
    "model_auc.append(roc_auc)\n",
    "\n",
    "#f1스코어\n",
    "model_f1_score.append(f1_score(test_y,y_pred))\n",
    "#precision 스코어\n",
    "model_precision_score.append(precision_score(test_y,y_pred))\n",
    "#recall 스코어\n",
    "model_recall_score.append(recall_score(test_y,y_pred))\n",
    "\n",
    "df_eval=pd.DataFrame(index=model)\n",
    "df_eval['TrainAccuracy']=train_accuracy\n",
    "df_eval['TestAccuracy']=test_accuracy\n",
    "df_eval['F1Score']=model_f1_score\n",
    "df_eval['AUC']=model_auc\n",
    "df_eval['PrecisionScore']=model_precision_score\n",
    "df_eval['RecallScore']=model_recall_score\n",
    "df_eval.round(3)"
   ]
  },
  {
   "cell_type": "markdown",
   "metadata": {},
   "source": [
    "정밀도 고려 : 최종 변수 선택 'gender','age','height','whtr','bmi'"
   ]
  },
  {
   "cell_type": "markdown",
   "metadata": {},
   "source": [
    "## 거절 고객 분류"
   ]
  },
  {
   "cell_type": "code",
   "execution_count": 69,
   "metadata": {},
   "outputs": [],
   "source": [
    "df_raw = pd.read_csv('insu_pre_review.csv',encoding='euckr')\n",
    "df_test = df_raw[df_raw['judge']=='거절']\n",
    "df_test = df_test[df_test['review_cat'] != '혈액검사']\n",
    "df_reject = df_test[['gender','age','height','whtr','bmi']]\n",
    "\n",
    "# df_reject = pd.get_dummies(df_reject)\n",
    "# en_sc_2 = scaler.fit_transform(df_reject)\n",
    "# df_reject = pd.DataFrame(en_sc_2,columns=df_reject.columns)"
   ]
  },
  {
   "cell_type": "code",
   "execution_count": 70,
   "metadata": {},
   "outputs": [
    {
     "name": "stderr",
     "output_type": "stream",
     "text": [
      "C:\\Users\\BHU\\anaconda3\\lib\\site-packages\\ipykernel_launcher.py:2: SettingWithCopyWarning: \n",
      "A value is trying to be set on a copy of a slice from a DataFrame.\n",
      "Try using .loc[row_indexer,col_indexer] = value instead\n",
      "\n",
      "See the caveats in the documentation: https://pandas.pydata.org/pandas-docs/stable/user_guide/indexing.html#returning-a-view-versus-a-copy\n",
      "  \n",
      "C:\\Users\\BHU\\anaconda3\\lib\\site-packages\\ipykernel_launcher.py:3: SettingWithCopyWarning: \n",
      "A value is trying to be set on a copy of a slice from a DataFrame.\n",
      "Try using .loc[row_indexer,col_indexer] = value instead\n",
      "\n",
      "See the caveats in the documentation: https://pandas.pydata.org/pandas-docs/stable/user_guide/indexing.html#returning-a-view-versus-a-copy\n",
      "  This is separate from the ipykernel package so we can avoid doing imports until\n"
     ]
    }
   ],
   "source": [
    "pred = gb_first.predict(df_reject)\n",
    "df_reject['risk'] = pred\n",
    "df_reject['customer_id'] = df_test['customer_id']"
   ]
  },
  {
   "cell_type": "code",
   "execution_count": 71,
   "metadata": {},
   "outputs": [
    {
     "data": {
      "text/html": [
       "<div>\n",
       "<style scoped>\n",
       "    .dataframe tbody tr th:only-of-type {\n",
       "        vertical-align: middle;\n",
       "    }\n",
       "\n",
       "    .dataframe tbody tr th {\n",
       "        vertical-align: top;\n",
       "    }\n",
       "\n",
       "    .dataframe thead th {\n",
       "        text-align: right;\n",
       "    }\n",
       "</style>\n",
       "<table border=\"1\" class=\"dataframe\">\n",
       "  <thead>\n",
       "    <tr style=\"text-align: right;\">\n",
       "      <th></th>\n",
       "      <th>gender</th>\n",
       "      <th>age</th>\n",
       "      <th>height</th>\n",
       "      <th>whtr</th>\n",
       "      <th>bmi</th>\n",
       "      <th>customer_id</th>\n",
       "    </tr>\n",
       "    <tr>\n",
       "      <th>risk</th>\n",
       "      <th></th>\n",
       "      <th></th>\n",
       "      <th></th>\n",
       "      <th></th>\n",
       "      <th></th>\n",
       "      <th></th>\n",
       "    </tr>\n",
       "  </thead>\n",
       "  <tbody>\n",
       "    <tr>\n",
       "      <th>0.0</th>\n",
       "      <td>7</td>\n",
       "      <td>7</td>\n",
       "      <td>7</td>\n",
       "      <td>7</td>\n",
       "      <td>7</td>\n",
       "      <td>7</td>\n",
       "    </tr>\n",
       "    <tr>\n",
       "      <th>1.0</th>\n",
       "      <td>476</td>\n",
       "      <td>476</td>\n",
       "      <td>476</td>\n",
       "      <td>476</td>\n",
       "      <td>476</td>\n",
       "      <td>476</td>\n",
       "    </tr>\n",
       "  </tbody>\n",
       "</table>\n",
       "</div>"
      ],
      "text/plain": [
       "      gender  age  height  whtr  bmi  customer_id\n",
       "risk                                             \n",
       "0.0        7    7       7     7    7            7\n",
       "1.0      476  476     476   476  476          476"
      ]
     },
     "execution_count": 71,
     "metadata": {},
     "output_type": "execute_result"
    }
   ],
   "source": [
    "df_reject.groupby('risk').count()"
   ]
  },
  {
   "cell_type": "markdown",
   "metadata": {},
   "source": [
    "### 총 수익 고객 4명, 위험 고객 479명 -> 일반 검사 기준\n",
    "### 위험 고객은 2분류 이동, 저위험 고위험으로 분류\n",
    "\n",
    "- 최대한 정확도, 정밀도가 높은 변수 선정 -> 일반검사는 정보가 부족, 엄격하게!"
   ]
  },
  {
   "cell_type": "code",
   "execution_count": 72,
   "metadata": {},
   "outputs": [],
   "source": [
    "# 데이터 내보내기\n",
    "\n",
    "df_profit = df_reject[df_reject['risk'] == 0][['customer_id','risk']]\n",
    "df_danger = df_reject[df_reject['risk'] == 1][['customer_id','risk']]\n",
    "\n",
    "df_profit.to_csv('profit_reject_g.csv',encoding='euckr')\n",
    "df_danger.to_csv('danger_reject_g.csv',encoding='euckr')"
   ]
  },
  {
   "cell_type": "code",
   "execution_count": null,
   "metadata": {},
   "outputs": [],
   "source": []
  }
 ],
 "metadata": {
  "kernelspec": {
   "display_name": "Python 3",
   "language": "python",
   "name": "python3"
  },
  "language_info": {
   "codemirror_mode": {
    "name": "ipython",
    "version": 3
   },
   "file_extension": ".py",
   "mimetype": "text/x-python",
   "name": "python",
   "nbconvert_exporter": "python",
   "pygments_lexer": "ipython3",
   "version": "3.7.6"
  }
 },
 "nbformat": 4,
 "nbformat_minor": 4
}
