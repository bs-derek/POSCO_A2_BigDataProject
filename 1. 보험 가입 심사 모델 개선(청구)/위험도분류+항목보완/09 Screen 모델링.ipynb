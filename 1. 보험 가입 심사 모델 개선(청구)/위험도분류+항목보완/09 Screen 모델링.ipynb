{
 "cells": [
  {
   "cell_type": "code",
   "execution_count": 1,
   "metadata": {},
   "outputs": [],
   "source": [
    "import pandas as pd\n",
    "import numpy as np\n",
    "# import pydot\n",
    "\n",
    "import matplotlib.pyplot as plt\n",
    "import matplotlib\n",
    "import seaborn as sns\n",
    "from sklearn.model_selection import train_test_split\n",
    "\n",
    "import statsmodels.formula.api as smf\n",
    "from sklearn.tree import DecisionTreeRegressor\n",
    "from sklearn.ensemble import RandomForestRegressor\n",
    "from sklearn.ensemble import GradientBoostingRegressor\n",
    "\n",
    "from sklearn.metrics import mean_squared_error\n",
    "from sklearn.metrics import mean_absolute_error\n",
    "\n",
    "from sklearn.tree import DecisionTreeClassifier\n",
    "from sklearn.ensemble import RandomForestClassifier\n",
    "from sklearn.ensemble import GradientBoostingClassifier\n",
    "from sklearn.neural_network import MLPClassifier\n",
    "\n",
    "from sklearn.svm import SVC\n",
    "\n",
    "from sklearn.metrics import f1_score,roc_curve,auc,precision_score,recall_score\n",
    "\n",
    "from sklearn.metrics import confusion_matrix\n",
    "\n",
    "import seaborn as sns\n",
    "from scipy import stats\n",
    "import scipy.stats\n",
    "import statsmodels.api as smd\n",
    "from statsmodels.stats.proportion import proportions_ztest\n",
    "\n",
    "# 가설검정, 분산분석하는 패키지\n",
    "from statsmodels.formula.api import ols # 분산분석하기? 모델링?\n",
    "from statsmodels.stats.anova import anova_lm # 아노바 데이터프레임 형태 출력\n",
    "from scipy.stats import shapiro\n",
    "%matplotlib inline\n",
    "from sklearn.preprocessing import scale,minmax_scale,robust_scale\n",
    "from scipy.stats import probplot\n",
    "from sklearn.model_selection import train_test_split\n",
    "from statsmodels.api import Logit\n",
    "\n",
    "# font_path = 'C:/Windows/Fonts/gulim.ttc'\n",
    "font_path = 'C:/Windows/Fonts/gulim.ttc'\n",
    "font_name = matplotlib.font_manager.FontProperties(fname=font_path).get_name()\n",
    "matplotlib.rc('font', family = font_name)\n",
    "\n",
    "from matplotlib import font_manager,rc\n",
    "\n",
    "from statsmodels.stats.outliers_influence import variance_inflation_factor\n",
    "from sklearn.linear_model import LinearRegression\n",
    "from sklearn.feature_selection import RFE\n",
    "from sklearn.preprocessing import StandardScaler\n",
    "from statsmodels.api import qqplot, add_constant\n",
    "\n",
    "# from sklearn.tree import export_graphviz\n",
    "# import graphviz\n",
    "\n",
    "from sklearn.metrics import mean_squared_error\n",
    "from sklearn.metrics import mean_absolute_error\n",
    "import numpy as np\n",
    "# import pydot\n",
    "\n",
    "import matplotlib.pyplot as plt\n",
    "import matplotlib\n",
    "import seaborn as sns\n",
    "from sklearn.model_selection import train_test_split\n",
    "\n",
    "import statsmodels.formula.api as smf\n",
    "from sklearn.tree import DecisionTreeRegressor\n",
    "from sklearn.ensemble import RandomForestRegressor\n",
    "from sklearn.ensemble import GradientBoostingRegressor\n",
    "\n",
    "from sklearn.metrics import mean_squared_error\n",
    "from sklearn.metrics import mean_absolute_error\n",
    "\n",
    "from sklearn.tree import DecisionTreeClassifier\n",
    "from sklearn.ensemble import RandomForestClassifier\n",
    "from sklearn.ensemble import GradientBoostingClassifier\n",
    "from sklearn.neural_network import MLPClassifier\n",
    "\n",
    "from sklearn.svm import SVC\n",
    "\n",
    "from sklearn.metrics import f1_score,roc_curve,auc,precision_score,recall_score\n",
    "\n",
    "from sklearn.metrics import confusion_matrix\n",
    "\n",
    "import seaborn as sns\n",
    "from scipy import stats\n",
    "import scipy.stats\n",
    "import statsmodels.api as smd\n",
    "from statsmodels.stats.proportion import proportions_ztest\n",
    "\n",
    "# 가설검정, 분산분석하는 패키지\n",
    "from statsmodels.formula.api import ols # 분산분석하기? 모델링?\n",
    "from statsmodels.stats.anova import anova_lm # 아노바 데이터프레임 형태 출력\n",
    "from scipy.stats import shapiro\n",
    "%matplotlib inline\n",
    "from sklearn.preprocessing import scale,minmax_scale,robust_scale\n",
    "from scipy.stats import probplot\n",
    "from sklearn.model_selection import train_test_split\n",
    "from statsmodels.api import Logit\n",
    "\n",
    "# # font_path = 'C:/Windows/Fonts/gulim.ttc'\n",
    "# font_path = '/usr/share/fonts/opentype/noto/NotoSerifCJK-ExtraLight.ttc'\n",
    "# font_name = matplotlib.font_manager.FontProperties(fname=font_path).get_name()\n",
    "# matplotlib.rc('font', family = font_name)\n",
    "\n",
    "from matplotlib import font_manager,rc\n",
    "\n",
    "from statsmodels.stats.outliers_influence import variance_inflation_factor\n",
    "from sklearn.linear_model import LinearRegression\n",
    "from sklearn.feature_selection import RFE\n",
    "from sklearn.preprocessing import StandardScaler\n",
    "from statsmodels.api import qqplot, add_constant\n",
    "\n",
    "# from sklearn.tree import export_graphviz\n",
    "# import graphviz\n",
    "\n",
    "from sklearn.metrics import mean_squared_error\n",
    "from sklearn.metrics import mean_absolute_error"
   ]
  },
  {
   "cell_type": "code",
   "execution_count": 24,
   "metadata": {},
   "outputs": [
    {
     "name": "stderr",
     "output_type": "stream",
     "text": [
      "C:\\Users\\BHU\\anaconda3\\lib\\site-packages\\IPython\\core\\interactiveshell.py:3063: DtypeWarning: Columns (24) have mixed types.Specify dtype option on import or set low_memory=False.\n",
      "  interactivity=interactivity, compiler=compiler, result=result)\n"
     ]
    }
   ],
   "source": [
    "join_1 = pd.read_csv('result_1.csv',encoding='euckr')[['risk','index']]\n",
    "join_2 = pd.read_csv('result_2.csv',encoding='euckr')[['n_risk','index']]\n",
    "raw = pd.read_csv('raw_screen.csv',encoding='euckr')\n",
    "raw_2 = pd.read_csv('screen_1.csv',encoding='euckr')"
   ]
  },
  {
   "cell_type": "markdown",
   "metadata": {},
   "source": [
    "# 1분류 기준"
   ]
  },
  {
   "cell_type": "markdown",
   "metadata": {},
   "source": [
    "'bt_chol','bp_judge','bt_gluc_judge','bt_mchc_judge','gender'"
   ]
  },
  {
   "cell_type": "code",
   "execution_count": 25,
   "metadata": {},
   "outputs": [],
   "source": [
    "raw = raw[['eyesight_left',\n",
    "       'eyesight_right', 'hearing_left', 'hearing_right','index']]"
   ]
  },
  {
   "cell_type": "code",
   "execution_count": 26,
   "metadata": {},
   "outputs": [
    {
     "data": {
      "text/html": [
       "<div>\n",
       "<style scoped>\n",
       "    .dataframe tbody tr th:only-of-type {\n",
       "        vertical-align: middle;\n",
       "    }\n",
       "\n",
       "    .dataframe tbody tr th {\n",
       "        vertical-align: top;\n",
       "    }\n",
       "\n",
       "    .dataframe thead th {\n",
       "        text-align: right;\n",
       "    }\n",
       "</style>\n",
       "<table border=\"1\" class=\"dataframe\">\n",
       "  <thead>\n",
       "    <tr style=\"text-align: right;\">\n",
       "      <th></th>\n",
       "      <th>eyesight_left</th>\n",
       "      <th>eyesight_right</th>\n",
       "      <th>hearing_left</th>\n",
       "      <th>hearing_right</th>\n",
       "      <th>index</th>\n",
       "    </tr>\n",
       "  </thead>\n",
       "  <tbody>\n",
       "    <tr>\n",
       "      <th>0</th>\n",
       "      <td>1</td>\n",
       "      <td>1</td>\n",
       "      <td>1</td>\n",
       "      <td>1</td>\n",
       "      <td>11565</td>\n",
       "    </tr>\n",
       "    <tr>\n",
       "      <th>1</th>\n",
       "      <td>1</td>\n",
       "      <td>1</td>\n",
       "      <td>1</td>\n",
       "      <td>1</td>\n",
       "      <td>23186</td>\n",
       "    </tr>\n",
       "    <tr>\n",
       "      <th>2</th>\n",
       "      <td>1</td>\n",
       "      <td>1</td>\n",
       "      <td>1</td>\n",
       "      <td>1</td>\n",
       "      <td>127414</td>\n",
       "    </tr>\n",
       "    <tr>\n",
       "      <th>3</th>\n",
       "      <td>1</td>\n",
       "      <td>2</td>\n",
       "      <td>1</td>\n",
       "      <td>1</td>\n",
       "      <td>35119</td>\n",
       "    </tr>\n",
       "    <tr>\n",
       "      <th>4</th>\n",
       "      <td>2</td>\n",
       "      <td>2</td>\n",
       "      <td>1</td>\n",
       "      <td>1</td>\n",
       "      <td>50103</td>\n",
       "    </tr>\n",
       "    <tr>\n",
       "      <th>...</th>\n",
       "      <td>...</td>\n",
       "      <td>...</td>\n",
       "      <td>...</td>\n",
       "      <td>...</td>\n",
       "      <td>...</td>\n",
       "    </tr>\n",
       "    <tr>\n",
       "      <th>35464</th>\n",
       "      <td>1</td>\n",
       "      <td>1</td>\n",
       "      <td>1</td>\n",
       "      <td>1</td>\n",
       "      <td>22859</td>\n",
       "    </tr>\n",
       "    <tr>\n",
       "      <th>35465</th>\n",
       "      <td>2</td>\n",
       "      <td>1</td>\n",
       "      <td>1</td>\n",
       "      <td>1</td>\n",
       "      <td>51068</td>\n",
       "    </tr>\n",
       "    <tr>\n",
       "      <th>35466</th>\n",
       "      <td>0</td>\n",
       "      <td>0</td>\n",
       "      <td>1</td>\n",
       "      <td>1</td>\n",
       "      <td>171938</td>\n",
       "    </tr>\n",
       "    <tr>\n",
       "      <th>35467</th>\n",
       "      <td>2</td>\n",
       "      <td>2</td>\n",
       "      <td>1</td>\n",
       "      <td>1</td>\n",
       "      <td>121319</td>\n",
       "    </tr>\n",
       "    <tr>\n",
       "      <th>35468</th>\n",
       "      <td>1</td>\n",
       "      <td>1</td>\n",
       "      <td>1</td>\n",
       "      <td>1</td>\n",
       "      <td>424</td>\n",
       "    </tr>\n",
       "  </tbody>\n",
       "</table>\n",
       "<p>35469 rows × 5 columns</p>\n",
       "</div>"
      ],
      "text/plain": [
       "      eyesight_left eyesight_right hearing_left hearing_right   index\n",
       "0                1              1            1             1    11565\n",
       "1                1              1            1             1    23186\n",
       "2                1              1            1             1   127414\n",
       "3                1              2            1             1    35119\n",
       "4                2              2            1             1    50103\n",
       "...             ...            ...          ...           ...     ...\n",
       "35464            1              1            1             1    22859\n",
       "35465            2              1            1             1    51068\n",
       "35466            0              0            1             1   171938\n",
       "35467            2              2            1             1   121319\n",
       "35468            1              1            1             1      424\n",
       "\n",
       "[35469 rows x 5 columns]"
      ]
     },
     "execution_count": 26,
     "metadata": {},
     "output_type": "execute_result"
    }
   ],
   "source": [
    "raw"
   ]
  },
  {
   "cell_type": "code",
   "execution_count": 27,
   "metadata": {},
   "outputs": [
    {
     "data": {
      "text/plain": [
       "Index(['risk', 'index', 'Unnamed: 0', 'bp_max', 'bp_min', 'bp_gluc', 'bt_mch',\n",
       "       'bt_chol', 'gender', 'smoke_flag', 'drinking_flag', 'bp_judge',\n",
       "       'bt_gluc_judge', 'bt_mchc_judge', 'eyesight_left', 'eyesight_right',\n",
       "       'hearing_left', 'hearing_right'],\n",
       "      dtype='object')"
      ]
     },
     "execution_count": 27,
     "metadata": {},
     "output_type": "execute_result"
    }
   ],
   "source": [
    "cl_1 = pd.merge(join_1,raw_2,on='index',how='left')\n",
    "cl_1 = pd.merge(cl_1,raw,on='index',how='left')\n",
    "cl_1.columns"
   ]
  },
  {
   "cell_type": "code",
   "execution_count": 28,
   "metadata": {},
   "outputs": [
    {
     "data": {
      "text/html": [
       "<div>\n",
       "<style scoped>\n",
       "    .dataframe tbody tr th:only-of-type {\n",
       "        vertical-align: middle;\n",
       "    }\n",
       "\n",
       "    .dataframe tbody tr th {\n",
       "        vertical-align: top;\n",
       "    }\n",
       "\n",
       "    .dataframe thead th {\n",
       "        text-align: right;\n",
       "    }\n",
       "</style>\n",
       "<table border=\"1\" class=\"dataframe\">\n",
       "  <thead>\n",
       "    <tr style=\"text-align: right;\">\n",
       "      <th></th>\n",
       "      <th>risk</th>\n",
       "      <th>eyesight_left</th>\n",
       "      <th>eyesight_right</th>\n",
       "      <th>hearing_left</th>\n",
       "      <th>hearing_right</th>\n",
       "      <th>smoke_flag</th>\n",
       "      <th>drinking_flag</th>\n",
       "      <th>bt_chol</th>\n",
       "      <th>bp_judge</th>\n",
       "      <th>bt_gluc_judge</th>\n",
       "      <th>bt_mchc_judge</th>\n",
       "      <th>gender</th>\n",
       "    </tr>\n",
       "  </thead>\n",
       "  <tbody>\n",
       "    <tr>\n",
       "      <th>0</th>\n",
       "      <td>1.0</td>\n",
       "      <td>1</td>\n",
       "      <td>1</td>\n",
       "      <td>1</td>\n",
       "      <td>1</td>\n",
       "      <td>1.0</td>\n",
       "      <td>0.0</td>\n",
       "      <td>197.0</td>\n",
       "      <td>0</td>\n",
       "      <td>0</td>\n",
       "      <td>0</td>\n",
       "      <td>1.0</td>\n",
       "    </tr>\n",
       "    <tr>\n",
       "      <th>1</th>\n",
       "      <td>1.0</td>\n",
       "      <td>1</td>\n",
       "      <td>1</td>\n",
       "      <td>1</td>\n",
       "      <td>1</td>\n",
       "      <td>1.0</td>\n",
       "      <td>0.0</td>\n",
       "      <td>229.0</td>\n",
       "      <td>0</td>\n",
       "      <td>0</td>\n",
       "      <td>0</td>\n",
       "      <td>1.0</td>\n",
       "    </tr>\n",
       "    <tr>\n",
       "      <th>2</th>\n",
       "      <td>1.0</td>\n",
       "      <td>1</td>\n",
       "      <td>1</td>\n",
       "      <td>1</td>\n",
       "      <td>1</td>\n",
       "      <td>1.0</td>\n",
       "      <td>0.0</td>\n",
       "      <td>196.0</td>\n",
       "      <td>1</td>\n",
       "      <td>0</td>\n",
       "      <td>0</td>\n",
       "      <td>1.0</td>\n",
       "    </tr>\n",
       "    <tr>\n",
       "      <th>3</th>\n",
       "      <td>1.0</td>\n",
       "      <td>1</td>\n",
       "      <td>2</td>\n",
       "      <td>1</td>\n",
       "      <td>1</td>\n",
       "      <td>3.0</td>\n",
       "      <td>1.0</td>\n",
       "      <td>180.0</td>\n",
       "      <td>1</td>\n",
       "      <td>0</td>\n",
       "      <td>0</td>\n",
       "      <td>1.0</td>\n",
       "    </tr>\n",
       "    <tr>\n",
       "      <th>4</th>\n",
       "      <td>1.0</td>\n",
       "      <td>1</td>\n",
       "      <td>1</td>\n",
       "      <td>1</td>\n",
       "      <td>1</td>\n",
       "      <td>2.0</td>\n",
       "      <td>0.0</td>\n",
       "      <td>212.0</td>\n",
       "      <td>1</td>\n",
       "      <td>0</td>\n",
       "      <td>0</td>\n",
       "      <td>1.0</td>\n",
       "    </tr>\n",
       "    <tr>\n",
       "      <th>...</th>\n",
       "      <td>...</td>\n",
       "      <td>...</td>\n",
       "      <td>...</td>\n",
       "      <td>...</td>\n",
       "      <td>...</td>\n",
       "      <td>...</td>\n",
       "      <td>...</td>\n",
       "      <td>...</td>\n",
       "      <td>...</td>\n",
       "      <td>...</td>\n",
       "      <td>...</td>\n",
       "      <td>...</td>\n",
       "    </tr>\n",
       "    <tr>\n",
       "      <th>35416</th>\n",
       "      <td>1.0</td>\n",
       "      <td>1</td>\n",
       "      <td>1</td>\n",
       "      <td>1</td>\n",
       "      <td>1</td>\n",
       "      <td>1.0</td>\n",
       "      <td>0.0</td>\n",
       "      <td>195.0</td>\n",
       "      <td>0</td>\n",
       "      <td>0</td>\n",
       "      <td>0</td>\n",
       "      <td>2.0</td>\n",
       "    </tr>\n",
       "    <tr>\n",
       "      <th>35417</th>\n",
       "      <td>1.0</td>\n",
       "      <td>1</td>\n",
       "      <td>1</td>\n",
       "      <td>1</td>\n",
       "      <td>1</td>\n",
       "      <td>1.0</td>\n",
       "      <td>0.0</td>\n",
       "      <td>224.0</td>\n",
       "      <td>0</td>\n",
       "      <td>1</td>\n",
       "      <td>0</td>\n",
       "      <td>2.0</td>\n",
       "    </tr>\n",
       "    <tr>\n",
       "      <th>35418</th>\n",
       "      <td>1.0</td>\n",
       "      <td>1</td>\n",
       "      <td>1</td>\n",
       "      <td>1</td>\n",
       "      <td>1</td>\n",
       "      <td>1.0</td>\n",
       "      <td>0.0</td>\n",
       "      <td>194.0</td>\n",
       "      <td>0</td>\n",
       "      <td>1</td>\n",
       "      <td>0</td>\n",
       "      <td>2.0</td>\n",
       "    </tr>\n",
       "    <tr>\n",
       "      <th>35419</th>\n",
       "      <td>1.0</td>\n",
       "      <td>2</td>\n",
       "      <td>1</td>\n",
       "      <td>1</td>\n",
       "      <td>1</td>\n",
       "      <td>1.0</td>\n",
       "      <td>0.0</td>\n",
       "      <td>241.0</td>\n",
       "      <td>0</td>\n",
       "      <td>0</td>\n",
       "      <td>0</td>\n",
       "      <td>2.0</td>\n",
       "    </tr>\n",
       "    <tr>\n",
       "      <th>35420</th>\n",
       "      <td>1.0</td>\n",
       "      <td>1</td>\n",
       "      <td>1</td>\n",
       "      <td>1</td>\n",
       "      <td>1</td>\n",
       "      <td>1.0</td>\n",
       "      <td>0.0</td>\n",
       "      <td>190.0</td>\n",
       "      <td>0</td>\n",
       "      <td>0</td>\n",
       "      <td>0</td>\n",
       "      <td>2.0</td>\n",
       "    </tr>\n",
       "  </tbody>\n",
       "</table>\n",
       "<p>35421 rows × 12 columns</p>\n",
       "</div>"
      ],
      "text/plain": [
       "       risk eyesight_left eyesight_right hearing_left hearing_right  \\\n",
       "0       1.0            1              1            1             1    \n",
       "1       1.0            1              1            1             1    \n",
       "2       1.0            1              1            1             1    \n",
       "3       1.0            1              2            1             1    \n",
       "4       1.0            1              1            1             1    \n",
       "...     ...           ...            ...          ...           ...   \n",
       "35416   1.0            1              1            1             1    \n",
       "35417   1.0            1              1            1             1    \n",
       "35418   1.0            1              1            1             1    \n",
       "35419   1.0            2              1            1             1    \n",
       "35420   1.0            1              1            1             1    \n",
       "\n",
       "       smoke_flag  drinking_flag  bt_chol  bp_judge  bt_gluc_judge  \\\n",
       "0             1.0            0.0    197.0         0              0   \n",
       "1             1.0            0.0    229.0         0              0   \n",
       "2             1.0            0.0    196.0         1              0   \n",
       "3             3.0            1.0    180.0         1              0   \n",
       "4             2.0            0.0    212.0         1              0   \n",
       "...           ...            ...      ...       ...            ...   \n",
       "35416         1.0            0.0    195.0         0              0   \n",
       "35417         1.0            0.0    224.0         0              1   \n",
       "35418         1.0            0.0    194.0         0              1   \n",
       "35419         1.0            0.0    241.0         0              0   \n",
       "35420         1.0            0.0    190.0         0              0   \n",
       "\n",
       "       bt_mchc_judge  gender  \n",
       "0                  0     1.0  \n",
       "1                  0     1.0  \n",
       "2                  0     1.0  \n",
       "3                  0     1.0  \n",
       "4                  0     1.0  \n",
       "...              ...     ...  \n",
       "35416              0     2.0  \n",
       "35417              0     2.0  \n",
       "35418              0     2.0  \n",
       "35419              0     2.0  \n",
       "35420              0     2.0  \n",
       "\n",
       "[35421 rows x 12 columns]"
      ]
     },
     "execution_count": 28,
     "metadata": {},
     "output_type": "execute_result"
    }
   ],
   "source": [
    "df = cl_1[['risk','eyesight_left',\n",
    "       'eyesight_right', 'hearing_left', 'hearing_right','smoke_flag',\n",
    "       'drinking_flag','bt_chol','bp_judge','bt_gluc_judge','bt_mchc_judge','gender']]\n",
    "\n",
    "df"
   ]
  },
  {
   "cell_type": "markdown",
   "metadata": {},
   "source": [
    "## 탐색적 분석"
   ]
  },
  {
   "cell_type": "code",
   "execution_count": 23,
   "metadata": {},
   "outputs": [],
   "source": [
    "def myhist(data,var):\n",
    "    plt.hist(data[data['risk']==0][var],label = '수익', alpha = 0.5)\n",
    "    plt.hist(data[data['risk']==1][var],label = '위험', alpha = 0.5)\n",
    "    plt.legend()\n",
    "    \n",
    "def mycrosstab(data,var) : \n",
    "    print(pd.crosstab(index = data['risk'], columns = data[var]))\n",
    "    print()\n",
    "    print(pd.crosstab(index = data['risk'], columns = data[var],normalize = 'columns').round(3))"
   ]
  },
  {
   "cell_type": "code",
   "execution_count": 24,
   "metadata": {},
   "outputs": [
    {
     "data": {
      "image/png": "[encoded data removed]",
      "text/plain": [
       "<Figure size 432x288 with 1 Axes>"
      ]
     },
     "metadata": {
      "needs_background": "light"
     },
     "output_type": "display_data"
    }
   ],
   "source": [
    "myhist(df,'eyesight_left')"
   ]
  },
  {
   "cell_type": "code",
   "execution_count": 25,
   "metadata": {},
   "outputs": [
    {
     "name": "stdout",
     "output_type": "stream",
     "text": [
      "eyesight_left  .    0      1   10     2   3 \n",
      "risk                                        \n",
      "0.0            0   115   1230   10   187   0\n",
      "1.0            7  2833  27019   94  3924   2\n",
      "\n",
      "eyesight_left    .     0      1     10      2    3 \n",
      "risk                                               \n",
      "0.0            0.0  0.039  0.044  0.096  0.045  0.0\n",
      "1.0            1.0  0.961  0.956  0.904  0.955  1.0\n"
     ]
    }
   ],
   "source": [
    "mycrosstab(df,'eyesight_left')"
   ]
  },
  {
   "cell_type": "code",
   "execution_count": 17,
   "metadata": {},
   "outputs": [
    {
     "name": "stdout",
     "output_type": "stream",
     "text": [
      "검정 통계량은 8.821 p-value는 0.065729)\n"
     ]
    }
   ],
   "source": [
    "d = pd.DataFrame({'A':[115,1230   ,187   ,  0   , 10],'B':[2832 , 27015 , 3924 ,    2  ,  94]})\n",
    "chi, p, dof, expected = stats.chi2_contingency(d.T) #테이블 형태로 넣는다는 의미\n",
    "print('검정 통계량은 {0} p-value는 {1})'.format(chi.round(3), p.round(6))) # 유의"
   ]
  },
  {
   "cell_type": "code",
   "execution_count": 31,
   "metadata": {},
   "outputs": [
    {
     "data": {
      "image/png": "[encoded data removed]",
      "text/plain": [
       "<Figure size 432x288 with 1 Axes>"
      ]
     },
     "metadata": {
      "needs_background": "light"
     },
     "output_type": "display_data"
    }
   ],
   "source": [
    "myhist(df,'smoke_flag')"
   ]
  },
  {
   "cell_type": "code",
   "execution_count": 30,
   "metadata": {},
   "outputs": [
    {
     "name": "stdout",
     "output_type": "stream",
     "text": [
      "smoke_flag    1.0   2.0   3.0\n",
      "risk                         \n",
      "0.0           650   424   468\n",
      "1.0         21714  5829  6324\n",
      "\n",
      "smoke_flag    1.0    2.0    3.0\n",
      "risk                           \n",
      "0.0         0.029  0.068  0.069\n",
      "1.0         0.971  0.932  0.931\n"
     ]
    }
   ],
   "source": [
    "mycrosstab(df,'smoke_flag')"
   ]
  },
  {
   "cell_type": "code",
   "execution_count": 27,
   "metadata": {},
   "outputs": [
    {
     "name": "stdout",
     "output_type": "stream",
     "text": [
      "검정 통계량은 305.828 p-value는 0.0)\n"
     ]
    }
   ],
   "source": [
    "d = pd.DataFrame({'A':[650  , 424  , 468],'B':[ 21714 , 5829 , 6324]})\n",
    "chi, p, dof, expected = stats.chi2_contingency(d.T) #테이블 형태로 넣는다는 의미\n",
    "print('검정 통계량은 {0} p-value는 {1})'.format(chi.round(3), p.round(6))) # 유의"
   ]
  },
  {
   "cell_type": "code",
   "execution_count": 29,
   "metadata": {},
   "outputs": [
    {
     "name": "stderr",
     "output_type": "stream",
     "text": [
      "C:\\Users\\BHU\\anaconda3\\lib\\site-packages\\pandas\\core\\ops\\array_ops.py:253: FutureWarning: elementwise comparison failed; returning scalar instead, but in the future will perform elementwise comparison\n",
      "  res_values = method(rvalues)\n"
     ]
    }
   ],
   "source": [
    "for i in df.columns :\n",
    "    df = df[df[i] != '.']\n",
    "\n",
    "df = df.astype('float')"
   ]
  },
  {
   "cell_type": "code",
   "execution_count": 52,
   "metadata": {},
   "outputs": [],
   "source": [
    "heat = df.corr()"
   ]
  },
  {
   "cell_type": "code",
   "execution_count": 56,
   "metadata": {},
   "outputs": [],
   "source": [
    "heat = heat.iloc[8:12,1:7]"
   ]
  },
  {
   "cell_type": "code",
   "execution_count": 57,
   "metadata": {},
   "outputs": [
    {
     "data": {
      "text/plain": [
       "<matplotlib.axes._subplots.AxesSubplot at 0x1d3041229c8>"
      ]
     },
     "execution_count": 57,
     "metadata": {},
     "output_type": "execute_result"
    },
    {
     "data": {
      "image/png": "[encoded data removed]",
      "text/plain": [
       "<Figure size 432x288 with 2 Axes>"
      ]
     },
     "metadata": {
      "needs_background": "light"
     },
     "output_type": "display_data"
    }
   ],
   "source": [
    "sns.heatmap(heat)"
   ]
  },
  {
   "cell_type": "code",
   "execution_count": 48,
   "metadata": {},
   "outputs": [
    {
     "data": {
      "text/html": [
       "<div>\n",
       "<style scoped>\n",
       "    .dataframe tbody tr th:only-of-type {\n",
       "        vertical-align: middle;\n",
       "    }\n",
       "\n",
       "    .dataframe tbody tr th {\n",
       "        vertical-align: top;\n",
       "    }\n",
       "\n",
       "    .dataframe thead th {\n",
       "        text-align: right;\n",
       "    }\n",
       "</style>\n",
       "<table border=\"1\" class=\"dataframe\">\n",
       "  <thead>\n",
       "    <tr style=\"text-align: right;\">\n",
       "      <th></th>\n",
       "      <th>risk</th>\n",
       "      <th>eyesight_left</th>\n",
       "      <th>eyesight_right</th>\n",
       "      <th>hearing_left</th>\n",
       "      <th>hearing_right</th>\n",
       "      <th>smoke_flag</th>\n",
       "      <th>drinking_flag</th>\n",
       "      <th>bt_chol</th>\n",
       "      <th>bp_judge</th>\n",
       "      <th>bt_gluc_judge</th>\n",
       "      <th>bt_mchc_judge</th>\n",
       "      <th>gender</th>\n",
       "    </tr>\n",
       "  </thead>\n",
       "  <tbody>\n",
       "    <tr>\n",
       "      <th>risk</th>\n",
       "      <td>1.000000</td>\n",
       "      <td>-0.014783</td>\n",
       "      <td>-0.004466</td>\n",
       "      <td>-0.002378</td>\n",
       "      <td>-0.007021</td>\n",
       "      <td>-0.086496</td>\n",
       "      <td>-0.035441</td>\n",
       "      <td>-0.013154</td>\n",
       "      <td>0.081276</td>\n",
       "      <td>-0.226490</td>\n",
       "      <td>-0.030669</td>\n",
       "      <td>0.130119</td>\n",
       "    </tr>\n",
       "    <tr>\n",
       "      <th>eyesight_left</th>\n",
       "      <td>-0.014783</td>\n",
       "      <td>1.000000</td>\n",
       "      <td>0.324643</td>\n",
       "      <td>-0.029177</td>\n",
       "      <td>-0.033210</td>\n",
       "      <td>0.054786</td>\n",
       "      <td>0.059898</td>\n",
       "      <td>0.006141</td>\n",
       "      <td>-0.014322</td>\n",
       "      <td>-0.020070</td>\n",
       "      <td>-0.024717</td>\n",
       "      <td>-0.084458</td>\n",
       "    </tr>\n",
       "    <tr>\n",
       "      <th>eyesight_right</th>\n",
       "      <td>-0.004466</td>\n",
       "      <td>0.324643</td>\n",
       "      <td>1.000000</td>\n",
       "      <td>-0.047438</td>\n",
       "      <td>-0.044552</td>\n",
       "      <td>0.053013</td>\n",
       "      <td>0.062882</td>\n",
       "      <td>0.000152</td>\n",
       "      <td>-0.015364</td>\n",
       "      <td>-0.024033</td>\n",
       "      <td>-0.026826</td>\n",
       "      <td>-0.082707</td>\n",
       "    </tr>\n",
       "    <tr>\n",
       "      <th>hearing_left</th>\n",
       "      <td>-0.002378</td>\n",
       "      <td>-0.029177</td>\n",
       "      <td>-0.047438</td>\n",
       "      <td>1.000000</td>\n",
       "      <td>0.526667</td>\n",
       "      <td>-0.023974</td>\n",
       "      <td>-0.055948</td>\n",
       "      <td>-0.035760</td>\n",
       "      <td>0.048955</td>\n",
       "      <td>0.052027</td>\n",
       "      <td>0.037282</td>\n",
       "      <td>0.001002</td>\n",
       "    </tr>\n",
       "    <tr>\n",
       "      <th>hearing_right</th>\n",
       "      <td>-0.007021</td>\n",
       "      <td>-0.033210</td>\n",
       "      <td>-0.044552</td>\n",
       "      <td>0.526667</td>\n",
       "      <td>1.000000</td>\n",
       "      <td>-0.024898</td>\n",
       "      <td>-0.058088</td>\n",
       "      <td>-0.038341</td>\n",
       "      <td>0.051671</td>\n",
       "      <td>0.057050</td>\n",
       "      <td>0.040940</td>\n",
       "      <td>0.010908</td>\n",
       "    </tr>\n",
       "    <tr>\n",
       "      <th>smoke_flag</th>\n",
       "      <td>-0.086496</td>\n",
       "      <td>0.054786</td>\n",
       "      <td>0.053013</td>\n",
       "      <td>-0.023974</td>\n",
       "      <td>-0.024898</td>\n",
       "      <td>1.000000</td>\n",
       "      <td>0.330241</td>\n",
       "      <td>0.023629</td>\n",
       "      <td>0.071105</td>\n",
       "      <td>0.103734</td>\n",
       "      <td>-0.129480</td>\n",
       "      <td>-0.572779</td>\n",
       "    </tr>\n",
       "    <tr>\n",
       "      <th>drinking_flag</th>\n",
       "      <td>-0.035441</td>\n",
       "      <td>0.059898</td>\n",
       "      <td>0.062882</td>\n",
       "      <td>-0.055948</td>\n",
       "      <td>-0.058088</td>\n",
       "      <td>0.330241</td>\n",
       "      <td>1.000000</td>\n",
       "      <td>0.028529</td>\n",
       "      <td>0.026481</td>\n",
       "      <td>0.032370</td>\n",
       "      <td>-0.114332</td>\n",
       "      <td>-0.355209</td>\n",
       "    </tr>\n",
       "    <tr>\n",
       "      <th>bt_chol</th>\n",
       "      <td>-0.013154</td>\n",
       "      <td>0.006141</td>\n",
       "      <td>0.000152</td>\n",
       "      <td>-0.035760</td>\n",
       "      <td>-0.038341</td>\n",
       "      <td>0.023629</td>\n",
       "      <td>0.028529</td>\n",
       "      <td>1.000000</td>\n",
       "      <td>0.058790</td>\n",
       "      <td>0.028094</td>\n",
       "      <td>-0.101112</td>\n",
       "      <td>0.010711</td>\n",
       "    </tr>\n",
       "    <tr>\n",
       "      <th>bp_judge</th>\n",
       "      <td>0.081276</td>\n",
       "      <td>-0.014322</td>\n",
       "      <td>-0.015364</td>\n",
       "      <td>0.048955</td>\n",
       "      <td>0.051671</td>\n",
       "      <td>0.071105</td>\n",
       "      <td>0.026481</td>\n",
       "      <td>0.058790</td>\n",
       "      <td>1.000000</td>\n",
       "      <td>0.177467</td>\n",
       "      <td>-0.038387</td>\n",
       "      <td>-0.138699</td>\n",
       "    </tr>\n",
       "    <tr>\n",
       "      <th>bt_gluc_judge</th>\n",
       "      <td>-0.226490</td>\n",
       "      <td>-0.020070</td>\n",
       "      <td>-0.024033</td>\n",
       "      <td>0.052027</td>\n",
       "      <td>0.057050</td>\n",
       "      <td>0.103734</td>\n",
       "      <td>0.032370</td>\n",
       "      <td>0.028094</td>\n",
       "      <td>0.177467</td>\n",
       "      <td>1.000000</td>\n",
       "      <td>-0.038030</td>\n",
       "      <td>-0.160338</td>\n",
       "    </tr>\n",
       "    <tr>\n",
       "      <th>bt_mchc_judge</th>\n",
       "      <td>-0.030669</td>\n",
       "      <td>-0.024717</td>\n",
       "      <td>-0.026826</td>\n",
       "      <td>0.037282</td>\n",
       "      <td>0.040940</td>\n",
       "      <td>-0.129480</td>\n",
       "      <td>-0.114332</td>\n",
       "      <td>-0.101112</td>\n",
       "      <td>-0.038387</td>\n",
       "      <td>-0.038030</td>\n",
       "      <td>1.000000</td>\n",
       "      <td>0.196887</td>\n",
       "    </tr>\n",
       "    <tr>\n",
       "      <th>gender</th>\n",
       "      <td>0.130119</td>\n",
       "      <td>-0.084458</td>\n",
       "      <td>-0.082707</td>\n",
       "      <td>0.001002</td>\n",
       "      <td>0.010908</td>\n",
       "      <td>-0.572779</td>\n",
       "      <td>-0.355209</td>\n",
       "      <td>0.010711</td>\n",
       "      <td>-0.138699</td>\n",
       "      <td>-0.160338</td>\n",
       "      <td>0.196887</td>\n",
       "      <td>1.000000</td>\n",
       "    </tr>\n",
       "  </tbody>\n",
       "</table>\n",
       "</div>"
      ],
      "text/plain": [
       "                    risk  eyesight_left  eyesight_right  hearing_left  \\\n",
       "risk            1.000000      -0.014783       -0.004466     -0.002378   \n",
       "eyesight_left  -0.014783       1.000000        0.324643     -0.029177   \n",
       "eyesight_right -0.004466       0.324643        1.000000     -0.047438   \n",
       "hearing_left   -0.002378      -0.029177       -0.047438      1.000000   \n",
       "hearing_right  -0.007021      -0.033210       -0.044552      0.526667   \n",
       "smoke_flag     -0.086496       0.054786        0.053013     -0.023974   \n",
       "drinking_flag  -0.035441       0.059898        0.062882     -0.055948   \n",
       "bt_chol        -0.013154       0.006141        0.000152     -0.035760   \n",
       "bp_judge        0.081276      -0.014322       -0.015364      0.048955   \n",
       "bt_gluc_judge  -0.226490      -0.020070       -0.024033      0.052027   \n",
       "bt_mchc_judge  -0.030669      -0.024717       -0.026826      0.037282   \n",
       "gender          0.130119      -0.084458       -0.082707      0.001002   \n",
       "\n",
       "                hearing_right  smoke_flag  drinking_flag   bt_chol  bp_judge  \\\n",
       "risk                -0.007021   -0.086496      -0.035441 -0.013154  0.081276   \n",
       "eyesight_left       -0.033210    0.054786       0.059898  0.006141 -0.014322   \n",
       "eyesight_right      -0.044552    0.053013       0.062882  0.000152 -0.015364   \n",
       "hearing_left         0.526667   -0.023974      -0.055948 -0.035760  0.048955   \n",
       "hearing_right        1.000000   -0.024898      -0.058088 -0.038341  0.051671   \n",
       "smoke_flag          -0.024898    1.000000       0.330241  0.023629  0.071105   \n",
       "drinking_flag       -0.058088    0.330241       1.000000  0.028529  0.026481   \n",
       "bt_chol             -0.038341    0.023629       0.028529  1.000000  0.058790   \n",
       "bp_judge             0.051671    0.071105       0.026481  0.058790  1.000000   \n",
       "bt_gluc_judge        0.057050    0.103734       0.032370  0.028094  0.177467   \n",
       "bt_mchc_judge        0.040940   -0.129480      -0.114332 -0.101112 -0.038387   \n",
       "gender               0.010908   -0.572779      -0.355209  0.010711 -0.138699   \n",
       "\n",
       "                bt_gluc_judge  bt_mchc_judge    gender  \n",
       "risk                -0.226490      -0.030669  0.130119  \n",
       "eyesight_left       -0.020070      -0.024717 -0.084458  \n",
       "eyesight_right      -0.024033      -0.026826 -0.082707  \n",
       "hearing_left         0.052027       0.037282  0.001002  \n",
       "hearing_right        0.057050       0.040940  0.010908  \n",
       "smoke_flag           0.103734      -0.129480 -0.572779  \n",
       "drinking_flag        0.032370      -0.114332 -0.355209  \n",
       "bt_chol              0.028094      -0.101112  0.010711  \n",
       "bp_judge             0.177467      -0.038387 -0.138699  \n",
       "bt_gluc_judge        1.000000      -0.038030 -0.160338  \n",
       "bt_mchc_judge       -0.038030       1.000000  0.196887  \n",
       "gender              -0.160338       0.196887  1.000000  "
      ]
     },
     "execution_count": 48,
     "metadata": {},
     "output_type": "execute_result"
    }
   ],
   "source": [
    "df.corr()"
   ]
  },
  {
   "cell_type": "code",
   "execution_count": 33,
   "metadata": {},
   "outputs": [
    {
     "name": "stdout",
     "output_type": "stream",
     "text": [
      "risk+eyesight_left+eyesight_right+hearing_left+hearing_right+smoke_flag+drinking_flag+bt_chol+bp_judge+bt_gluc_judge+bt_mchc_judge+gender+\n"
     ]
    }
   ],
   "source": [
    "st = ''\n",
    "for i in df.columns :\n",
    "    st += i\n",
    "    st += \"+\"\n",
    "print(st)"
   ]
  },
  {
   "cell_type": "code",
   "execution_count": 34,
   "metadata": {},
   "outputs": [
    {
     "name": "stdout",
     "output_type": "stream",
     "text": [
      "Optimization terminated successfully.\n",
      "         Current function value: 0.136970\n",
      "         Iterations 9\n",
      "                           Logit Regression Results                           \n",
      "==============================================================================\n",
      "Dep. Variable:                   risk   No. Observations:                35409\n",
      "Model:                          Logit   Df Residuals:                    35397\n",
      "Method:                           MLE   Df Model:                           11\n",
      "Date:                Thu, 07 May 2020   Pseudo R-squ.:                  0.2351\n",
      "Time:                        15:28:54   Log-Likelihood:                -4850.0\n",
      "converged:                       True   LL-Null:                       -6340.4\n",
      "Covariance Type:            nonrobust   LLR p-value:                     0.000\n",
      "==================================================================================\n",
      "                     coef    std err          z      P>|z|      [0.025      0.975]\n",
      "----------------------------------------------------------------------------------\n",
      "Intercept          3.1849      0.289     11.004      0.000       2.618       3.752\n",
      "eyesight_left     -0.0570      0.036     -1.592      0.111      -0.127       0.013\n",
      "eyesight_right     0.0020      0.042      0.049      0.961      -0.079       0.084\n",
      "hearing_left       0.2867      0.188      1.521      0.128      -0.083       0.656\n",
      "hearing_right     -0.1813      0.181     -1.000      0.317      -0.537       0.174\n",
      "smoke_flag        -0.0376      0.038     -0.981      0.327      -0.113       0.038\n",
      "drinking_flag      0.0788      0.061      1.286      0.198      -0.041       0.199\n",
      "bt_chol           -0.0032      0.001     -4.629      0.000      -0.005      -0.002\n",
      "bp_judge           1.7492      0.080     21.901      0.000       1.593       1.906\n",
      "bt_gluc_judge     -2.6359      0.078    -33.883      0.000      -2.788      -2.483\n",
      "bt_mchc_judge     -0.9206      0.075    -12.226      0.000      -1.068      -0.773\n",
      "gender             1.4404      0.080     18.097      0.000       1.284       1.596\n",
      "==================================================================================\n"
     ]
    }
   ],
   "source": [
    "log_model = Logit.from_formula(''' risk ~ eyesight_left+eyesight_right+\n",
    "hearing_left+hearing_right+smoke_flag+\n",
    "drinking_flag+bt_chol+bp_judge+bt_gluc_judge+bt_mchc_judge+gender ''',data = df)\n",
    "log_result = log_model.fit()\n",
    "print(log_result.summary())\n",
    "\n",
    "# 판정은 0 아니면 1 따라서, 스케일은 진행하지 X"
   ]
  },
  {
   "cell_type": "code",
   "execution_count": 41,
   "metadata": {},
   "outputs": [
    {
     "name": "stdout",
     "output_type": "stream",
     "text": [
      "Optimization terminated successfully.\n",
      "         Current function value: 0.137376\n",
      "         Iterations 9\n",
      "                           Logit Regression Results                           \n",
      "==============================================================================\n",
      "Dep. Variable:                   risk   No. Observations:                35409\n",
      "Model:                          Logit   Df Residuals:                    35404\n",
      "Method:                           MLE   Df Model:                            4\n",
      "Date:                Thu, 07 May 2020   Pseudo R-squ.:                  0.2328\n",
      "Time:                        15:30:29   Log-Likelihood:                -4864.3\n",
      "converged:                       True   LL-Null:                       -6340.4\n",
      "Covariance Type:            nonrobust   LLR p-value:                     0.000\n",
      "=================================================================================\n",
      "                    coef    std err          z      P>|z|      [0.025      0.975]\n",
      "---------------------------------------------------------------------------------\n",
      "Intercept         2.5814      0.113     22.850      0.000       2.360       2.803\n",
      "bp_judge          1.7363      0.080     21.804      0.000       1.580       1.892\n",
      "bt_gluc_judge    -2.6372      0.078    -33.959      0.000      -2.789      -2.485\n",
      "bt_mchc_judge    -0.8739      0.074    -11.806      0.000      -1.019      -0.729\n",
      "gender            1.4318      0.069     20.864      0.000       1.297       1.566\n",
      "=================================================================================\n"
     ]
    }
   ],
   "source": [
    "log_model = Logit.from_formula(''' risk ~ bp_judge+bt_gluc_judge+\n",
    "bt_mchc_judge+gender''',data = df)\n",
    "log_result = log_model.fit()\n",
    "print(log_result.summary())\n",
    "\n",
    "# 판정은 0 아니면 1 따라서, 스케일은 진행하지 X"
   ]
  },
  {
   "cell_type": "code",
   "execution_count": 42,
   "metadata": {},
   "outputs": [],
   "source": [
    "ensem_x = df.drop(['risk'],axis=1)\n",
    "ensem_y = df[['risk']]\n",
    "\n",
    "# ensem_x = pd.get_dummies(ensem_x)\n",
    "\n",
    "# scaler = StandardScaler()\n",
    "# en_sc = scaler.fit_transform(ensem_x)\n",
    "# ensem_x = pd.DataFrame(en_sc,columns=ensem_x.columns)\n",
    "\n",
    "# 데이터 분할 1 : 학습용과 시험용\n",
    "\n",
    "train_x, test_x, train_y, test_y = train_test_split(ensem_x,ensem_y,test_size=0.3,random_state = 1234)\n",
    "# 학습용 데이터를 밸리데이션과 학습용으로 분할함으로써 CV진행 준비\n",
    "train_x, val_x, train_y, val_y = train_test_split(train_x,train_y,test_size = 3/7, random_state = 1234)"
   ]
  },
  {
   "cell_type": "code",
   "execution_count": 43,
   "metadata": {},
   "outputs": [
    {
     "name": "stderr",
     "output_type": "stream",
     "text": [
      "C:\\Users\\BHU\\anaconda3\\lib\\site-packages\\sklearn\\ensemble\\_gb.py:1454: DataConversionWarning: A column-vector y was passed when a 1d array was expected. Please change the shape of y to (n_samples, ), for example using ravel().\n",
      "  y = column_or_1d(y, warn=True)\n"
     ]
    },
    {
     "name": "stdout",
     "output_type": "stream",
     "text": [
      "\n",
      "최종 모델의 train data의 설명력 : 0.993\n",
      "최종 모델의 validation data의 설명력 : 0.991\n",
      "최종 모델의 test data의 설명력 : 0.992\n"
     ]
    }
   ],
   "source": [
    "gb_final = GradientBoostingClassifier(random_state=1234)\n",
    "gb_final.fit(train_x,train_y)\n",
    "\n",
    "print()\n",
    "print('최종 모델의 train data의 설명력 : {:.3f}'.format(gb_final.score(train_x,train_y)))\n",
    "print('최종 모델의 validation data의 설명력 : {:.3f}'.format(gb_final.score(val_x,val_y)))\n",
    "print('최종 모델의 test data의 설명력 : {:.3f}'.format(gb_final.score(test_x,test_y)))"
   ]
  },
  {
   "cell_type": "code",
   "execution_count": 44,
   "metadata": {},
   "outputs": [
    {
     "name": "stdout",
     "output_type": "stream",
     "text": [
      "Accuracy:0.992\n",
      "\n",
      "Confusion matrix:\n",
      "[[  404    77]\n",
      " [   10 10132]]\n"
     ]
    },
    {
     "name": "stderr",
     "output_type": "stream",
     "text": [
      "C:\\Users\\BHU\\anaconda3\\lib\\site-packages\\sklearn\\ensemble\\_gb.py:1454: DataConversionWarning: A column-vector y was passed when a 1d array was expected. Please change the shape of y to (n_samples, ), for example using ravel().\n",
      "  y = column_or_1d(y, warn=True)\n"
     ]
    },
    {
     "data": {
      "text/html": [
       "<div>\n",
       "<style scoped>\n",
       "    .dataframe tbody tr th:only-of-type {\n",
       "        vertical-align: middle;\n",
       "    }\n",
       "\n",
       "    .dataframe tbody tr th {\n",
       "        vertical-align: top;\n",
       "    }\n",
       "\n",
       "    .dataframe thead th {\n",
       "        text-align: right;\n",
       "    }\n",
       "</style>\n",
       "<table border=\"1\" class=\"dataframe\">\n",
       "  <thead>\n",
       "    <tr style=\"text-align: right;\">\n",
       "      <th></th>\n",
       "      <th>TrainAccuracy</th>\n",
       "      <th>TestAccuracy</th>\n",
       "      <th>F1Score</th>\n",
       "      <th>AUC</th>\n",
       "      <th>PrecisionScore</th>\n",
       "      <th>RecallScore</th>\n",
       "    </tr>\n",
       "  </thead>\n",
       "  <tbody>\n",
       "    <tr>\n",
       "      <th>GradientBoosting</th>\n",
       "      <td>0.993</td>\n",
       "      <td>0.992</td>\n",
       "      <td>0.996</td>\n",
       "      <td>0.919</td>\n",
       "      <td>0.992</td>\n",
       "      <td>0.999</td>\n",
       "    </tr>\n",
       "  </tbody>\n",
       "</table>\n",
       "</div>"
      ],
      "text/plain": [
       "                  TrainAccuracy  TestAccuracy  F1Score    AUC  PrecisionScore  \\\n",
       "GradientBoosting          0.993         0.992    0.996  0.919           0.992   \n",
       "\n",
       "                  RecallScore  \n",
       "GradientBoosting        0.999  "
      ]
     },
     "execution_count": 44,
     "metadata": {},
     "output_type": "execute_result"
    }
   ],
   "source": [
    "y_pred=gb_final.predict(test_x)\n",
    "print('Accuracy:{0:.3f}\\n'.format(gb_final.score(test_x,test_y)))\n",
    "print('Confusion matrix:\\n{}'.format(confusion_matrix(test_y,y_pred)))\n",
    "\n",
    "#분석 모델\n",
    "model=['GradientBoosting']\n",
    "#정확도 저장\n",
    "train_accuracy=[]; test_accuracy=[]\n",
    "#f1 score 저장\n",
    "model_f1_score=[]\n",
    "#auc score 저장\n",
    "model_auc=[]\n",
    "#precision score저장\n",
    "model_precision_score=[]\n",
    "#recall score 저장\n",
    "model_recall_score=[]\n",
    "\n",
    "#최종 모델\n",
    "gb_model=GradientBoostingClassifier(random_state=1234)\n",
    "gb_model.fit(train_x,train_y)\n",
    "# train 정확도\n",
    "train_accuracy.append(gb_model.score(train_x, train_y))\n",
    "# test 정확도\n",
    "test_accuracy.append(gb_model.score(test_x, test_y))\n",
    "#최종 모델을 이용한 분류 예측\n",
    "y_pred=gb_model.predict(test_x)\n",
    "#roc_curve(실제값,예측값) fpr=(FP)/(FP+TN):거짓 양성 비율, tpr=TP/(TP+FN):진짜 양성비율(재현율)\n",
    "fpr,tpr,thresholds=roc_curve(test_y,y_pred)\n",
    "roc_auc=auc(fpr,tpr)\n",
    "#auc 저장\n",
    "model_auc.append(roc_auc)\n",
    "\n",
    "#f1스코어\n",
    "model_f1_score.append(f1_score(test_y,y_pred))\n",
    "#precision 스코어\n",
    "model_precision_score.append(precision_score(test_y,y_pred))\n",
    "#recall 스코어\n",
    "model_recall_score.append(recall_score(test_y,y_pred))\n",
    "\n",
    "df_eval=pd.DataFrame(index=model)\n",
    "df_eval['TrainAccuracy']=train_accuracy\n",
    "df_eval['TestAccuracy']=test_accuracy\n",
    "df_eval['F1Score']=model_f1_score\n",
    "df_eval['AUC']=model_auc\n",
    "df_eval['PrecisionScore']=model_precision_score\n",
    "df_eval['RecallScore']=model_recall_score\n",
    "df_eval.round(3)"
   ]
  },
  {
   "cell_type": "code",
   "execution_count": 45,
   "metadata": {},
   "outputs": [
    {
     "data": {
      "image/png": "[encoded data removed]",
      "text/plain": [
       "<Figure size 432x288 with 1 Axes>"
      ]
     },
     "metadata": {
      "needs_background": "light"
     },
     "output_type": "display_data"
    }
   ],
   "source": [
    "df_eval=pd.DataFrame(index=model)\n",
    "df_eval['TrainAccuracy_1']=0.958\n",
    "df_eval['TestAccuracy_1']=0.955\n",
    "df_eval['  ']=0\n",
    "df_eval['TrainAccuracy_2']=0.875\n",
    "df_eval['TestAccuracy_2']=0.884\n",
    "\n",
    "#정확도 bar plot 생성\n",
    "df_eval.plot.bar(rot=0)\n",
    "plt.legend(loc='lower left')\n",
    "plt.grid(axis='y')\n",
    "#인공신경망 모델이 가장 높은 정확도와 f1,auc를 보임\n",
    "#neural_net>gradient boosting>decisiontree>randomforest"
   ]
  },
  {
   "cell_type": "code",
   "execution_count": 46,
   "metadata": {},
   "outputs": [
    {
     "data": {
      "text/html": [
       "<div>\n",
       "<style scoped>\n",
       "    .dataframe tbody tr th:only-of-type {\n",
       "        vertical-align: middle;\n",
       "    }\n",
       "\n",
       "    .dataframe tbody tr th {\n",
       "        vertical-align: top;\n",
       "    }\n",
       "\n",
       "    .dataframe thead th {\n",
       "        text-align: right;\n",
       "    }\n",
       "</style>\n",
       "<table border=\"1\" class=\"dataframe\">\n",
       "  <thead>\n",
       "    <tr style=\"text-align: right;\">\n",
       "      <th></th>\n",
       "      <th>Feature</th>\n",
       "      <th>Importance</th>\n",
       "    </tr>\n",
       "  </thead>\n",
       "  <tbody>\n",
       "    <tr>\n",
       "      <th>6</th>\n",
       "      <td>bt_chol</td>\n",
       "      <td>0.662</td>\n",
       "    </tr>\n",
       "    <tr>\n",
       "      <th>8</th>\n",
       "      <td>bt_gluc_judge</td>\n",
       "      <td>0.128</td>\n",
       "    </tr>\n",
       "    <tr>\n",
       "      <th>10</th>\n",
       "      <td>gender</td>\n",
       "      <td>0.107</td>\n",
       "    </tr>\n",
       "    <tr>\n",
       "      <th>7</th>\n",
       "      <td>bp_judge</td>\n",
       "      <td>0.077</td>\n",
       "    </tr>\n",
       "    <tr>\n",
       "      <th>9</th>\n",
       "      <td>bt_mchc_judge</td>\n",
       "      <td>0.024</td>\n",
       "    </tr>\n",
       "    <tr>\n",
       "      <th>5</th>\n",
       "      <td>drinking_flag</td>\n",
       "      <td>0.003</td>\n",
       "    </tr>\n",
       "    <tr>\n",
       "      <th>0</th>\n",
       "      <td>eyesight_left</td>\n",
       "      <td>0.000</td>\n",
       "    </tr>\n",
       "    <tr>\n",
       "      <th>1</th>\n",
       "      <td>eyesight_right</td>\n",
       "      <td>0.000</td>\n",
       "    </tr>\n",
       "    <tr>\n",
       "      <th>2</th>\n",
       "      <td>hearing_left</td>\n",
       "      <td>0.000</td>\n",
       "    </tr>\n",
       "    <tr>\n",
       "      <th>3</th>\n",
       "      <td>hearing_right</td>\n",
       "      <td>0.000</td>\n",
       "    </tr>\n",
       "    <tr>\n",
       "      <th>4</th>\n",
       "      <td>smoke_flag</td>\n",
       "      <td>0.000</td>\n",
       "    </tr>\n",
       "  </tbody>\n",
       "</table>\n",
       "</div>"
      ],
      "text/plain": [
       "           Feature  Importance\n",
       "6          bt_chol       0.662\n",
       "8    bt_gluc_judge       0.128\n",
       "10          gender       0.107\n",
       "7         bp_judge       0.077\n",
       "9    bt_mchc_judge       0.024\n",
       "5    drinking_flag       0.003\n",
       "0    eyesight_left       0.000\n",
       "1   eyesight_right       0.000\n",
       "2     hearing_left       0.000\n",
       "3    hearing_right       0.000\n",
       "4       smoke_flag       0.000"
      ]
     },
     "execution_count": 46,
     "metadata": {},
     "output_type": "execute_result"
    }
   ],
   "source": [
    "v_featrue_name = train_x.columns\n",
    "df_Importance = pd.DataFrame()\n",
    "df_Importance['Feature'] = v_featrue_name\n",
    "df_Importance['Importance'] = gb_model.feature_importances_\n",
    "df_Importance.sort_values('Importance',ascending = False, inplace = True)\n",
    "df_Importance.round(3)"
   ]
  },
  {
   "cell_type": "code",
   "execution_count": 47,
   "metadata": {},
   "outputs": [
    {
     "data": {
      "text/plain": [
       "Text(0, 0.5, '설명변수')"
      ]
     },
     "execution_count": 47,
     "metadata": {},
     "output_type": "execute_result"
    },
    {
     "data": {
      "image/png": "[encoded data removed]",
      "text/plain": [
       "<Figure size 432x288 with 1 Axes>"
      ]
     },
     "metadata": {
      "needs_background": "light"
     },
     "output_type": "display_data"
    }
   ],
   "source": [
    "df_Importance.sort_values('Importance',ascending = True, inplace = True)\n",
    "coordinates = range(len(df_Importance))\n",
    "plt.barh(y=coordinates, width = df_Importance['Importance'])\n",
    "plt.yticks(coordinates,df_Importance['Feature'])\n",
    "plt.xlabel('설명변수 중요도')\n",
    "plt.ylabel('설명변수')"
   ]
  },
  {
   "cell_type": "markdown",
   "metadata": {},
   "source": [
    "## 정확도 0.955 GB 모델 결과, 흡연 유무가 중요하다고 나옴 \n",
    "\n",
    "흡연을 1분류 가입 심사 항목에 추가함으로써 심사 정확도를 높이는 것이 좋다고 판단"
   ]
  },
  {
   "cell_type": "markdown",
   "metadata": {},
   "source": [
    "# 2분류 기준"
   ]
  },
  {
   "cell_type": "code",
   "execution_count": 81,
   "metadata": {},
   "outputs": [
    {
     "data": {
      "text/plain": [
       "Index(['n_risk', 'index', 'Unnamed: 0', 'no', 'gender', 'age_group',\n",
       "       'height_group', 'weight_group', 'waist', 'eyesight_left',\n",
       "       'eyesight_right', 'hearing_left', 'hearing_right', 'bp_max', 'bp_min',\n",
       "       'bp_gluc', 'bt_chol', 'bt_trig', 'bt_hdl', 'bt_ldl', 'bt_mch',\n",
       "       'bt_crea', 'bt_ast', 'bt_alt', 'bt_rgpt', 'smoke_flag',\n",
       "       'drinking_flag'],\n",
       "      dtype='object')"
      ]
     },
     "execution_count": 81,
     "metadata": {},
     "output_type": "execute_result"
    }
   ],
   "source": [
    "cl_2 = pd.merge(join_2,raw,on='index',how='left')\n",
    "cl_2.columns"
   ]
  },
  {
   "cell_type": "code",
   "execution_count": 82,
   "metadata": {},
   "outputs": [
    {
     "data": {
      "text/html": [
       "<div>\n",
       "<style scoped>\n",
       "    .dataframe tbody tr th:only-of-type {\n",
       "        vertical-align: middle;\n",
       "    }\n",
       "\n",
       "    .dataframe tbody tr th {\n",
       "        vertical-align: top;\n",
       "    }\n",
       "\n",
       "    .dataframe thead th {\n",
       "        text-align: right;\n",
       "    }\n",
       "</style>\n",
       "<table border=\"1\" class=\"dataframe\">\n",
       "  <thead>\n",
       "    <tr style=\"text-align: right;\">\n",
       "      <th></th>\n",
       "      <th>n_risk</th>\n",
       "      <th>eyesight_left</th>\n",
       "      <th>eyesight_right</th>\n",
       "      <th>hearing_left</th>\n",
       "      <th>hearing_right</th>\n",
       "      <th>smoke_flag</th>\n",
       "      <th>drinking_flag</th>\n",
       "    </tr>\n",
       "  </thead>\n",
       "  <tbody>\n",
       "    <tr>\n",
       "      <th>0</th>\n",
       "      <td>0.0</td>\n",
       "      <td>1</td>\n",
       "      <td>1</td>\n",
       "      <td>1</td>\n",
       "      <td>1</td>\n",
       "      <td>1</td>\n",
       "      <td>0</td>\n",
       "    </tr>\n",
       "    <tr>\n",
       "      <th>1</th>\n",
       "      <td>0.0</td>\n",
       "      <td>1</td>\n",
       "      <td>1</td>\n",
       "      <td>1</td>\n",
       "      <td>1</td>\n",
       "      <td>1</td>\n",
       "      <td>0</td>\n",
       "    </tr>\n",
       "    <tr>\n",
       "      <th>2</th>\n",
       "      <td>0.0</td>\n",
       "      <td>1</td>\n",
       "      <td>1</td>\n",
       "      <td>1</td>\n",
       "      <td>1</td>\n",
       "      <td>1</td>\n",
       "      <td>0</td>\n",
       "    </tr>\n",
       "    <tr>\n",
       "      <th>3</th>\n",
       "      <td>0.0</td>\n",
       "      <td>1</td>\n",
       "      <td>2</td>\n",
       "      <td>1</td>\n",
       "      <td>1</td>\n",
       "      <td>3</td>\n",
       "      <td>1</td>\n",
       "    </tr>\n",
       "    <tr>\n",
       "      <th>4</th>\n",
       "      <td>0.0</td>\n",
       "      <td>1</td>\n",
       "      <td>1</td>\n",
       "      <td>1</td>\n",
       "      <td>1</td>\n",
       "      <td>2</td>\n",
       "      <td>0</td>\n",
       "    </tr>\n",
       "    <tr>\n",
       "      <th>...</th>\n",
       "      <td>...</td>\n",
       "      <td>...</td>\n",
       "      <td>...</td>\n",
       "      <td>...</td>\n",
       "      <td>...</td>\n",
       "      <td>...</td>\n",
       "      <td>...</td>\n",
       "    </tr>\n",
       "    <tr>\n",
       "      <th>33874</th>\n",
       "      <td>0.0</td>\n",
       "      <td>1</td>\n",
       "      <td>1</td>\n",
       "      <td>1</td>\n",
       "      <td>1</td>\n",
       "      <td>1</td>\n",
       "      <td>0</td>\n",
       "    </tr>\n",
       "    <tr>\n",
       "      <th>33875</th>\n",
       "      <td>0.0</td>\n",
       "      <td>1</td>\n",
       "      <td>1</td>\n",
       "      <td>1</td>\n",
       "      <td>1</td>\n",
       "      <td>1</td>\n",
       "      <td>0</td>\n",
       "    </tr>\n",
       "    <tr>\n",
       "      <th>33876</th>\n",
       "      <td>0.0</td>\n",
       "      <td>1</td>\n",
       "      <td>1</td>\n",
       "      <td>1</td>\n",
       "      <td>1</td>\n",
       "      <td>1</td>\n",
       "      <td>0</td>\n",
       "    </tr>\n",
       "    <tr>\n",
       "      <th>33877</th>\n",
       "      <td>0.0</td>\n",
       "      <td>2</td>\n",
       "      <td>1</td>\n",
       "      <td>1</td>\n",
       "      <td>1</td>\n",
       "      <td>1</td>\n",
       "      <td>0</td>\n",
       "    </tr>\n",
       "    <tr>\n",
       "      <th>33878</th>\n",
       "      <td>0.0</td>\n",
       "      <td>1</td>\n",
       "      <td>1</td>\n",
       "      <td>1</td>\n",
       "      <td>1</td>\n",
       "      <td>1</td>\n",
       "      <td>0</td>\n",
       "    </tr>\n",
       "  </tbody>\n",
       "</table>\n",
       "<p>33879 rows × 7 columns</p>\n",
       "</div>"
      ],
      "text/plain": [
       "       n_risk eyesight_left eyesight_right hearing_left hearing_right  \\\n",
       "0         0.0            1              1            1             1    \n",
       "1         0.0            1              1            1             1    \n",
       "2         0.0            1              1            1             1    \n",
       "3         0.0            1              2            1             1    \n",
       "4         0.0            1              1            1             1    \n",
       "...       ...           ...            ...          ...           ...   \n",
       "33874     0.0            1              1            1             1    \n",
       "33875     0.0            1              1            1             1    \n",
       "33876     0.0            1              1            1             1    \n",
       "33877     0.0            2              1            1             1    \n",
       "33878     0.0            1              1            1             1    \n",
       "\n",
       "      smoke_flag drinking_flag  \n",
       "0             1             0   \n",
       "1             1             0   \n",
       "2             1             0   \n",
       "3             3             1   \n",
       "4             2             0   \n",
       "...          ...           ...  \n",
       "33874          1            0   \n",
       "33875          1            0   \n",
       "33876          1            0   \n",
       "33877          1            0   \n",
       "33878          1            0   \n",
       "\n",
       "[33879 rows x 7 columns]"
      ]
     },
     "execution_count": 82,
     "metadata": {},
     "output_type": "execute_result"
    }
   ],
   "source": [
    "df = cl_2[['n_risk','eyesight_left',\n",
    "       'eyesight_right', 'hearing_left', 'hearing_right','smoke_flag',\n",
    "       'drinking_flag']]\n",
    "\n",
    "df"
   ]
  },
  {
   "cell_type": "code",
   "execution_count": 83,
   "metadata": {},
   "outputs": [
    {
     "name": "stderr",
     "output_type": "stream",
     "text": [
      "C:\\Users\\BHU\\anaconda3\\lib\\site-packages\\pandas\\core\\ops\\array_ops.py:253: FutureWarning: elementwise comparison failed; returning scalar instead, but in the future will perform elementwise comparison\n",
      "  res_values = method(rvalues)\n"
     ]
    }
   ],
   "source": [
    "for i in df.columns :\n",
    "    df = df[df[i] != '.']\n",
    "\n",
    "df = df.astype('float')"
   ]
  },
  {
   "cell_type": "code",
   "execution_count": 85,
   "metadata": {},
   "outputs": [
    {
     "name": "stdout",
     "output_type": "stream",
     "text": [
      "Optimization terminated successfully.\n",
      "         Current function value: 0.363787\n",
      "         Iterations 6\n",
      "                           Logit Regression Results                           \n",
      "==============================================================================\n",
      "Dep. Variable:                 n_risk   No. Observations:                33867\n",
      "Model:                          Logit   Df Residuals:                    33860\n",
      "Method:                           MLE   Df Model:                            6\n",
      "Date:                Tue, 05 May 2020   Pseudo R-squ.:                0.003903\n",
      "Time:                        01:47:24   Log-Likelihood:                -12320.\n",
      "converged:                       True   LL-Null:                       -12369.\n",
      "Covariance Type:            nonrobust   LLR p-value:                 1.309e-18\n",
      "==================================================================================\n",
      "                     coef    std err          z      P>|z|      [0.025      0.975]\n",
      "----------------------------------------------------------------------------------\n",
      "Intercept         -2.7101      0.118    -22.920      0.000      -2.942      -2.478\n",
      "eyesight_left     -0.0501      0.030     -1.656      0.098      -0.109       0.009\n",
      "eyesight_right    -0.0581      0.030     -1.919      0.055      -0.117       0.001\n",
      "hearing_left       0.0990      0.108      0.920      0.358      -0.112       0.310\n",
      "hearing_right      0.4472      0.103      4.324      0.000       0.245       0.650\n",
      "smoke_flag         0.1240      0.022      5.678      0.000       0.081       0.167\n",
      "drinking_flag      0.1168      0.036      3.245      0.001       0.046       0.187\n",
      "==================================================================================\n"
     ]
    }
   ],
   "source": [
    "log_model = Logit.from_formula(''' n_risk ~ eyesight_left+eyesight_right+hearing_left+\n",
    "hearing_right+smoke_flag+drinking_flag ''',data = df)\n",
    "log_result = log_model.fit()\n",
    "print(log_result.summary())\n",
    "\n",
    "# 판정은 0 아니면 1 따라서, 스케일은 진행하지 X"
   ]
  },
  {
   "cell_type": "code",
   "execution_count": 87,
   "metadata": {},
   "outputs": [
    {
     "data": {
      "text/html": [
       "<div>\n",
       "<style scoped>\n",
       "    .dataframe tbody tr th:only-of-type {\n",
       "        vertical-align: middle;\n",
       "    }\n",
       "\n",
       "    .dataframe tbody tr th {\n",
       "        vertical-align: top;\n",
       "    }\n",
       "\n",
       "    .dataframe thead th {\n",
       "        text-align: right;\n",
       "    }\n",
       "</style>\n",
       "<table border=\"1\" class=\"dataframe\">\n",
       "  <thead>\n",
       "    <tr style=\"text-align: right;\">\n",
       "      <th></th>\n",
       "      <th>variable</th>\n",
       "      <th>VIF</th>\n",
       "    </tr>\n",
       "  </thead>\n",
       "  <tbody>\n",
       "    <tr>\n",
       "      <th>1</th>\n",
       "      <td>eyesight_left</td>\n",
       "      <td>1.118</td>\n",
       "    </tr>\n",
       "    <tr>\n",
       "      <th>2</th>\n",
       "      <td>eyesight_right</td>\n",
       "      <td>1.120</td>\n",
       "    </tr>\n",
       "    <tr>\n",
       "      <th>5</th>\n",
       "      <td>smoke_flag</td>\n",
       "      <td>1.125</td>\n",
       "    </tr>\n",
       "    <tr>\n",
       "      <th>6</th>\n",
       "      <td>drinking_flag</td>\n",
       "      <td>1.130</td>\n",
       "    </tr>\n",
       "    <tr>\n",
       "      <th>3</th>\n",
       "      <td>hearing_left</td>\n",
       "      <td>1.382</td>\n",
       "    </tr>\n",
       "    <tr>\n",
       "      <th>4</th>\n",
       "      <td>hearing_right</td>\n",
       "      <td>1.383</td>\n",
       "    </tr>\n",
       "    <tr>\n",
       "      <th>0</th>\n",
       "      <td>const</td>\n",
       "      <td>59.851</td>\n",
       "    </tr>\n",
       "  </tbody>\n",
       "</table>\n",
       "</div>"
      ],
      "text/plain": [
       "         variable     VIF\n",
       "1   eyesight_left   1.118\n",
       "2  eyesight_right   1.120\n",
       "5      smoke_flag   1.125\n",
       "6   drinking_flag   1.130\n",
       "3    hearing_left   1.382\n",
       "4   hearing_right   1.383\n",
       "0           const  59.851"
      ]
     },
     "execution_count": 87,
     "metadata": {},
     "output_type": "execute_result"
    }
   ],
   "source": [
    "df_x = df.drop(['n_risk'],axis = 1)\n",
    "df_x # 종속 변수 빼고 새롭게 데이터 프레임 생성\n",
    "df_x_const = add_constant(df_x) # const열 생성\n",
    "\n",
    "df_vif = pd.DataFrame()\n",
    "df_vif['variable'] = df_x_const.columns\n",
    "df_vif['VIF'] = [variance_inflation_factor(df_x_const.values,i) for i in range(df_x_const.shape[1])]\n",
    "df_vif.sort_values('VIF',inplace=True)\n",
    "df_vif.round(3) # 다중공선성 존재 X -> 회귀식 자체로 판단"
   ]
  },
  {
   "cell_type": "code",
   "execution_count": 92,
   "metadata": {},
   "outputs": [
    {
     "name": "stdout",
     "output_type": "stream",
     "text": [
      "Optimization terminated successfully.\n",
      "         Current function value: 0.363843\n",
      "         Iterations 6\n",
      "                           Logit Regression Results                           \n",
      "==============================================================================\n",
      "Dep. Variable:                 n_risk   No. Observations:                33867\n",
      "Model:                          Logit   Df Residuals:                    33862\n",
      "Method:                           MLE   Df Model:                            4\n",
      "Date:                Tue, 05 May 2020   Pseudo R-squ.:                0.003751\n",
      "Time:                        01:48:18   Log-Likelihood:                -12322.\n",
      "converged:                       True   LL-Null:                       -12369.\n",
      "Covariance Type:            nonrobust   LLR p-value:                 3.347e-19\n",
      "==================================================================================\n",
      "                     coef    std err          z      P>|z|      [0.025      0.975]\n",
      "----------------------------------------------------------------------------------\n",
      "Intercept         -2.6971      0.104    -26.055      0.000      -2.900      -2.494\n",
      "eyesight_right    -0.0760      0.029     -2.614      0.009      -0.133      -0.019\n",
      "hearing_right      0.5040      0.086      5.891      0.000       0.336       0.672\n",
      "smoke_flag         0.1229      0.022      5.629      0.000       0.080       0.166\n",
      "drinking_flag      0.1139      0.036      3.168      0.002       0.043       0.184\n",
      "==================================================================================\n"
     ]
    }
   ],
   "source": [
    "log_model = Logit.from_formula(''' n_risk ~ eyesight_right+\n",
    "hearing_right+smoke_flag+drinking_flag ''',data = df)\n",
    "log_result = log_model.fit()\n",
    "print(log_result.summary())\n",
    "\n",
    "# 판정은 0 아니면 1 따라서, 스케일은 진행하지 X"
   ]
  },
  {
   "cell_type": "markdown",
   "metadata": {},
   "source": [
    "## 전체 변수"
   ]
  },
  {
   "cell_type": "code",
   "execution_count": 94,
   "metadata": {},
   "outputs": [],
   "source": [
    "ensem_x = df.drop(['n_risk'],axis=1)\n",
    "ensem_y = df[['n_risk']]\n",
    "\n",
    "# ensem_x = pd.get_dummies(ensem_x)\n",
    "\n",
    "# scaler = StandardScaler()\n",
    "# en_sc = scaler.fit_transform(ensem_x)\n",
    "# ensem_x = pd.DataFrame(en_sc,columns=ensem_x.columns)\n",
    "\n",
    "# 데이터 분할 1 : 학습용과 시험용\n",
    "\n",
    "train_x, test_x, train_y, test_y = train_test_split(ensem_x,ensem_y,test_size=0.3,random_state = 1234)\n",
    "# 학습용 데이터를 밸리데이션과 학습용으로 분할함으로써 CV진행 준비\n",
    "train_x, val_x, train_y, val_y = train_test_split(train_x,train_y,test_size = 3/7, random_state = 1234)"
   ]
  },
  {
   "cell_type": "code",
   "execution_count": 95,
   "metadata": {
    "scrolled": true
   },
   "outputs": [
    {
     "name": "stderr",
     "output_type": "stream",
     "text": [
      "C:\\Users\\BHU\\anaconda3\\lib\\site-packages\\sklearn\\ensemble\\_gb.py:1454: DataConversionWarning: A column-vector y was passed when a 1d array was expected. Please change the shape of y to (n_samples, ), for example using ravel().\n",
      "  y = column_or_1d(y, warn=True)\n"
     ]
    },
    {
     "name": "stdout",
     "output_type": "stream",
     "text": [
      "\n",
      "최종 모델의 train data의 설명력 : 0.875\n",
      "최종 모델의 validation data의 설명력 : 0.886\n",
      "최종 모델의 test data의 설명력 : 0.884\n"
     ]
    }
   ],
   "source": [
    "gb_final = GradientBoostingClassifier(random_state=1234)\n",
    "gb_final.fit(train_x,train_y)\n",
    "\n",
    "print()\n",
    "print('최종 모델의 train data의 설명력 : {:.3f}'.format(gb_final.score(train_x,train_y)))\n",
    "print('최종 모델의 validation data의 설명력 : {:.3f}'.format(gb_final.score(val_x,val_y)))\n",
    "print('최종 모델의 test data의 설명력 : {:.3f}'.format(gb_final.score(test_x,test_y)))"
   ]
  },
  {
   "cell_type": "code",
   "execution_count": 96,
   "metadata": {},
   "outputs": [
    {
     "name": "stdout",
     "output_type": "stream",
     "text": [
      "Accuracy:0.884\n",
      "\n",
      "Confusion matrix:\n",
      "[[8981    0]\n",
      " [1180    0]]\n"
     ]
    },
    {
     "name": "stderr",
     "output_type": "stream",
     "text": [
      "C:\\Users\\BHU\\anaconda3\\lib\\site-packages\\sklearn\\ensemble\\_gb.py:1454: DataConversionWarning: A column-vector y was passed when a 1d array was expected. Please change the shape of y to (n_samples, ), for example using ravel().\n",
      "  y = column_or_1d(y, warn=True)\n",
      "C:\\Users\\BHU\\anaconda3\\lib\\site-packages\\sklearn\\metrics\\_classification.py:1272: UndefinedMetricWarning: Precision is ill-defined and being set to 0.0 due to no predicted samples. Use `zero_division` parameter to control this behavior.\n",
      "  _warn_prf(average, modifier, msg_start, len(result))\n"
     ]
    },
    {
     "data": {
      "text/html": [
       "<div>\n",
       "<style scoped>\n",
       "    .dataframe tbody tr th:only-of-type {\n",
       "        vertical-align: middle;\n",
       "    }\n",
       "\n",
       "    .dataframe tbody tr th {\n",
       "        vertical-align: top;\n",
       "    }\n",
       "\n",
       "    .dataframe thead th {\n",
       "        text-align: right;\n",
       "    }\n",
       "</style>\n",
       "<table border=\"1\" class=\"dataframe\">\n",
       "  <thead>\n",
       "    <tr style=\"text-align: right;\">\n",
       "      <th></th>\n",
       "      <th>TrainAccuracy</th>\n",
       "      <th>TestAccuracy</th>\n",
       "      <th>F1Score</th>\n",
       "      <th>AUC</th>\n",
       "      <th>PrecisionScore</th>\n",
       "      <th>RecallScore</th>\n",
       "    </tr>\n",
       "  </thead>\n",
       "  <tbody>\n",
       "    <tr>\n",
       "      <th>GradientBoosting</th>\n",
       "      <td>0.875</td>\n",
       "      <td>0.884</td>\n",
       "      <td>0.0</td>\n",
       "      <td>0.5</td>\n",
       "      <td>0.0</td>\n",
       "      <td>0.0</td>\n",
       "    </tr>\n",
       "  </tbody>\n",
       "</table>\n",
       "</div>"
      ],
      "text/plain": [
       "                  TrainAccuracy  TestAccuracy  F1Score  AUC  PrecisionScore  \\\n",
       "GradientBoosting          0.875         0.884      0.0  0.5             0.0   \n",
       "\n",
       "                  RecallScore  \n",
       "GradientBoosting          0.0  "
      ]
     },
     "execution_count": 96,
     "metadata": {},
     "output_type": "execute_result"
    }
   ],
   "source": [
    "y_pred=gb_final.predict(test_x)\n",
    "print('Accuracy:{0:.3f}\\n'.format(gb_final.score(test_x,test_y)))\n",
    "print('Confusion matrix:\\n{}'.format(confusion_matrix(test_y,y_pred)))\n",
    "\n",
    "#분석 모델\n",
    "model=['GradientBoosting']\n",
    "#정확도 저장\n",
    "train_accuracy=[]; test_accuracy=[]\n",
    "#f1 score 저장\n",
    "model_f1_score=[]\n",
    "#auc score 저장\n",
    "model_auc=[]\n",
    "#precision score저장\n",
    "model_precision_score=[]\n",
    "#recall score 저장\n",
    "model_recall_score=[]\n",
    "\n",
    "#최종 모델\n",
    "gb_model=GradientBoostingClassifier(random_state=1234)\n",
    "gb_model.fit(train_x,train_y)\n",
    "# train 정확도\n",
    "train_accuracy.append(gb_model.score(train_x, train_y))\n",
    "# test 정확도\n",
    "test_accuracy.append(gb_model.score(test_x, test_y))\n",
    "#최종 모델을 이용한 분류 예측\n",
    "y_pred=gb_model.predict(test_x)\n",
    "#roc_curve(실제값,예측값) fpr=(FP)/(FP+TN):거짓 양성 비율, tpr=TP/(TP+FN):진짜 양성비율(재현율)\n",
    "fpr,tpr,thresholds=roc_curve(test_y,y_pred)\n",
    "roc_auc=auc(fpr,tpr)\n",
    "#auc 저장\n",
    "model_auc.append(roc_auc)\n",
    "\n",
    "#f1스코어\n",
    "model_f1_score.append(f1_score(test_y,y_pred))\n",
    "#precision 스코어\n",
    "model_precision_score.append(precision_score(test_y,y_pred))\n",
    "#recall 스코어\n",
    "model_recall_score.append(recall_score(test_y,y_pred))\n",
    "\n",
    "df_eval=pd.DataFrame(index=model)\n",
    "df_eval['TrainAccuracy']=train_accuracy\n",
    "df_eval['TestAccuracy']=test_accuracy\n",
    "df_eval['F1Score']=model_f1_score\n",
    "df_eval['AUC']=model_auc\n",
    "df_eval['PrecisionScore']=model_precision_score\n",
    "df_eval['RecallScore']=model_recall_score\n",
    "df_eval.round(3)"
   ]
  },
  {
   "cell_type": "markdown",
   "metadata": {},
   "source": [
    "# 선택 변수"
   ]
  },
  {
   "cell_type": "code",
   "execution_count": 98,
   "metadata": {},
   "outputs": [],
   "source": [
    "ensem_x = df.drop(['n_risk','eyesight_left','hearing_left'],axis=1)\n",
    "ensem_y = df[['n_risk']]\n",
    "\n",
    "# ensem_x = pd.get_dummies(ensem_x)\n",
    "\n",
    "# scaler = StandardScaler()\n",
    "# en_sc = scaler.fit_transform(ensem_x)\n",
    "# ensem_x = pd.DataFrame(en_sc,columns=ensem_x.columns)\n",
    "\n",
    "# 데이터 분할 1 : 학습용과 시험용\n",
    "\n",
    "train_x, test_x, train_y, test_y = train_test_split(ensem_x,ensem_y,test_size=0.3,random_state = 1234)\n",
    "# 학습용 데이터를 밸리데이션과 학습용으로 분할함으로써 CV진행 준비\n",
    "train_x, val_x, train_y, val_y = train_test_split(train_x,train_y,test_size = 3/7, random_state = 1234)"
   ]
  },
  {
   "cell_type": "code",
   "execution_count": 99,
   "metadata": {},
   "outputs": [
    {
     "name": "stderr",
     "output_type": "stream",
     "text": [
      "C:\\Users\\BHU\\anaconda3\\lib\\site-packages\\sklearn\\ensemble\\_gb.py:1454: DataConversionWarning: A column-vector y was passed when a 1d array was expected. Please change the shape of y to (n_samples, ), for example using ravel().\n",
      "  y = column_or_1d(y, warn=True)\n"
     ]
    },
    {
     "name": "stdout",
     "output_type": "stream",
     "text": [
      "\n",
      "최종 모델의 train data의 설명력 : 0.875\n",
      "최종 모델의 validation data의 설명력 : 0.886\n",
      "최종 모델의 test data의 설명력 : 0.884\n"
     ]
    }
   ],
   "source": [
    "gb_final = Rand(random_state=1234)\n",
    "gb_final.fit(train_x,train_y)\n",
    "\n",
    "print()\n",
    "print('최종 모델의 train data의 설명력 : {:.3f}'.format(gb_final.score(train_x,train_y)))\n",
    "print('최종 모델의 validation data의 설명력 : {:.3f}'.format(gb_final.score(val_x,val_y)))\n",
    "print('최종 모델의 test data의 설명력 : {:.3f}'.format(gb_final.score(test_x,test_y)))"
   ]
  },
  {
   "cell_type": "code",
   "execution_count": 100,
   "metadata": {},
   "outputs": [
    {
     "name": "stdout",
     "output_type": "stream",
     "text": [
      "Accuracy:0.884\n",
      "\n",
      "Confusion matrix:\n",
      "[[8981    0]\n",
      " [1180    0]]\n"
     ]
    },
    {
     "name": "stderr",
     "output_type": "stream",
     "text": [
      "C:\\Users\\BHU\\anaconda3\\lib\\site-packages\\sklearn\\ensemble\\_gb.py:1454: DataConversionWarning: A column-vector y was passed when a 1d array was expected. Please change the shape of y to (n_samples, ), for example using ravel().\n",
      "  y = column_or_1d(y, warn=True)\n",
      "C:\\Users\\BHU\\anaconda3\\lib\\site-packages\\sklearn\\metrics\\_classification.py:1272: UndefinedMetricWarning: Precision is ill-defined and being set to 0.0 due to no predicted samples. Use `zero_division` parameter to control this behavior.\n",
      "  _warn_prf(average, modifier, msg_start, len(result))\n"
     ]
    },
    {
     "data": {
      "text/html": [
       "<div>\n",
       "<style scoped>\n",
       "    .dataframe tbody tr th:only-of-type {\n",
       "        vertical-align: middle;\n",
       "    }\n",
       "\n",
       "    .dataframe tbody tr th {\n",
       "        vertical-align: top;\n",
       "    }\n",
       "\n",
       "    .dataframe thead th {\n",
       "        text-align: right;\n",
       "    }\n",
       "</style>\n",
       "<table border=\"1\" class=\"dataframe\">\n",
       "  <thead>\n",
       "    <tr style=\"text-align: right;\">\n",
       "      <th></th>\n",
       "      <th>TrainAccuracy</th>\n",
       "      <th>TestAccuracy</th>\n",
       "      <th>F1Score</th>\n",
       "      <th>AUC</th>\n",
       "      <th>PrecisionScore</th>\n",
       "      <th>RecallScore</th>\n",
       "    </tr>\n",
       "  </thead>\n",
       "  <tbody>\n",
       "    <tr>\n",
       "      <th>GradientBoosting</th>\n",
       "      <td>0.875</td>\n",
       "      <td>0.884</td>\n",
       "      <td>0.0</td>\n",
       "      <td>0.5</td>\n",
       "      <td>0.0</td>\n",
       "      <td>0.0</td>\n",
       "    </tr>\n",
       "  </tbody>\n",
       "</table>\n",
       "</div>"
      ],
      "text/plain": [
       "                  TrainAccuracy  TestAccuracy  F1Score  AUC  PrecisionScore  \\\n",
       "GradientBoosting          0.875         0.884      0.0  0.5             0.0   \n",
       "\n",
       "                  RecallScore  \n",
       "GradientBoosting          0.0  "
      ]
     },
     "execution_count": 100,
     "metadata": {},
     "output_type": "execute_result"
    }
   ],
   "source": [
    "y_pred=gb_final.predict(test_x)\n",
    "print('Accuracy:{0:.3f}\\n'.format(gb_final.score(test_x,test_y)))\n",
    "print('Confusion matrix:\\n{}'.format(confusion_matrix(test_y,y_pred)))\n",
    "\n",
    "#분석 모델\n",
    "model=['GradientBoosting']\n",
    "#정확도 저장\n",
    "train_accuracy=[]; test_accuracy=[]\n",
    "#f1 score 저장\n",
    "model_f1_score=[]\n",
    "#auc score 저장\n",
    "model_auc=[]\n",
    "#precision score저장\n",
    "model_precision_score=[]\n",
    "#recall score 저장\n",
    "model_recall_score=[]\n",
    "\n",
    "#최종 모델\n",
    "gb_model=GradientBoostingClassifier(random_state=1234)\n",
    "gb_model.fit(train_x,train_y)\n",
    "# train 정확도\n",
    "train_accuracy.append(gb_model.score(train_x, train_y))\n",
    "# test 정확도\n",
    "test_accuracy.append(gb_model.score(test_x, test_y))\n",
    "#최종 모델을 이용한 분류 예측\n",
    "y_pred=gb_model.predict(test_x)\n",
    "#roc_curve(실제값,예측값) fpr=(FP)/(FP+TN):거짓 양성 비율, tpr=TP/(TP+FN):진짜 양성비율(재현율)\n",
    "fpr,tpr,thresholds=roc_curve(test_y,y_pred)\n",
    "roc_auc=auc(fpr,tpr)\n",
    "#auc 저장\n",
    "model_auc.append(roc_auc)\n",
    "\n",
    "#f1스코어\n",
    "model_f1_score.append(f1_score(test_y,y_pred))\n",
    "#precision 스코어\n",
    "model_precision_score.append(precision_score(test_y,y_pred))\n",
    "#recall 스코어\n",
    "model_recall_score.append(recall_score(test_y,y_pred))\n",
    "\n",
    "df_eval=pd.DataFrame(index=model)\n",
    "df_eval['TrainAccuracy']=train_accuracy\n",
    "df_eval['TestAccuracy']=test_accuracy\n",
    "df_eval['F1Score']=model_f1_score\n",
    "df_eval['AUC']=model_auc\n",
    "df_eval['PrecisionScore']=model_precision_score\n",
    "df_eval['RecallScore']=model_recall_score\n",
    "df_eval.round(3)"
   ]
  },
  {
   "cell_type": "markdown",
   "metadata": {},
   "source": [
    "### 정확도는 오르나 정밀도가 좋지 X -> 기존의 기준을 유지 판단"
   ]
  }
 ],
 "metadata": {
  "kernelspec": {
   "display_name": "Python 3",
   "language": "python",
   "name": "python3"
  },
  "language_info": {
   "codemirror_mode": {
    "name": "ipython",
    "version": 3
   },
   "file_extension": ".py",
   "mimetype": "text/x-python",
   "name": "python",
   "nbconvert_exporter": "python",
   "pygments_lexer": "ipython3",
   "version": "3.7.6"
  }
 },
 "nbformat": 4,
 "nbformat_minor": 4
}
