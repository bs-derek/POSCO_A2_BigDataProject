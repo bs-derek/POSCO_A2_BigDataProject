{
 "cells": [
  {
   "cell_type": "code",
   "execution_count": 2,
   "metadata": {},
   "outputs": [],
   "source": [
    "import pandas as pd\n",
    "import numpy as np\n",
    "# import pydot\n",
    "\n",
    "import matplotlib.pyplot as plt\n",
    "import matplotlib\n",
    "import seaborn as sns\n",
    "from sklearn.model_selection import train_test_split\n",
    "\n",
    "import statsmodels.formula.api as smf\n",
    "from sklearn.tree import DecisionTreeRegressor\n",
    "from sklearn.ensemble import RandomForestRegressor\n",
    "from sklearn.ensemble import GradientBoostingRegressor\n",
    "\n",
    "from sklearn.metrics import mean_squared_error\n",
    "from sklearn.metrics import mean_absolute_error\n",
    "\n",
    "from sklearn.tree import DecisionTreeClassifier\n",
    "from sklearn.ensemble import RandomForestClassifier\n",
    "from sklearn.ensemble import GradientBoostingClassifier\n",
    "from sklearn.neural_network import MLPClassifier\n",
    "\n",
    "from sklearn.svm import SVC\n",
    "\n",
    "from sklearn.metrics import f1_score,roc_curve,auc,precision_score,recall_score\n",
    "\n",
    "from sklearn.metrics import confusion_matrix\n",
    "\n",
    "import seaborn as sns\n",
    "from scipy import stats\n",
    "import scipy.stats\n",
    "import statsmodels.api as smd\n",
    "from statsmodels.stats.proportion import proportions_ztest\n",
    "\n",
    "# 가설검정, 분산분석하는 패키지\n",
    "from statsmodels.formula.api import ols # 분산분석하기? 모델링?\n",
    "from statsmodels.stats.anova import anova_lm # 아노바 데이터프레임 형태 출력\n",
    "from scipy.stats import shapiro\n",
    "%matplotlib inline\n",
    "from sklearn.preprocessing import scale,minmax_scale,robust_scale\n",
    "from scipy.stats import probplot\n",
    "from sklearn.model_selection import train_test_split\n",
    "from statsmodels.api import Logit\n",
    "\n",
    "# font_path = 'C:/Windows/Fonts/gulim.ttc'\n",
    "font_path = 'C:/Windows/Fonts/gulim.ttc'\n",
    "font_name = matplotlib.font_manager.FontProperties(fname=font_path).get_name()\n",
    "matplotlib.rc('font', family = font_name)\n",
    "\n",
    "from matplotlib import font_manager,rc\n",
    "\n",
    "from statsmodels.stats.outliers_influence import variance_inflation_factor\n",
    "from sklearn.linear_model import LinearRegression\n",
    "from sklearn.feature_selection import RFE\n",
    "from sklearn.preprocessing import StandardScaler\n",
    "from statsmodels.api import qqplot, add_constant\n",
    "\n",
    "# from sklearn.tree import export_graphviz\n",
    "# import graphviz\n",
    "\n",
    "from sklearn.metrics import mean_squared_error\n",
    "from sklearn.metrics import mean_absolute_error\n",
    "import numpy as np\n",
    "# import pydot\n",
    "\n",
    "import matplotlib.pyplot as plt\n",
    "import matplotlib\n",
    "import seaborn as sns\n",
    "from sklearn.model_selection import train_test_split\n",
    "\n",
    "import statsmodels.formula.api as smf\n",
    "from sklearn.tree import DecisionTreeRegressor\n",
    "from sklearn.ensemble import RandomForestRegressor\n",
    "from sklearn.ensemble import GradientBoostingRegressor\n",
    "\n",
    "from sklearn.metrics import mean_squared_error\n",
    "from sklearn.metrics import mean_absolute_error\n",
    "\n",
    "from sklearn.tree import DecisionTreeClassifier\n",
    "from sklearn.ensemble import RandomForestClassifier\n",
    "from sklearn.ensemble import GradientBoostingClassifier\n",
    "from sklearn.neural_network import MLPClassifier\n",
    "\n",
    "from sklearn.svm import SVC\n",
    "\n",
    "from sklearn.metrics import f1_score,roc_curve,auc,precision_score,recall_score\n",
    "\n",
    "from sklearn.metrics import confusion_matrix\n",
    "\n",
    "import seaborn as sns\n",
    "from scipy import stats\n",
    "import scipy.stats\n",
    "import statsmodels.api as smd\n",
    "from statsmodels.stats.proportion import proportions_ztest\n",
    "\n",
    "# 가설검정, 분산분석하는 패키지\n",
    "from statsmodels.formula.api import ols # 분산분석하기? 모델링?\n",
    "from statsmodels.stats.anova import anova_lm # 아노바 데이터프레임 형태 출력\n",
    "from scipy.stats import shapiro\n",
    "%matplotlib inline\n",
    "from sklearn.preprocessing import scale,minmax_scale,robust_scale\n",
    "from scipy.stats import probplot\n",
    "from sklearn.model_selection import train_test_split\n",
    "from statsmodels.api import Logit\n",
    "\n",
    "# # font_path = 'C:/Windows/Fonts/gulim.ttc'\n",
    "# font_path = '/usr/share/fonts/opentype/noto/NotoSerifCJK-ExtraLight.ttc'\n",
    "# font_name = matplotlib.font_manager.FontProperties(fname=font_path).get_name()\n",
    "# matplotlib.rc('font', family = font_name)\n",
    "\n",
    "from matplotlib import font_manager,rc\n",
    "\n",
    "from statsmodels.stats.outliers_influence import variance_inflation_factor\n",
    "from sklearn.linear_model import LinearRegression\n",
    "from sklearn.feature_selection import RFE\n",
    "from sklearn.preprocessing import StandardScaler\n",
    "from statsmodels.api import qqplot, add_constant\n",
    "\n",
    "# from sklearn.tree import export_graphviz\n",
    "# import graphviz\n",
    "\n",
    "from sklearn.metrics import mean_squared_error\n",
    "from sklearn.metrics import mean_absolute_error"
   ]
  },
  {
   "cell_type": "code",
   "execution_count": 3,
   "metadata": {},
   "outputs": [],
   "source": [
    "df_raw = pd.read_csv('review_1.csv',encoding='euckr')"
   ]
  },
  {
   "cell_type": "code",
   "execution_count": 4,
   "metadata": {},
   "outputs": [
    {
     "data": {
      "text/plain": [
       "Unnamed: 0              0\n",
       "customer_id             0\n",
       "review_cat              0\n",
       "judge                   0\n",
       "review_date             0\n",
       "gender                  0\n",
       "age                     0\n",
       "height                  0\n",
       "weight                  0\n",
       "bust                    0\n",
       "waist                   0\n",
       "bmi                     0\n",
       "whtr                    0\n",
       "bp_min                  0\n",
       "bp_max                  0\n",
       "pulse_count             0\n",
       "bt_chol               990\n",
       "bt_crea              2884\n",
       "bt_gluc               990\n",
       "bt_hb                2047\n",
       "bt_hbsa               990\n",
       "bt_hct               2047\n",
       "bt_mch               2047\n",
       "bt_mchc              2047\n",
       "bt_mvc               2047\n",
       "bt_plat              2047\n",
       "bt_rbc               2047\n",
       "bt_wbc               2047\n",
       "bt_rgpt              2666\n",
       "bt_sgot              2569\n",
       "bt_sgpt               990\n",
       "bt_trig              2607\n",
       "judge_score             0\n",
       "bp_judge                0\n",
       "pulse_count_judge       0\n",
       "bt_chol_judge         990\n",
       "bt_crea_judge         990\n",
       "bt_gluc_judge         990\n",
       "bt_hb_judge           990\n",
       "bt_hbsa_judge         990\n",
       "bt_hct_judge          990\n",
       "bt_mch_judge          990\n",
       "bt_mchc_judge         990\n",
       "bt_mvc_judge          990\n",
       "bt_plat_judge         990\n",
       "bt_rbc_judge          990\n",
       "bt_wbc_judge          990\n",
       "bt_rgpt_judge         990\n",
       "bt_sgot_judge         990\n",
       "bt_sgpt_judge         990\n",
       "bt_trig_judge         990\n",
       "risk                    0\n",
       "dtype: int64"
      ]
     },
     "execution_count": 4,
     "metadata": {},
     "output_type": "execute_result"
    }
   ],
   "source": [
    "df_raw.isna().sum()"
   ]
  },
  {
   "cell_type": "code",
   "execution_count": 5,
   "metadata": {},
   "outputs": [],
   "source": [
    "bl_raw = df_raw[df_raw['review_cat'] == '혈액검사']"
   ]
  },
  {
   "cell_type": "code",
   "execution_count": 6,
   "metadata": {},
   "outputs": [
    {
     "data": {
      "text/plain": [
       "Unnamed: 0              0\n",
       "customer_id             0\n",
       "review_cat              0\n",
       "judge                   0\n",
       "review_date             0\n",
       "gender                  0\n",
       "age                     0\n",
       "height                  0\n",
       "weight                  0\n",
       "bust                    0\n",
       "waist                   0\n",
       "bmi                     0\n",
       "whtr                    0\n",
       "bp_min                  0\n",
       "bp_max                  0\n",
       "pulse_count             0\n",
       "bt_chol                 0\n",
       "bt_crea              1894\n",
       "bt_gluc                 0\n",
       "bt_hb                1057\n",
       "bt_hbsa                 0\n",
       "bt_hct               1057\n",
       "bt_mch               1057\n",
       "bt_mchc              1057\n",
       "bt_mvc               1057\n",
       "bt_plat              1057\n",
       "bt_rbc               1057\n",
       "bt_wbc               1057\n",
       "bt_rgpt              1676\n",
       "bt_sgot              1579\n",
       "bt_sgpt                 0\n",
       "bt_trig              1617\n",
       "judge_score             0\n",
       "bp_judge                0\n",
       "pulse_count_judge       0\n",
       "bt_chol_judge           0\n",
       "bt_crea_judge           0\n",
       "bt_gluc_judge           0\n",
       "bt_hb_judge             0\n",
       "bt_hbsa_judge           0\n",
       "bt_hct_judge            0\n",
       "bt_mch_judge            0\n",
       "bt_mchc_judge           0\n",
       "bt_mvc_judge            0\n",
       "bt_plat_judge           0\n",
       "bt_rbc_judge            0\n",
       "bt_wbc_judge            0\n",
       "bt_rgpt_judge           0\n",
       "bt_sgot_judge           0\n",
       "bt_sgpt_judge           0\n",
       "bt_trig_judge           0\n",
       "risk                    0\n",
       "dtype: int64"
      ]
     },
     "execution_count": 6,
     "metadata": {},
     "output_type": "execute_result"
    }
   ],
   "source": [
    "bl_raw.isna().sum() # 989개 데이터 활용 증가, 혈액, 일반 분리하여 모델 진행"
   ]
  },
  {
   "cell_type": "markdown",
   "metadata": {},
   "source": [
    "# 탐색적 분석"
   ]
  },
  {
   "cell_type": "code",
   "execution_count": 6,
   "metadata": {},
   "outputs": [],
   "source": [
    "def myhist(data,var):\n",
    "    plt.hist(data[data['risk']==0][var],label = '수익', alpha = 0.5)\n",
    "    plt.hist(data[data['risk']==1][var],label = '위험', alpha = 0.5)\n",
    "    plt.legend()\n",
    "    \n",
    "def mycrosstab(data,var) : \n",
    "    print(pd.crosstab(index = data['risk'], columns = data[var]))\n",
    "    print()\n",
    "    print(pd.crosstab(index = data['risk'], columns = data[var],normalize = 'columns').round(3))"
   ]
  },
  {
   "cell_type": "code",
   "execution_count": 7,
   "metadata": {},
   "outputs": [],
   "source": [
    "def my_t(data,var):\n",
    "    k = stats.levene(data[data['risk']==0][var],data[data['risk']==1][var])\n",
    "    t_result = stats.ttest_ind(data[data['risk']==0][[var]],\n",
    "                               data[data['risk']==1][[var]],equal_var=True) # 2 sample 비교 명령어\n",
    "\n",
    "    t,p = t_result\n",
    "    print(k,p)"
   ]
  },
  {
   "cell_type": "code",
   "execution_count": 8,
   "metadata": {},
   "outputs": [
    {
     "data": {
      "image/png": "[encoded data removed]",
      "text/plain": [
       "<Figure size 432x288 with 1 Axes>"
      ]
     },
     "metadata": {
      "needs_background": "light"
     },
     "output_type": "display_data"
    }
   ],
   "source": [
    "myhist(bl_raw,'gender')"
   ]
  },
  {
   "cell_type": "code",
   "execution_count": 9,
   "metadata": {},
   "outputs": [
    {
     "name": "stdout",
     "output_type": "stream",
     "text": [
      "gender     1     2\n",
      "risk              \n",
      "0.0      127   201\n",
      "1.0     1270  1937\n",
      "\n",
      "gender      1      2\n",
      "risk                \n",
      "0.0     0.091  0.094\n",
      "1.0     0.909  0.906\n"
     ]
    }
   ],
   "source": [
    "mycrosstab(bl_raw,'gender')"
   ]
  },
  {
   "cell_type": "code",
   "execution_count": 10,
   "metadata": {},
   "outputs": [
    {
     "name": "stdout",
     "output_type": "stream",
     "text": [
      "p-value는 0.756, 따라서 5%에서 유의하지않다\n"
     ]
    }
   ],
   "source": [
    "count = np.array([127,201])\n",
    "num = np.array([127+1270,201+1937])\n",
    "\n",
    "stat, p_value = proportions_ztest(count,num)\n",
    "print('p-value는 {:.3f}, 따라서 5%에서 유의하지않다'.format(p_value.round(3)))"
   ]
  },
  {
   "cell_type": "code",
   "execution_count": 11,
   "metadata": {},
   "outputs": [
    {
     "data": {
      "image/png": "[encoded data removed]",
      "text/plain": [
       "<Figure size 432x288 with 1 Axes>"
      ]
     },
     "metadata": {
      "needs_background": "light"
     },
     "output_type": "display_data"
    }
   ],
   "source": [
    "myhist(bl_raw,'bt_hbsa')"
   ]
  },
  {
   "cell_type": "code",
   "execution_count": 12,
   "metadata": {},
   "outputs": [
    {
     "name": "stdout",
     "output_type": "stream",
     "text": [
      "bt_hbsa  NEGATIVE  POSITIVE\n",
      "risk                       \n",
      "0.0           294        34\n",
      "1.0          2816       391\n",
      "\n",
      "bt_hbsa  NEGATIVE  POSITIVE\n",
      "risk                       \n",
      "0.0         0.095      0.08\n",
      "1.0         0.905      0.92\n"
     ]
    }
   ],
   "source": [
    "mycrosstab(bl_raw,'bt_hbsa')"
   ]
  },
  {
   "cell_type": "code",
   "execution_count": 13,
   "metadata": {},
   "outputs": [
    {
     "name": "stdout",
     "output_type": "stream",
     "text": [
      "p-value는 0.333, 따라서 5%에서 유의하지않다\n"
     ]
    }
   ],
   "source": [
    "count = np.array([294,34])\n",
    "num = np.array([2816+294,391+34])\n",
    "\n",
    "stat, p_value = proportions_ztest(count,num)\n",
    "print('p-value는 {:.3f}, 따라서 5%에서 유의하지않다'.format(p_value.round(3)))"
   ]
  },
  {
   "cell_type": "code",
   "execution_count": 14,
   "metadata": {},
   "outputs": [],
   "source": [
    "bl_set = bl_raw[['age', 'height', 'weight', 'bust', 'waist', 'bmi', 'whtr',\n",
    "       'bp_min', 'bp_max', 'pulse_count', 'bt_chol', 'bt_gluc',\n",
    "       'bt_sgpt', 'judge_score',\n",
    "       'bp_judge', 'pulse_count_judge', 'bt_chol_judge', 'bt_crea_judge',\n",
    "       'bt_gluc_judge', 'bt_hb_judge', 'bt_hbsa_judge', 'bt_hct_judge',\n",
    "       'bt_mch_judge', 'bt_mchc_judge', 'bt_mvc_judge', 'bt_plat_judge',\n",
    "       'bt_rbc_judge', 'bt_wbc_judge', 'bt_rgpt_judge', 'bt_sgot_judge',\n",
    "       'bt_sgpt_judge', 'bt_trig_judge', 'risk']]"
   ]
  },
  {
   "cell_type": "code",
   "execution_count": 15,
   "metadata": {},
   "outputs": [
    {
     "name": "stdout",
     "output_type": "stream",
     "text": [
      "age+height+weight+bust+waist+bmi+whtr+bp_min+bp_max+pulse_count+bt_chol+bt_gluc+bt_sgpt+judge_score+bp_judge+pulse_count_judge+bt_chol_judge+bt_crea_judge+bt_gluc_judge+bt_hb_judge+bt_hbsa_judge+bt_hct_judge+bt_mch_judge+bt_mchc_judge+bt_mvc_judge+bt_plat_judge+bt_rbc_judge+bt_wbc_judge+bt_rgpt_judge+bt_sgot_judge+bt_sgpt_judge+bt_trig_judge+risk+\n"
     ]
    }
   ],
   "source": [
    "st = ''\n",
    "for i in bl_set.columns :\n",
    "    st += i\n",
    "    st += \"+\"\n",
    "print(st)"
   ]
  },
  {
   "cell_type": "code",
   "execution_count": 16,
   "metadata": {},
   "outputs": [
    {
     "name": "stdout",
     "output_type": "stream",
     "text": [
      "Warning: Maximum number of iterations has been exceeded.\n",
      "         Current function value: 0.303418\n",
      "         Iterations: 35\n",
      "                           Logit Regression Results                           \n",
      "==============================================================================\n",
      "Dep. Variable:                   risk   No. Observations:                 3535\n",
      "Model:                          Logit   Df Residuals:                     3505\n",
      "Method:                           MLE   Df Model:                           29\n",
      "Date:                Tue, 05 May 2020   Pseudo R-squ.:                 0.01787\n",
      "Time:                        00:50:13   Log-Likelihood:                -1072.6\n",
      "converged:                      False   LL-Null:                       -1092.1\n",
      "Covariance Type:            nonrobust   LLR p-value:                    0.1012\n",
      "=====================================================================================\n",
      "                        coef    std err          z      P>|z|      [0.025      0.975]\n",
      "-------------------------------------------------------------------------------------\n",
      "Intercept             3.9949      2.056      1.943      0.052      -0.035       8.024\n",
      "age                  -0.0034      0.007     -0.479      0.632      -0.017       0.010\n",
      "height               -0.0011      0.011     -0.104      0.917      -0.022       0.019\n",
      "bust                 -0.0106      0.016     -0.661      0.509      -0.042       0.021\n",
      "bmi                   0.0080      0.040      0.203      0.839      -0.070       0.086\n",
      "whtr                  1.1240      2.355      0.477      0.633      -3.492       5.740\n",
      "bp_min               -0.0339      0.017     -1.941      0.052      -0.068       0.000\n",
      "bp_max                0.0152      0.015      1.026      0.305      -0.014       0.044\n",
      "pulse_count          -0.0019      0.012     -0.164      0.870      -0.025       0.021\n",
      "bt_chol              -0.0015      0.002     -0.759      0.448      -0.006       0.002\n",
      "bt_gluc               0.0013      0.006      0.211      0.833      -0.011       0.013\n",
      "bt_sgpt               0.0027      0.007      0.412      0.680      -0.010       0.016\n",
      "bp_judge              0.3127      0.205      1.526      0.127      -0.089       0.714\n",
      "pulse_count_judge    20.0969   4.22e+04      0.000      1.000   -8.27e+04    8.27e+04\n",
      "bt_chol_judge        -0.0023      0.217     -0.011      0.992      -0.427       0.423\n",
      "bt_crea_judge         0.6252      0.759      0.823      0.410      -0.863       2.113\n",
      "bt_gluc_judge        -0.9387      0.328     -2.859      0.004      -1.582      -0.295\n",
      "bt_hb_judge           0.3569      0.616      0.579      0.562      -0.850       1.564\n",
      "bt_hbsa_judge         0.1427      0.197      0.723      0.470      -0.244       0.530\n",
      "bt_hct_judge         -0.3174      0.622     -0.510      0.610      -1.537       0.903\n",
      "bt_mch_judge          0.1968      0.626      0.314      0.753      -1.031       1.424\n",
      "bt_mchc_judge        -0.8001      0.244     -3.273      0.001      -1.279      -0.321\n",
      "bt_mvc_judge         -0.1182      0.423     -0.279      0.780      -0.948       0.711\n",
      "bt_plat_judge        21.2316   5.68e+04      0.000      1.000   -1.11e+05    1.11e+05\n",
      "bt_rbc_judge          0.8039      1.084      0.742      0.458      -1.321       2.929\n",
      "bt_wbc_judge          0.3616      0.610      0.593      0.553      -0.834       1.557\n",
      "bt_rgpt_judge        -0.2198      0.253     -0.867      0.386      -0.717       0.277\n",
      "bt_sgot_judge         0.0114      0.484      0.024      0.981      -0.937       0.960\n",
      "bt_sgpt_judge        -0.0871      0.317     -0.275      0.783      -0.708       0.533\n",
      "bt_trig_judge        -0.0584      0.196     -0.297      0.766      -0.443       0.327\n",
      "=====================================================================================\n"
     ]
    },
    {
     "name": "stderr",
     "output_type": "stream",
     "text": [
      "C:\\Users\\BHU\\anaconda3\\lib\\site-packages\\statsmodels\\base\\model.py:568: ConvergenceWarning: Maximum Likelihood optimization failed to converge. Check mle_retvals\n",
      "  \"Check mle_retvals\", ConvergenceWarning)\n"
     ]
    }
   ],
   "source": [
    "log_model = Logit.from_formula(''' risk ~ age+height+bust\n",
    "+bmi+whtr+bp_min+bp_max+pulse_count\n",
    "+bt_chol+bt_gluc+bt_sgpt+\n",
    "bp_judge+pulse_count_judge+bt_chol_judge+\n",
    "bt_crea_judge+bt_gluc_judge+bt_hb_judge+\n",
    "bt_hbsa_judge+bt_hct_judge+bt_mch_judge+\n",
    "bt_mchc_judge+bt_mvc_judge+bt_plat_judge+bt_rbc_judge+\n",
    "bt_wbc_judge+bt_rgpt_judge+bt_sgot_judge+bt_sgpt_judge+bt_trig_judge ''',data = bl_set)\n",
    "log_result = log_model.fit()\n",
    "print(log_result.summary())\n",
    "\n",
    "# 판정은 0 아니면 1 따라서, 스케일은 진행하지 X"
   ]
  },
  {
   "cell_type": "code",
   "execution_count": 17,
   "metadata": {},
   "outputs": [
    {
     "data": {
      "text/html": [
       "<div>\n",
       "<style scoped>\n",
       "    .dataframe tbody tr th:only-of-type {\n",
       "        vertical-align: middle;\n",
       "    }\n",
       "\n",
       "    .dataframe tbody tr th {\n",
       "        vertical-align: top;\n",
       "    }\n",
       "\n",
       "    .dataframe thead th {\n",
       "        text-align: right;\n",
       "    }\n",
       "</style>\n",
       "<table border=\"1\" class=\"dataframe\">\n",
       "  <thead>\n",
       "    <tr style=\"text-align: right;\">\n",
       "      <th></th>\n",
       "      <th>variable</th>\n",
       "      <th>VIF</th>\n",
       "    </tr>\n",
       "  </thead>\n",
       "  <tbody>\n",
       "    <tr>\n",
       "      <th>13</th>\n",
       "      <td>pulse_count_judge</td>\n",
       "      <td>1.006</td>\n",
       "    </tr>\n",
       "    <tr>\n",
       "      <th>8</th>\n",
       "      <td>pulse_count</td>\n",
       "      <td>1.022</td>\n",
       "    </tr>\n",
       "    <tr>\n",
       "      <th>25</th>\n",
       "      <td>bt_wbc_judge</td>\n",
       "      <td>1.033</td>\n",
       "    </tr>\n",
       "    <tr>\n",
       "      <th>15</th>\n",
       "      <td>bt_crea_judge</td>\n",
       "      <td>1.049</td>\n",
       "    </tr>\n",
       "    <tr>\n",
       "      <th>23</th>\n",
       "      <td>bt_plat_judge</td>\n",
       "      <td>1.082</td>\n",
       "    </tr>\n",
       "    <tr>\n",
       "      <th>18</th>\n",
       "      <td>bt_hbsa_judge</td>\n",
       "      <td>1.090</td>\n",
       "    </tr>\n",
       "    <tr>\n",
       "      <th>29</th>\n",
       "      <td>bt_trig_judge</td>\n",
       "      <td>1.144</td>\n",
       "    </tr>\n",
       "    <tr>\n",
       "      <th>24</th>\n",
       "      <td>bt_rbc_judge</td>\n",
       "      <td>1.175</td>\n",
       "    </tr>\n",
       "    <tr>\n",
       "      <th>26</th>\n",
       "      <td>bt_rgpt_judge</td>\n",
       "      <td>1.192</td>\n",
       "    </tr>\n",
       "    <tr>\n",
       "      <th>1</th>\n",
       "      <td>age</td>\n",
       "      <td>1.349</td>\n",
       "    </tr>\n",
       "    <tr>\n",
       "      <th>27</th>\n",
       "      <td>bt_sgot_judge</td>\n",
       "      <td>1.378</td>\n",
       "    </tr>\n",
       "    <tr>\n",
       "      <th>14</th>\n",
       "      <td>bt_chol_judge</td>\n",
       "      <td>1.383</td>\n",
       "    </tr>\n",
       "    <tr>\n",
       "      <th>21</th>\n",
       "      <td>bt_mchc_judge</td>\n",
       "      <td>1.390</td>\n",
       "    </tr>\n",
       "    <tr>\n",
       "      <th>9</th>\n",
       "      <td>bt_chol</td>\n",
       "      <td>1.519</td>\n",
       "    </tr>\n",
       "    <tr>\n",
       "      <th>16</th>\n",
       "      <td>bt_gluc_judge</td>\n",
       "      <td>1.527</td>\n",
       "    </tr>\n",
       "    <tr>\n",
       "      <th>10</th>\n",
       "      <td>bt_gluc</td>\n",
       "      <td>1.638</td>\n",
       "    </tr>\n",
       "    <tr>\n",
       "      <th>2</th>\n",
       "      <td>height</td>\n",
       "      <td>1.940</td>\n",
       "    </tr>\n",
       "    <tr>\n",
       "      <th>22</th>\n",
       "      <td>bt_mvc_judge</td>\n",
       "      <td>2.036</td>\n",
       "    </tr>\n",
       "    <tr>\n",
       "      <th>28</th>\n",
       "      <td>bt_sgpt_judge</td>\n",
       "      <td>2.058</td>\n",
       "    </tr>\n",
       "    <tr>\n",
       "      <th>12</th>\n",
       "      <td>bp_judge</td>\n",
       "      <td>2.162</td>\n",
       "    </tr>\n",
       "    <tr>\n",
       "      <th>11</th>\n",
       "      <td>bt_sgpt</td>\n",
       "      <td>2.566</td>\n",
       "    </tr>\n",
       "    <tr>\n",
       "      <th>20</th>\n",
       "      <td>bt_mch_judge</td>\n",
       "      <td>2.728</td>\n",
       "    </tr>\n",
       "    <tr>\n",
       "      <th>4</th>\n",
       "      <td>bmi</td>\n",
       "      <td>2.988</td>\n",
       "    </tr>\n",
       "    <tr>\n",
       "      <th>19</th>\n",
       "      <td>bt_hct_judge</td>\n",
       "      <td>3.125</td>\n",
       "    </tr>\n",
       "    <tr>\n",
       "      <th>6</th>\n",
       "      <td>bp_min</td>\n",
       "      <td>3.176</td>\n",
       "    </tr>\n",
       "    <tr>\n",
       "      <th>5</th>\n",
       "      <td>whtr</td>\n",
       "      <td>3.358</td>\n",
       "    </tr>\n",
       "    <tr>\n",
       "      <th>3</th>\n",
       "      <td>bust</td>\n",
       "      <td>4.024</td>\n",
       "    </tr>\n",
       "    <tr>\n",
       "      <th>17</th>\n",
       "      <td>bt_hb_judge</td>\n",
       "      <td>4.168</td>\n",
       "    </tr>\n",
       "    <tr>\n",
       "      <th>7</th>\n",
       "      <td>bp_max</td>\n",
       "      <td>4.929</td>\n",
       "    </tr>\n",
       "    <tr>\n",
       "      <th>0</th>\n",
       "      <td>const</td>\n",
       "      <td>1224.421</td>\n",
       "    </tr>\n",
       "  </tbody>\n",
       "</table>\n",
       "</div>"
      ],
      "text/plain": [
       "             variable       VIF\n",
       "13  pulse_count_judge     1.006\n",
       "8         pulse_count     1.022\n",
       "25       bt_wbc_judge     1.033\n",
       "15      bt_crea_judge     1.049\n",
       "23      bt_plat_judge     1.082\n",
       "18      bt_hbsa_judge     1.090\n",
       "29      bt_trig_judge     1.144\n",
       "24       bt_rbc_judge     1.175\n",
       "26      bt_rgpt_judge     1.192\n",
       "1                 age     1.349\n",
       "27      bt_sgot_judge     1.378\n",
       "14      bt_chol_judge     1.383\n",
       "21      bt_mchc_judge     1.390\n",
       "9             bt_chol     1.519\n",
       "16      bt_gluc_judge     1.527\n",
       "10            bt_gluc     1.638\n",
       "2              height     1.940\n",
       "22       bt_mvc_judge     2.036\n",
       "28      bt_sgpt_judge     2.058\n",
       "12           bp_judge     2.162\n",
       "11            bt_sgpt     2.566\n",
       "20       bt_mch_judge     2.728\n",
       "4                 bmi     2.988\n",
       "19       bt_hct_judge     3.125\n",
       "6              bp_min     3.176\n",
       "5                whtr     3.358\n",
       "3                bust     4.024\n",
       "17        bt_hb_judge     4.168\n",
       "7              bp_max     4.929\n",
       "0               const  1224.421"
      ]
     },
     "execution_count": 17,
     "metadata": {},
     "output_type": "execute_result"
    }
   ],
   "source": [
    "df_x = bl_set.drop(['risk','judge_score','waist','weight'],axis = 1)\n",
    "df_x # 종속 변수 빼고 새롭게 데이터 프레임 생성\n",
    "df_x_const = add_constant(df_x) # const열 생성\n",
    "\n",
    "df_vif = pd.DataFrame()\n",
    "df_vif['variable'] = df_x_const.columns\n",
    "df_vif['VIF'] = [variance_inflation_factor(df_x_const.values,i) for i in range(df_x_const.shape[1])]\n",
    "df_vif.sort_values('VIF',inplace=True)\n",
    "df_vif.round(3) # 다중공선성 존재 X -> 회귀식 자체로 판단"
   ]
  },
  {
   "cell_type": "markdown",
   "metadata": {},
   "source": [
    "# 5% 유의수준 설정"
   ]
  },
  {
   "cell_type": "code",
   "execution_count": 18,
   "metadata": {},
   "outputs": [
    {
     "name": "stdout",
     "output_type": "stream",
     "text": [
      "Optimization terminated successfully.\n",
      "         Current function value: 0.304913\n",
      "         Iterations 7\n",
      "                           Logit Regression Results                           \n",
      "==============================================================================\n",
      "Dep. Variable:                   risk   No. Observations:                 3535\n",
      "Model:                          Logit   Df Residuals:                     3530\n",
      "Method:                           MLE   Df Model:                            4\n",
      "Date:                Tue, 05 May 2020   Pseudo R-squ.:                 0.01303\n",
      "Time:                        00:50:13   Log-Likelihood:                -1077.9\n",
      "converged:                       True   LL-Null:                       -1092.1\n",
      "Covariance Type:            nonrobust   LLR p-value:                 1.009e-05\n",
      "=================================================================================\n",
      "                    coef    std err          z      P>|z|      [0.025      0.975]\n",
      "---------------------------------------------------------------------------------\n",
      "Intercept         4.1532      0.865      4.800      0.000       2.457       5.849\n",
      "bp_min           -0.0242      0.011     -2.135      0.033      -0.046      -0.002\n",
      "bp_judge          0.4102      0.163      2.524      0.012       0.092       0.729\n",
      "bt_gluc_judge    -0.9024      0.243     -3.717      0.000      -1.378      -0.427\n",
      "bt_mchc_judge    -0.6685      0.203     -3.294      0.001      -1.066      -0.271\n",
      "=================================================================================\n"
     ]
    }
   ],
   "source": [
    "log_model = Logit.from_formula(''' risk ~ bp_min+\n",
    "        bp_judge+\n",
    "        bt_gluc_judge+\n",
    "        bt_mchc_judge\n",
    "         ''',data = bl_set)\n",
    "log_result = log_model.fit()\n",
    "print(log_result.summary())\n",
    "\n",
    "# 판정은 0 아니면 1 따라서, 스케일은 진행하지 X"
   ]
  },
  {
   "cell_type": "code",
   "execution_count": 19,
   "metadata": {},
   "outputs": [
    {
     "name": "stdout",
     "output_type": "stream",
     "text": [
      "select variables :  Index(['pulse_count_judge', 'bt_crea_judge', 'bt_gluc_judge', 'bt_hb_judge',\n",
      "       'bt_hct_judge', 'bt_mchc_judge', 'bt_plat_judge', 'bt_rbc_judge',\n",
      "       'bt_wbc_judge', 'bt_rgpt_judge'],\n",
      "      dtype='object')\n",
      "removed variable :  Index(['age', 'height', 'bust', 'bmi', 'whtr', 'bp_min', 'bp_max',\n",
      "       'pulse_count', 'bt_chol', 'bt_gluc', 'bt_sgpt', 'bp_judge',\n",
      "       'bt_chol_judge', 'bt_hbsa_judge', 'bt_mch_judge', 'bt_mvc_judge',\n",
      "       'bt_sgot_judge', 'bt_sgpt_judge', 'bt_trig_judge'],\n",
      "      dtype='object')\n"
     ]
    }
   ],
   "source": [
    "df_y = bl_set['risk']\n",
    "model = LinearRegression()\n",
    "rfe = RFE(estimator = model, n_features_to_select = 10).fit(df_x,df_y)\n",
    "# df_x는 다중 공선성으로 제거 후 남은 x인자만 존재\n",
    "selected_cols = df_x.columns[rfe.support_]\n",
    "removed_cols = df_x.columns[~rfe.support_]\n",
    "\n",
    "print(\"select variables : \",selected_cols)\n",
    "print(\"removed variable : \",removed_cols)"
   ]
  },
  {
   "cell_type": "code",
   "execution_count": 20,
   "metadata": {},
   "outputs": [
    {
     "name": "stdout",
     "output_type": "stream",
     "text": [
      "pulse_count_judge+bt_crea_judge+bt_gluc_judge+bt_hb_judge+bt_hct_judge+bt_mchc_judge+bt_plat_judge+bt_rbc_judge+bt_wbc_judge+bt_rgpt_judge+\n"
     ]
    }
   ],
   "source": [
    "st = ''\n",
    "for i in ['pulse_count_judge', 'bt_crea_judge', 'bt_gluc_judge', 'bt_hb_judge',\n",
    "       'bt_hct_judge', 'bt_mchc_judge', 'bt_plat_judge', 'bt_rbc_judge',\n",
    "       'bt_wbc_judge', 'bt_rgpt_judge'] :\n",
    "    st += i\n",
    "    st += \"+\"\n",
    "print(st)"
   ]
  },
  {
   "cell_type": "code",
   "execution_count": 21,
   "metadata": {},
   "outputs": [
    {
     "name": "stdout",
     "output_type": "stream",
     "text": [
      "Warning: Maximum number of iterations has been exceeded.\n",
      "         Current function value: 0.305249\n",
      "         Iterations: 35\n",
      "                           Logit Regression Results                           \n",
      "==============================================================================\n",
      "Dep. Variable:                   risk   No. Observations:                 3535\n",
      "Model:                          Logit   Df Residuals:                     3525\n",
      "Method:                           MLE   Df Model:                            9\n",
      "Date:                Tue, 05 May 2020   Pseudo R-squ.:                 0.01194\n",
      "Time:                        00:50:14   Log-Likelihood:                -1079.1\n",
      "converged:                      False   LL-Null:                       -1092.1\n",
      "Covariance Type:            nonrobust   LLR p-value:                  0.001984\n",
      "=====================================================================================\n",
      "                        coef    std err          z      P>|z|      [0.025      0.975]\n",
      "-------------------------------------------------------------------------------------\n",
      "Intercept             2.3585      0.063     37.169      0.000       2.234       2.483\n",
      "pulse_count_judge    14.5227   2673.985      0.005      0.996   -5226.392    5255.438\n",
      "bt_crea_judge         0.6056      0.754      0.803      0.422      -0.873       2.084\n",
      "bt_gluc_judge        -0.9008      0.241     -3.737      0.000      -1.373      -0.428\n",
      "bt_hb_judge           0.4216      0.548      0.769      0.442      -0.652       1.495\n",
      "bt_hct_judge         -0.3067      0.613     -0.500      0.617      -1.508       0.895\n",
      "bt_mchc_judge        -0.8156      0.222     -3.671      0.000      -1.251      -0.380\n",
      "bt_plat_judge        30.0364   4.36e+06   6.89e-06      1.000   -8.54e+06    8.54e+06\n",
      "bt_rbc_judge          0.8044      1.057      0.761      0.447      -1.268       2.877\n",
      "bt_wbc_judge          0.4288      0.610      0.703      0.482      -0.766       1.624\n",
      "=====================================================================================\n"
     ]
    },
    {
     "name": "stderr",
     "output_type": "stream",
     "text": [
      "C:\\Users\\BHU\\anaconda3\\lib\\site-packages\\statsmodels\\base\\model.py:568: ConvergenceWarning: Maximum Likelihood optimization failed to converge. Check mle_retvals\n",
      "  \"Check mle_retvals\", ConvergenceWarning)\n"
     ]
    }
   ],
   "source": [
    "log_model = Logit.from_formula(''' risk ~ pulse_count_judge+\n",
    "bt_crea_judge+bt_gluc_judge+bt_hb_judge+\n",
    "bt_hct_judge+bt_mchc_judge+bt_plat_judge+\n",
    "bt_rbc_judge+bt_wbc_judge''',data = bl_set)\n",
    "log_result = log_model.fit()\n",
    "print(log_result.summary())\n",
    "\n",
    "# 판정은 0 아니면 1 따라서, 스케일은 진행하지 X"
   ]
  },
  {
   "cell_type": "code",
   "execution_count": 22,
   "metadata": {},
   "outputs": [
    {
     "data": {
      "text/plain": [
       "<matplotlib.axes._subplots.AxesSubplot at 0x255620a30c8>"
      ]
     },
     "execution_count": 22,
     "metadata": {},
     "output_type": "execute_result"
    },
    {
     "data": {
      "image/png": "[encoded data removed]",
      "text/plain": [
       "<Figure size 432x288 with 1 Axes>"
      ]
     },
     "metadata": {
      "needs_background": "light"
     },
     "output_type": "display_data"
    }
   ],
   "source": [
    "df_logistic_coef = pd.DataFrame({'Coef':log_result.params.values[1:]},index = log_model.exog_names[1:])\n",
    "df_logistic_coef.plot.barh(y = 'Coef')"
   ]
  },
  {
   "cell_type": "markdown",
   "metadata": {},
   "source": [
    "# Score 탐색적 분석"
   ]
  },
  {
   "cell_type": "code",
   "execution_count": 23,
   "metadata": {},
   "outputs": [
    {
     "data": {
      "text/plain": [
       "Index(['age', 'height', 'weight', 'bust', 'waist', 'bmi', 'whtr', 'bp_min',\n",
       "       'bp_max', 'pulse_count', 'bt_chol', 'bt_gluc', 'bt_sgpt', 'judge_score',\n",
       "       'bp_judge', 'pulse_count_judge', 'bt_chol_judge', 'bt_crea_judge',\n",
       "       'bt_gluc_judge', 'bt_hb_judge', 'bt_hbsa_judge', 'bt_hct_judge',\n",
       "       'bt_mch_judge', 'bt_mchc_judge', 'bt_mvc_judge', 'bt_plat_judge',\n",
       "       'bt_rbc_judge', 'bt_wbc_judge', 'bt_rgpt_judge', 'bt_sgot_judge',\n",
       "       'bt_sgpt_judge', 'bt_trig_judge', 'risk'],\n",
       "      dtype='object')"
      ]
     },
     "execution_count": 23,
     "metadata": {},
     "output_type": "execute_result"
    }
   ],
   "source": [
    "bl_set.columns"
   ]
  },
  {
   "cell_type": "markdown",
   "metadata": {},
   "source": [
    "### T 검정"
   ]
  },
  {
   "cell_type": "code",
   "execution_count": 24,
   "metadata": {},
   "outputs": [
    {
     "name": "stdout",
     "output_type": "stream",
     "text": [
      "LeveneResult(statistic=5.323293723752367, pvalue=0.021099747064628662) [0.46392316]\n"
     ]
    }
   ],
   "source": [
    "my_t(bl_raw,'age') # 유의 age"
   ]
  },
  {
   "cell_type": "code",
   "execution_count": 25,
   "metadata": {},
   "outputs": [
    {
     "name": "stdout",
     "output_type": "stream",
     "text": [
      "LeveneResult(statistic=0.0746257191914752, pvalue=0.7847330613859345) [0.567599]\n"
     ]
    }
   ],
   "source": [
    "my_t(bl_raw,'height') "
   ]
  },
  {
   "cell_type": "code",
   "execution_count": 26,
   "metadata": {},
   "outputs": [
    {
     "name": "stdout",
     "output_type": "stream",
     "text": [
      "LeveneResult(statistic=0.48516566583305404, pvalue=0.4861375750550695) [0.56523653]\n"
     ]
    }
   ],
   "source": [
    "my_t(bl_raw,'waist') "
   ]
  },
  {
   "cell_type": "code",
   "execution_count": 27,
   "metadata": {},
   "outputs": [
    {
     "name": "stdout",
     "output_type": "stream",
     "text": [
      "LeveneResult(statistic=1.205444202440374, pvalue=0.2723110860002941) [0.33300679]\n"
     ]
    }
   ],
   "source": [
    "my_t(bl_raw,'bust') "
   ]
  },
  {
   "cell_type": "code",
   "execution_count": 28,
   "metadata": {},
   "outputs": [
    {
     "name": "stdout",
     "output_type": "stream",
     "text": [
      "LeveneResult(statistic=4.872045937417707, pvalue=0.027359178078752825) [0.64490713]\n"
     ]
    }
   ],
   "source": [
    "my_t(bl_raw,'bmi') # 유의"
   ]
  },
  {
   "cell_type": "code",
   "execution_count": 29,
   "metadata": {},
   "outputs": [
    {
     "name": "stdout",
     "output_type": "stream",
     "text": [
      "LeveneResult(statistic=0.17574124210035255, pvalue=0.6750844742526971) [0.6978604]\n"
     ]
    }
   ],
   "source": [
    "my_t(bl_raw,'whtr') "
   ]
  },
  {
   "cell_type": "code",
   "execution_count": 30,
   "metadata": {},
   "outputs": [
    {
     "name": "stdout",
     "output_type": "stream",
     "text": [
      "LeveneResult(statistic=0.01490210422903814, pvalue=0.9028472169391932) [0.18773904]\n"
     ]
    }
   ],
   "source": [
    "my_t(bl_raw,'bp_min') "
   ]
  },
  {
   "cell_type": "code",
   "execution_count": 31,
   "metadata": {},
   "outputs": [
    {
     "name": "stdout",
     "output_type": "stream",
     "text": [
      "LeveneResult(statistic=2.5056663195009246, pvalue=0.11352700277871448) [0.82021199]\n"
     ]
    }
   ],
   "source": [
    "my_t(bl_raw,'bp_max') "
   ]
  },
  {
   "cell_type": "code",
   "execution_count": 32,
   "metadata": {},
   "outputs": [
    {
     "name": "stdout",
     "output_type": "stream",
     "text": [
      "LeveneResult(statistic=0.0009225951359963505, pvalue=0.9757702955850929) [0.73558595]\n"
     ]
    }
   ],
   "source": [
    "my_t(bl_raw,'pulse_count') "
   ]
  },
  {
   "cell_type": "code",
   "execution_count": 33,
   "metadata": {},
   "outputs": [
    {
     "name": "stdout",
     "output_type": "stream",
     "text": [
      "LeveneResult(statistic=0.004928260974116057, pvalue=0.944037194777849) [0.24151309]\n"
     ]
    }
   ],
   "source": [
    "my_t(bl_raw,'bt_chol') "
   ]
  },
  {
   "cell_type": "code",
   "execution_count": 34,
   "metadata": {},
   "outputs": [
    {
     "name": "stdout",
     "output_type": "stream",
     "text": [
      "LeveneResult(statistic=3.8616874163224733, pvalue=0.049478856956563545) [0.08179168]\n"
     ]
    }
   ],
   "source": [
    "my_t(bl_raw,'bt_gluc') # 유의"
   ]
  },
  {
   "cell_type": "code",
   "execution_count": 35,
   "metadata": {},
   "outputs": [
    {
     "name": "stdout",
     "output_type": "stream",
     "text": [
      "LeveneResult(statistic=0.018357246431553464, pvalue=0.8922330455889127) [0.7251153]\n"
     ]
    }
   ],
   "source": [
    "my_t(bl_raw,'bt_sgpt') "
   ]
  },
  {
   "cell_type": "markdown",
   "metadata": {},
   "source": [
    "### Z 검정"
   ]
  },
  {
   "cell_type": "code",
   "execution_count": 36,
   "metadata": {},
   "outputs": [
    {
     "name": "stdout",
     "output_type": "stream",
     "text": [
      "bt_crea_judge   0.0  1.0\n",
      "risk                    \n",
      "0.0             326    2\n",
      "1.0            3184   23\n",
      "\n",
      "bt_crea_judge    0.0   1.0\n",
      "risk                      \n",
      "0.0            0.093  0.08\n",
      "1.0            0.907  0.92\n"
     ]
    }
   ],
   "source": [
    "mycrosstab(bl_raw,'bt_crea_judge')"
   ]
  },
  {
   "cell_type": "code",
   "execution_count": 37,
   "metadata": {},
   "outputs": [
    {
     "name": "stdout",
     "output_type": "stream",
     "text": [
      "p-value는 0.825\n"
     ]
    }
   ],
   "source": [
    "count = np.array([326,2])\n",
    "num = np.array([3184+326,2+23])\n",
    "\n",
    "stat, p_value = proportions_ztest(count,num)\n",
    "print('p-value는 {:.3f}'.format(p_value.round(3)))"
   ]
  },
  {
   "cell_type": "code",
   "execution_count": 38,
   "metadata": {},
   "outputs": [
    {
     "name": "stdout",
     "output_type": "stream",
     "text": [
      "bt_hbsa_judge   0.0  1.0\n",
      "risk                    \n",
      "0.0             294   34\n",
      "1.0            2816  391\n",
      "\n",
      "bt_hbsa_judge    0.0   1.0\n",
      "risk                      \n",
      "0.0            0.095  0.08\n",
      "1.0            0.905  0.92\n"
     ]
    }
   ],
   "source": [
    "mycrosstab(bl_raw,'bt_hbsa_judge')"
   ]
  },
  {
   "cell_type": "code",
   "execution_count": 39,
   "metadata": {},
   "outputs": [
    {
     "name": "stdout",
     "output_type": "stream",
     "text": [
      "p-value는 0.333\n"
     ]
    }
   ],
   "source": [
    "count = np.array([294,34])\n",
    "num = np.array([2816+294,34+391])\n",
    "\n",
    "stat, p_value = proportions_ztest(count,num)\n",
    "print('p-value는 {:.3f}'.format(p_value.round(3)))"
   ]
  },
  {
   "cell_type": "code",
   "execution_count": 40,
   "metadata": {},
   "outputs": [
    {
     "name": "stdout",
     "output_type": "stream",
     "text": [
      "bt_hct_judge   0.0  1.0\n",
      "risk                   \n",
      "0.0            316   12\n",
      "1.0           3111   96\n",
      "\n",
      "bt_hct_judge    0.0    1.0\n",
      "risk                      \n",
      "0.0           0.092  0.111\n",
      "1.0           0.908  0.889\n"
     ]
    }
   ],
   "source": [
    "mycrosstab(bl_raw,'bt_hct_judge')"
   ]
  },
  {
   "cell_type": "code",
   "execution_count": 41,
   "metadata": {},
   "outputs": [
    {
     "name": "stdout",
     "output_type": "stream",
     "text": [
      "p-value는 0.505\n"
     ]
    }
   ],
   "source": [
    "a = 316 ; b = 12 ; c = 3111 ; d = 96\n",
    "\n",
    "count = np.array([a,b])\n",
    "num = np.array([a+c,b+d])\n",
    "\n",
    "stat, p_value = proportions_ztest(count,num)\n",
    "print('p-value는 {:.3f}'.format(p_value.round(3)))"
   ]
  },
  {
   "cell_type": "code",
   "execution_count": 42,
   "metadata": {},
   "outputs": [
    {
     "name": "stdout",
     "output_type": "stream",
     "text": [
      "bt_mch_judge   0.0  1.0\n",
      "risk                   \n",
      "0.0            319    9\n",
      "1.0           3142   65\n",
      "\n",
      "bt_mch_judge    0.0    1.0\n",
      "risk                      \n",
      "0.0           0.092  0.122\n",
      "1.0           0.908  0.878\n"
     ]
    }
   ],
   "source": [
    "mycrosstab(bl_raw,'bt_mch_judge')"
   ]
  },
  {
   "cell_type": "code",
   "execution_count": 43,
   "metadata": {},
   "outputs": [
    {
     "name": "stdout",
     "output_type": "stream",
     "text": [
      "p-value는 0.388\n"
     ]
    }
   ],
   "source": [
    "a = 319 ; b = 9 ; c = 3142 ; d = 65\n",
    "\n",
    "count = np.array([a,b])\n",
    "num = np.array([a+c,b+d])\n",
    "\n",
    "stat, p_value = proportions_ztest(count,num)\n",
    "print('p-value는 {:.3f}'.format(p_value.round(3)))"
   ]
  },
  {
   "cell_type": "code",
   "execution_count": 44,
   "metadata": {},
   "outputs": [
    {
     "name": "stdout",
     "output_type": "stream",
     "text": [
      "bt_mchc_judge   0.0  1.0\n",
      "risk                    \n",
      "0.0             296   32\n",
      "1.0            3034  173\n",
      "\n",
      "bt_mchc_judge    0.0    1.0\n",
      "risk                       \n",
      "0.0            0.089  0.156\n",
      "1.0            0.911  0.844\n"
     ]
    }
   ],
   "source": [
    "mycrosstab(bl_raw,'bt_mchc_judge')"
   ]
  },
  {
   "cell_type": "code",
   "execution_count": 45,
   "metadata": {},
   "outputs": [
    {
     "name": "stdout",
     "output_type": "stream",
     "text": [
      "p-value는 0.001\n"
     ]
    }
   ],
   "source": [
    "a = 296 ; b = 32 ; c = 3034 ; d = 173\n",
    "\n",
    "count = np.array([a,b])\n",
    "num = np.array([a+c,b+d])\n",
    "\n",
    "stat, p_value = proportions_ztest(count,num)\n",
    "print('p-value는 {:.3f}'.format(p_value.round(3))) # 유의"
   ]
  },
  {
   "cell_type": "code",
   "execution_count": 46,
   "metadata": {},
   "outputs": [
    {
     "name": "stdout",
     "output_type": "stream",
     "text": [
      "bt_mvc_judge   0.0  1.0\n",
      "risk                   \n",
      "0.0            313   15\n",
      "1.0           3113   94\n",
      "\n",
      "bt_mvc_judge    0.0    1.0\n",
      "risk                      \n",
      "0.0           0.091  0.138\n",
      "1.0           0.909  0.862\n"
     ]
    }
   ],
   "source": [
    "mycrosstab(bl_raw,'bt_mvc_judge')"
   ]
  },
  {
   "cell_type": "code",
   "execution_count": 47,
   "metadata": {},
   "outputs": [
    {
     "name": "stdout",
     "output_type": "stream",
     "text": [
      "p-value는 0.101\n"
     ]
    }
   ],
   "source": [
    "a = 313 ; b = 15 ; c = 3113 ; d = 94\n",
    "\n",
    "count = np.array([a,b])\n",
    "num = np.array([a+c,b+d])\n",
    "\n",
    "stat, p_value = proportions_ztest(count,num)\n",
    "print('p-value는 {:.3f}'.format(p_value.round(3))) # 보류"
   ]
  },
  {
   "cell_type": "code",
   "execution_count": 48,
   "metadata": {},
   "outputs": [
    {
     "name": "stdout",
     "output_type": "stream",
     "text": [
      "bt_plat_judge   0.0  1.0\n",
      "risk                    \n",
      "0.0             328    0\n",
      "1.0            3202    5\n",
      "\n",
      "bt_plat_judge    0.0  1.0\n",
      "risk                     \n",
      "0.0            0.093  0.0\n",
      "1.0            0.907  1.0\n"
     ]
    }
   ],
   "source": [
    "mycrosstab(bl_raw,'bt_plat_judge')"
   ]
  },
  {
   "cell_type": "code",
   "execution_count": 49,
   "metadata": {},
   "outputs": [
    {
     "name": "stdout",
     "output_type": "stream",
     "text": [
      "p-value는 0.474\n"
     ]
    }
   ],
   "source": [
    "a = 328 ; b = 0 ; c = 3202 ; d = 5\n",
    "\n",
    "count = np.array([a,b])\n",
    "num = np.array([a+c,b+d])\n",
    "\n",
    "stat, p_value = proportions_ztest(count,num)\n",
    "print('p-value는 {:.3f}'.format(p_value.round(3)))"
   ]
  },
  {
   "cell_type": "code",
   "execution_count": 50,
   "metadata": {},
   "outputs": [
    {
     "name": "stdout",
     "output_type": "stream",
     "text": [
      "bt_rbc_judge   0.0  1.0\n",
      "risk                   \n",
      "0.0            327    1\n",
      "1.0           3187   20\n",
      "\n",
      "bt_rbc_judge    0.0    1.0\n",
      "risk                      \n",
      "0.0           0.093  0.048\n",
      "1.0           0.907  0.952\n"
     ]
    }
   ],
   "source": [
    "mycrosstab(bl_raw,'bt_rbc_judge')"
   ]
  },
  {
   "cell_type": "code",
   "execution_count": 51,
   "metadata": {},
   "outputs": [
    {
     "name": "stdout",
     "output_type": "stream",
     "text": [
      "p-value는 0.474\n"
     ]
    }
   ],
   "source": [
    "a = 327 ; b = 1 ; c = 3187 ; d = 20\n",
    "\n",
    "count = np.array([a,b])\n",
    "num = np.array([a+c,b+d])\n",
    "\n",
    "stat, p_value = proportions_ztest(count,num)\n",
    "print('p-value는 {:.3f}'.format(p_value.round(3)))"
   ]
  },
  {
   "cell_type": "code",
   "execution_count": 52,
   "metadata": {},
   "outputs": [
    {
     "name": "stdout",
     "output_type": "stream",
     "text": [
      "bt_wbc_judge   0.0  1.0\n",
      "risk                   \n",
      "0.0            325    3\n",
      "1.0           3166   41\n",
      "\n",
      "bt_wbc_judge    0.0    1.0\n",
      "risk                      \n",
      "0.0           0.093  0.068\n",
      "1.0           0.907  0.932\n"
     ]
    }
   ],
   "source": [
    "mycrosstab(bl_raw,'bt_wbc_judge')"
   ]
  },
  {
   "cell_type": "code",
   "execution_count": 53,
   "metadata": {},
   "outputs": [
    {
     "name": "stdout",
     "output_type": "stream",
     "text": [
      "p-value는 0.571\n"
     ]
    }
   ],
   "source": [
    "a = 325 ; b = 3 ; c = 3166 ; d = 41\n",
    "\n",
    "count = np.array([a,b])\n",
    "num = np.array([a+c,b+d])\n",
    "\n",
    "stat, p_value = proportions_ztest(count,num)\n",
    "print('p-value는 {:.3f}'.format(p_value.round(3)))"
   ]
  },
  {
   "cell_type": "code",
   "execution_count": 54,
   "metadata": {},
   "outputs": [
    {
     "name": "stdout",
     "output_type": "stream",
     "text": [
      "bt_rgpt_judge   0.0  1.0\n",
      "risk                    \n",
      "0.0             304   24\n",
      "1.0            3033  174\n",
      "\n",
      "bt_rgpt_judge    0.0    1.0\n",
      "risk                       \n",
      "0.0            0.091  0.121\n",
      "1.0            0.909  0.879\n"
     ]
    }
   ],
   "source": [
    "mycrosstab(bl_raw,'bt_rgpt_judge')"
   ]
  },
  {
   "cell_type": "code",
   "execution_count": 55,
   "metadata": {},
   "outputs": [
    {
     "name": "stdout",
     "output_type": "stream",
     "text": [
      "p-value는 0.156\n"
     ]
    }
   ],
   "source": [
    "a = 304 ; b = 24 ; c = 3033 ; d = 174\n",
    "\n",
    "count = np.array([a,b])\n",
    "num = np.array([a+c,b+d])\n",
    "\n",
    "stat, p_value = proportions_ztest(count,num)\n",
    "print('p-value는 {:.3f}'.format(p_value.round(3)))"
   ]
  },
  {
   "cell_type": "code",
   "execution_count": 56,
   "metadata": {},
   "outputs": [
    {
     "name": "stdout",
     "output_type": "stream",
     "text": [
      "bt_sgot_judge   0.0  1.0\n",
      "risk                    \n",
      "0.0             321    7\n",
      "1.0            3143   64\n",
      "\n",
      "bt_sgot_judge    0.0    1.0\n",
      "risk                       \n",
      "0.0            0.093  0.099\n",
      "1.0            0.907  0.901\n"
     ]
    }
   ],
   "source": [
    "mycrosstab(bl_raw,'bt_sgot_judge')"
   ]
  },
  {
   "cell_type": "code",
   "execution_count": 57,
   "metadata": {},
   "outputs": [
    {
     "name": "stdout",
     "output_type": "stream",
     "text": [
      "p-value는 0.865\n"
     ]
    }
   ],
   "source": [
    "a = 321 ; b = 7 ; c = 3143 ; d = 64\n",
    "\n",
    "count = np.array([a,b])\n",
    "num = np.array([a+c,b+d])\n",
    "\n",
    "stat, p_value = proportions_ztest(count,num)\n",
    "print('p-value는 {:.3f}'.format(p_value.round(3)))"
   ]
  },
  {
   "cell_type": "code",
   "execution_count": 58,
   "metadata": {},
   "outputs": [
    {
     "name": "stdout",
     "output_type": "stream",
     "text": [
      "bt_trig_judge   0.0  1.0\n",
      "risk                    \n",
      "0.0             289   39\n",
      "1.0            2882  325\n",
      "\n",
      "bt_trig_judge    0.0    1.0\n",
      "risk                       \n",
      "0.0            0.091  0.107\n",
      "1.0            0.909  0.893\n"
     ]
    }
   ],
   "source": [
    "mycrosstab(bl_raw,'bt_trig_judge')"
   ]
  },
  {
   "cell_type": "code",
   "execution_count": 59,
   "metadata": {},
   "outputs": [
    {
     "name": "stdout",
     "output_type": "stream",
     "text": [
      "p-value는 0.319\n"
     ]
    }
   ],
   "source": [
    "a = 289 ; b = 39 ; c = 2882 ; d = 325\n",
    "\n",
    "count = np.array([a,b])\n",
    "num = np.array([a+c,b+d])\n",
    "\n",
    "stat, p_value = proportions_ztest(count,num)\n",
    "print('p-value는 {:.3f}'.format(p_value.round(3)))"
   ]
  },
  {
   "cell_type": "code",
   "execution_count": 60,
   "metadata": {},
   "outputs": [
    {
     "name": "stdout",
     "output_type": "stream",
     "text": [
      "bt_gluc_judge   0.0  1.0\n",
      "risk                    \n",
      "0.0             305   23\n",
      "1.0            3110   97\n",
      "\n",
      "bt_gluc_judge    0.0    1.0\n",
      "risk                       \n",
      "0.0            0.089  0.192\n",
      "1.0            0.911  0.808\n"
     ]
    }
   ],
   "source": [
    "mycrosstab(bl_raw,'bt_gluc_judge')"
   ]
  },
  {
   "cell_type": "code",
   "execution_count": 61,
   "metadata": {},
   "outputs": [
    {
     "name": "stdout",
     "output_type": "stream",
     "text": [
      "p-value는 0.000\n"
     ]
    }
   ],
   "source": [
    "a = 305 ; b = 23 ; c = 3110 ; d = 97\n",
    "\n",
    "count = np.array([a,b])\n",
    "num = np.array([a+c,b+d])\n",
    "\n",
    "stat, p_value = proportions_ztest(count,num)\n",
    "print('p-value는 {:.3f}'.format(p_value.round(3))) # 유의"
   ]
  },
  {
   "cell_type": "markdown",
   "metadata": {},
   "source": [
    "# Case 정리\n",
    "\n",
    "- 'pulse_count', 'bt_gluc_judge', 'bt_mchc_judge', 'bt_plat_judge','bt_rbc_judge','gender'\n",
    "- 설명력 0.913, 분류 good 97, 정밀도 0.916 F1 0.955\n",
    "- 'pulse_count', 'bt_gluc_judge', 'bt_mchc_judge', 'bt_plat_judge','bt_rbc_judge'\n",
    "- 설명력 0.914  good 64 정밀도 0.918\n",
    "- 'bp_judge', 'bp_min', 'bt_gluc', 'bt_mchc_judge'\n",
    "- 설명력 0.913 good 74 정밀도 0.918\n",
    "- 'bt_chol','bp_judge','bt_gluc_judge','bt_mchc_judge','gender'\n",
    "- 설명력 0.916 good 76 정밀도 0.919\n",
    "- 검정 : 'age', 'bmi', 'bt_gluc', 'bt_mchc_judge', 'bt_mvc_judge' 0.913, 54 => 컨퓨전 분류 X"
   ]
  },
  {
   "cell_type": "markdown",
   "metadata": {},
   "source": [
    "=> 최종 변수 선택 : 'bt_chol','bp_judge','bt_gluc_judge','bt_mchc_judge','gender'"
   ]
  },
  {
   "cell_type": "code",
   "execution_count": 7,
   "metadata": {},
   "outputs": [],
   "source": [
    "ensem_x = bl_raw[['bt_chol','bp_judge','bt_gluc_judge','bt_mchc_judge','gender']]\n",
    "ensem_y = bl_raw[['risk']]\n",
    "\n",
    "# ensem_x = pd.get_dummies(ensem_x)\n",
    "\n",
    "# scaler = StandardScaler()\n",
    "# en_sc = scaler.fit_transform(ensem_x)\n",
    "# ensem_x = pd.DataFrame(en_sc,columns=ensem_x.columns)\n",
    "\n",
    "# 데이터 분할 1 : 학습용과 시험용\n",
    "\n",
    "train_x, test_x, train_y, test_y = train_test_split(ensem_x,ensem_y,test_size=0.3,random_state = 1234)\n",
    "# 학습용 데이터를 밸리데이션과 학습용으로 분할함으로써 CV진행 준비\n",
    "train_x, val_x, train_y, val_y = train_test_split(train_x,train_y,test_size = 3/7, random_state = 1234)"
   ]
  },
  {
   "cell_type": "code",
   "execution_count": 8,
   "metadata": {},
   "outputs": [
    {
     "name": "stderr",
     "output_type": "stream",
     "text": [
      "C:\\Users\\BHU\\anaconda3\\lib\\site-packages\\sklearn\\ensemble\\_gb.py:1454: DataConversionWarning: A column-vector y was passed when a 1d array was expected. Please change the shape of y to (n_samples, ), for example using ravel().\n",
      "  y = column_or_1d(y, warn=True)\n"
     ]
    },
    {
     "name": "stdout",
     "output_type": "stream",
     "text": [
      "\n",
      "최종 모델의 train data의 설명력 : 0.908\n",
      "최종 모델의 validation data의 설명력 : 0.906\n",
      "최종 모델의 test data의 설명력 : 0.916\n"
     ]
    }
   ],
   "source": [
    "gb_final = GradientBoostingClassifier(random_state=1234)\n",
    "gb_final.fit(train_x,train_y)\n",
    "\n",
    "print()\n",
    "print('최종 모델의 train data의 설명력 : {:.3f}'.format(gb_final.score(train_x,train_y)))\n",
    "print('최종 모델의 validation data의 설명력 : {:.3f}'.format(gb_final.score(val_x,val_y)))\n",
    "print('최종 모델의 test data의 설명력 : {:.3f}'.format(gb_final.score(test_x,test_y)))"
   ]
  },
  {
   "cell_type": "markdown",
   "metadata": {},
   "source": [
    "# GB 모델 사용\n",
    "\n",
    "- Scale 모델의 경우, 거절 고객의 분류 X\n",
    "- DT, RF, GB 중 과적합이 적고, 초기 설명력이 높은 GB 사용\n",
    "- 파라미터 설정 X => 파라미터 설정 유무에 설명력이 큰 영향 X"
   ]
  },
  {
   "cell_type": "code",
   "execution_count": 9,
   "metadata": {},
   "outputs": [
    {
     "name": "stdout",
     "output_type": "stream",
     "text": [
      "Accuracy:0.916\n",
      "\n",
      "Confusion matrix:\n",
      "[[  4  85]\n",
      " [  4 968]]\n"
     ]
    },
    {
     "name": "stderr",
     "output_type": "stream",
     "text": [
      "C:\\Users\\BHU\\anaconda3\\lib\\site-packages\\sklearn\\ensemble\\_gb.py:1454: DataConversionWarning: A column-vector y was passed when a 1d array was expected. Please change the shape of y to (n_samples, ), for example using ravel().\n",
      "  y = column_or_1d(y, warn=True)\n"
     ]
    },
    {
     "data": {
      "text/html": [
       "<div>\n",
       "<style scoped>\n",
       "    .dataframe tbody tr th:only-of-type {\n",
       "        vertical-align: middle;\n",
       "    }\n",
       "\n",
       "    .dataframe tbody tr th {\n",
       "        vertical-align: top;\n",
       "    }\n",
       "\n",
       "    .dataframe thead th {\n",
       "        text-align: right;\n",
       "    }\n",
       "</style>\n",
       "<table border=\"1\" class=\"dataframe\">\n",
       "  <thead>\n",
       "    <tr style=\"text-align: right;\">\n",
       "      <th></th>\n",
       "      <th>TrainAccuracy</th>\n",
       "      <th>TestAccuracy</th>\n",
       "      <th>F1Score</th>\n",
       "      <th>AUC</th>\n",
       "      <th>PrecisionScore</th>\n",
       "      <th>RecallScore</th>\n",
       "    </tr>\n",
       "  </thead>\n",
       "  <tbody>\n",
       "    <tr>\n",
       "      <th>GradientBoosting</th>\n",
       "      <td>0.908</td>\n",
       "      <td>0.916</td>\n",
       "      <td>0.956</td>\n",
       "      <td>0.52</td>\n",
       "      <td>0.919</td>\n",
       "      <td>0.996</td>\n",
       "    </tr>\n",
       "  </tbody>\n",
       "</table>\n",
       "</div>"
      ],
      "text/plain": [
       "                  TrainAccuracy  TestAccuracy  F1Score   AUC  PrecisionScore  \\\n",
       "GradientBoosting          0.908         0.916    0.956  0.52           0.919   \n",
       "\n",
       "                  RecallScore  \n",
       "GradientBoosting        0.996  "
      ]
     },
     "execution_count": 9,
     "metadata": {},
     "output_type": "execute_result"
    }
   ],
   "source": [
    "y_pred=gb_final.predict(test_x)\n",
    "print('Accuracy:{0:.3f}\\n'.format(gb_final.score(test_x,test_y)))\n",
    "print('Confusion matrix:\\n{}'.format(confusion_matrix(test_y,y_pred)))\n",
    "\n",
    "#분석 모델\n",
    "model=['GradientBoosting']\n",
    "#정확도 저장\n",
    "train_accuracy=[]; test_accuracy=[]\n",
    "#f1 score 저장\n",
    "model_f1_score=[]\n",
    "#auc score 저장\n",
    "model_auc=[]\n",
    "#precision score저장\n",
    "model_precision_score=[]\n",
    "#recall score 저장\n",
    "model_recall_score=[]\n",
    "\n",
    "#최종 모델\n",
    "gb_model=GradientBoostingClassifier(random_state=1234)\n",
    "gb_model.fit(train_x,train_y)\n",
    "# train 정확도\n",
    "train_accuracy.append(gb_model.score(train_x, train_y))\n",
    "# test 정확도\n",
    "test_accuracy.append(gb_model.score(test_x, test_y))\n",
    "#최종 모델을 이용한 분류 예측\n",
    "y_pred=gb_model.predict(test_x)\n",
    "#roc_curve(실제값,예측값) fpr=(FP)/(FP+TN):거짓 양성 비율, tpr=TP/(TP+FN):진짜 양성비율(재현율)\n",
    "fpr,tpr,thresholds=roc_curve(test_y,y_pred)\n",
    "roc_auc=auc(fpr,tpr)\n",
    "#auc 저장\n",
    "model_auc.append(roc_auc)\n",
    "\n",
    "#f1스코어\n",
    "model_f1_score.append(f1_score(test_y,y_pred))\n",
    "#precision 스코어\n",
    "model_precision_score.append(precision_score(test_y,y_pred))\n",
    "#recall 스코어\n",
    "model_recall_score.append(recall_score(test_y,y_pred))\n",
    "\n",
    "df_eval=pd.DataFrame(index=model)\n",
    "df_eval['TrainAccuracy']=train_accuracy\n",
    "df_eval['TestAccuracy']=test_accuracy\n",
    "df_eval['F1Score']=model_f1_score\n",
    "df_eval['AUC']=model_auc\n",
    "df_eval['PrecisionScore']=model_precision_score\n",
    "df_eval['RecallScore']=model_recall_score\n",
    "df_eval.round(3)"
   ]
  },
  {
   "cell_type": "markdown",
   "metadata": {},
   "source": [
    "정확도와 정밀도가 높은 변수 선택"
   ]
  },
  {
   "cell_type": "code",
   "execution_count": 36,
   "metadata": {},
   "outputs": [],
   "source": [
    "df_eval=pd.DataFrame(index=model)\n",
    "df_eval['Train_1']=0.908\n",
    "df_eval['Test_1']=0.916\n",
    "df_eval['Precision_1']=0.919\n",
    "df_eval['Train_2']=0.867\n",
    "df_eval['Test_2']=0.864\n",
    "df_eval['Precision_2']=0.778"
   ]
  },
  {
   "cell_type": "code",
   "execution_count": 37,
   "metadata": {},
   "outputs": [
    {
     "data": {
      "image/png": "[encoded data removed]",
      "text/plain": [
       "<Figure size 432x288 with 1 Axes>"
      ]
     },
     "metadata": {
      "needs_background": "light"
     },
     "output_type": "display_data"
    }
   ],
   "source": [
    "#정확도 bar plot 생성\n",
    "df_eval.plot.bar(rot=0)\n",
    "plt.legend(loc='lower left')\n",
    "plt.grid(axis='y')\n",
    "#인공신경망 모델이 가장 높은 정확도와 f1,auc를 보임\n",
    "#neural_net>gradient boosting>decisiontree>randomforest"
   ]
  },
  {
   "cell_type": "code",
   "execution_count": 38,
   "metadata": {},
   "outputs": [],
   "source": [
    "df_eval=pd.DataFrame(index=model)\n",
    "df_eval['Train_1']=1\n",
    "df_eval['Test_1']=0.865\n",
    "df_eval['Precision_1']=0.871\n",
    "df_eval['Train_2']=1\n",
    "df_eval['Test_2']=0.825\n",
    "df_eval['Precision_2']=0.625"
   ]
  },
  {
   "cell_type": "code",
   "execution_count": 39,
   "metadata": {},
   "outputs": [
    {
     "data": {
      "image/png": "[encoded data removed]",
      "text/plain": [
       "<Figure size 432x288 with 1 Axes>"
      ]
     },
     "metadata": {
      "needs_background": "light"
     },
     "output_type": "display_data"
    }
   ],
   "source": [
    "#정확도 bar plot 생성\n",
    "df_eval.plot.bar(rot=0)\n",
    "plt.legend(loc='lower left')\n",
    "plt.grid(axis='y')\n",
    "#인공신경망 모델이 가장 높은 정확도와 f1,auc를 보임\n",
    "#neural_net>gradient boosting>decisiontree>randomforest"
   ]
  },
  {
   "cell_type": "markdown",
   "metadata": {},
   "source": [
    "# 1분류 거절 고객 분류"
   ]
  },
  {
   "cell_type": "code",
   "execution_count": 65,
   "metadata": {},
   "outputs": [],
   "source": [
    "df_raw = pd.read_csv('insu_pre_review.csv',encoding='euckr')\n",
    "df_test = df_raw[df_raw['judge']=='거절']\n",
    "df_test = df_test[df_test['review_cat'] == '혈액검사']\n",
    "df_reject = df_test[['bt_chol','bp_judge','bt_gluc_judge','bt_mchc_judge','gender']]\n",
    "\n",
    "# df_reject = pd.get_dummies(df_reject)\n",
    "# en_sc_2 = scaler.fit_transform(df_reject)\n",
    "# df_reject = pd.DataFrame(en_sc_2,columns=df_reject.columns)"
   ]
  },
  {
   "cell_type": "code",
   "execution_count": 66,
   "metadata": {},
   "outputs": [
    {
     "name": "stderr",
     "output_type": "stream",
     "text": [
      "C:\\Users\\BHU\\anaconda3\\lib\\site-packages\\ipykernel_launcher.py:2: SettingWithCopyWarning: \n",
      "A value is trying to be set on a copy of a slice from a DataFrame.\n",
      "Try using .loc[row_indexer,col_indexer] = value instead\n",
      "\n",
      "See the caveats in the documentation: https://pandas.pydata.org/pandas-docs/stable/user_guide/indexing.html#returning-a-view-versus-a-copy\n",
      "  \n",
      "C:\\Users\\BHU\\anaconda3\\lib\\site-packages\\ipykernel_launcher.py:3: SettingWithCopyWarning: \n",
      "A value is trying to be set on a copy of a slice from a DataFrame.\n",
      "Try using .loc[row_indexer,col_indexer] = value instead\n",
      "\n",
      "See the caveats in the documentation: https://pandas.pydata.org/pandas-docs/stable/user_guide/indexing.html#returning-a-view-versus-a-copy\n",
      "  This is separate from the ipykernel package so we can avoid doing imports until\n"
     ]
    }
   ],
   "source": [
    "pred = gb_final.predict(df_reject)\n",
    "df_reject['risk'] = pred\n",
    "df_reject['customer_id'] = df_test['customer_id']"
   ]
  },
  {
   "cell_type": "code",
   "execution_count": 67,
   "metadata": {},
   "outputs": [
    {
     "data": {
      "text/html": [
       "<div>\n",
       "<style scoped>\n",
       "    .dataframe tbody tr th:only-of-type {\n",
       "        vertical-align: middle;\n",
       "    }\n",
       "\n",
       "    .dataframe tbody tr th {\n",
       "        vertical-align: top;\n",
       "    }\n",
       "\n",
       "    .dataframe thead th {\n",
       "        text-align: right;\n",
       "    }\n",
       "</style>\n",
       "<table border=\"1\" class=\"dataframe\">\n",
       "  <thead>\n",
       "    <tr style=\"text-align: right;\">\n",
       "      <th></th>\n",
       "      <th>bt_chol</th>\n",
       "      <th>bp_judge</th>\n",
       "      <th>bt_gluc_judge</th>\n",
       "      <th>bt_mchc_judge</th>\n",
       "      <th>gender</th>\n",
       "      <th>customer_id</th>\n",
       "    </tr>\n",
       "    <tr>\n",
       "      <th>risk</th>\n",
       "      <th></th>\n",
       "      <th></th>\n",
       "      <th></th>\n",
       "      <th></th>\n",
       "      <th></th>\n",
       "      <th></th>\n",
       "    </tr>\n",
       "  </thead>\n",
       "  <tbody>\n",
       "    <tr>\n",
       "      <th>0.0</th>\n",
       "      <td>76</td>\n",
       "      <td>76</td>\n",
       "      <td>76</td>\n",
       "      <td>76</td>\n",
       "      <td>76</td>\n",
       "      <td>76</td>\n",
       "    </tr>\n",
       "    <tr>\n",
       "      <th>1.0</th>\n",
       "      <td>2268</td>\n",
       "      <td>2268</td>\n",
       "      <td>2268</td>\n",
       "      <td>2268</td>\n",
       "      <td>2268</td>\n",
       "      <td>2268</td>\n",
       "    </tr>\n",
       "  </tbody>\n",
       "</table>\n",
       "</div>"
      ],
      "text/plain": [
       "      bt_chol  bp_judge  bt_gluc_judge  bt_mchc_judge  gender  customer_id\n",
       "risk                                                                      \n",
       "0.0        76        76             76             76      76           76\n",
       "1.0      2268      2268           2268           2268    2268         2268"
      ]
     },
     "execution_count": 67,
     "metadata": {},
     "output_type": "execute_result"
    }
   ],
   "source": [
    "df_reject.groupby('risk').count()"
   ]
  },
  {
   "cell_type": "markdown",
   "metadata": {},
   "source": [
    "### 총 수익 고객 76명, 위험 고객 2268명 -> 혈액 검사 기준\n",
    "### 위험 고객은 2분류 이동, 저위험 고위험으로 분류"
   ]
  },
  {
   "cell_type": "code",
   "execution_count": 68,
   "metadata": {},
   "outputs": [],
   "source": [
    "# 데이터 내보내기\n",
    "\n",
    "df_profit = df_reject[df_reject['risk'] == 0][['customer_id','risk']]\n",
    "df_danger = df_reject[df_reject['risk'] == 1][['customer_id','risk']]\n",
    "\n",
    "df_profit.to_csv('profit_reject.csv',encoding='euckr')\n",
    "df_danger.to_csv('danger_reject.csv',encoding='euckr')"
   ]
  },
  {
   "cell_type": "markdown",
   "metadata": {},
   "source": [
    "### screen 데이터 predict"
   ]
  },
  {
   "cell_type": "code",
   "execution_count": 73,
   "metadata": {},
   "outputs": [
    {
     "data": {
      "text/html": [
       "<div>\n",
       "<style scoped>\n",
       "    .dataframe tbody tr th:only-of-type {\n",
       "        vertical-align: middle;\n",
       "    }\n",
       "\n",
       "    .dataframe tbody tr th {\n",
       "        vertical-align: top;\n",
       "    }\n",
       "\n",
       "    .dataframe thead th {\n",
       "        text-align: right;\n",
       "    }\n",
       "</style>\n",
       "<table border=\"1\" class=\"dataframe\">\n",
       "  <thead>\n",
       "    <tr style=\"text-align: right;\">\n",
       "      <th></th>\n",
       "      <th>index</th>\n",
       "      <th>bp_max</th>\n",
       "      <th>bp_min</th>\n",
       "      <th>bp_gluc</th>\n",
       "      <th>bt_mch</th>\n",
       "      <th>bt_chol</th>\n",
       "      <th>gender</th>\n",
       "      <th>smoke_flag</th>\n",
       "      <th>drinking_flag</th>\n",
       "      <th>bp_judge</th>\n",
       "      <th>bt_gluc_judge</th>\n",
       "      <th>bt_mchc_judge</th>\n",
       "    </tr>\n",
       "  </thead>\n",
       "  <tbody>\n",
       "    <tr>\n",
       "      <th>0</th>\n",
       "      <td>11565</td>\n",
       "      <td>119.0</td>\n",
       "      <td>73.0</td>\n",
       "      <td>89.0</td>\n",
       "      <td>15.0</td>\n",
       "      <td>197.0</td>\n",
       "      <td>1.0</td>\n",
       "      <td>1.0</td>\n",
       "      <td>0.0</td>\n",
       "      <td>0</td>\n",
       "      <td>0</td>\n",
       "      <td>0</td>\n",
       "    </tr>\n",
       "    <tr>\n",
       "      <th>1</th>\n",
       "      <td>23186</td>\n",
       "      <td>109.0</td>\n",
       "      <td>61.0</td>\n",
       "      <td>84.0</td>\n",
       "      <td>15.0</td>\n",
       "      <td>229.0</td>\n",
       "      <td>1.0</td>\n",
       "      <td>1.0</td>\n",
       "      <td>0.0</td>\n",
       "      <td>0</td>\n",
       "      <td>0</td>\n",
       "      <td>0</td>\n",
       "    </tr>\n",
       "    <tr>\n",
       "      <th>2</th>\n",
       "      <td>127414</td>\n",
       "      <td>134.0</td>\n",
       "      <td>80.0</td>\n",
       "      <td>90.0</td>\n",
       "      <td>17.0</td>\n",
       "      <td>196.0</td>\n",
       "      <td>1.0</td>\n",
       "      <td>1.0</td>\n",
       "      <td>0.0</td>\n",
       "      <td>1</td>\n",
       "      <td>0</td>\n",
       "      <td>0</td>\n",
       "    </tr>\n",
       "    <tr>\n",
       "      <th>3</th>\n",
       "      <td>35119</td>\n",
       "      <td>132.0</td>\n",
       "      <td>83.0</td>\n",
       "      <td>91.0</td>\n",
       "      <td>15.0</td>\n",
       "      <td>180.0</td>\n",
       "      <td>1.0</td>\n",
       "      <td>3.0</td>\n",
       "      <td>1.0</td>\n",
       "      <td>1</td>\n",
       "      <td>0</td>\n",
       "      <td>0</td>\n",
       "    </tr>\n",
       "    <tr>\n",
       "      <th>4</th>\n",
       "      <td>141647</td>\n",
       "      <td>121.0</td>\n",
       "      <td>90.0</td>\n",
       "      <td>98.0</td>\n",
       "      <td>15.0</td>\n",
       "      <td>212.0</td>\n",
       "      <td>1.0</td>\n",
       "      <td>2.0</td>\n",
       "      <td>0.0</td>\n",
       "      <td>1</td>\n",
       "      <td>0</td>\n",
       "      <td>0</td>\n",
       "    </tr>\n",
       "    <tr>\n",
       "      <th>...</th>\n",
       "      <td>...</td>\n",
       "      <td>...</td>\n",
       "      <td>...</td>\n",
       "      <td>...</td>\n",
       "      <td>...</td>\n",
       "      <td>...</td>\n",
       "      <td>...</td>\n",
       "      <td>...</td>\n",
       "      <td>...</td>\n",
       "      <td>...</td>\n",
       "      <td>...</td>\n",
       "      <td>...</td>\n",
       "    </tr>\n",
       "    <tr>\n",
       "      <th>35416</th>\n",
       "      <td>161781</td>\n",
       "      <td>118.0</td>\n",
       "      <td>85.0</td>\n",
       "      <td>88.0</td>\n",
       "      <td>13.0</td>\n",
       "      <td>195.0</td>\n",
       "      <td>2.0</td>\n",
       "      <td>1.0</td>\n",
       "      <td>0.0</td>\n",
       "      <td>0</td>\n",
       "      <td>0</td>\n",
       "      <td>0</td>\n",
       "    </tr>\n",
       "    <tr>\n",
       "      <th>35417</th>\n",
       "      <td>174466</td>\n",
       "      <td>105.0</td>\n",
       "      <td>65.0</td>\n",
       "      <td>103.0</td>\n",
       "      <td>13.0</td>\n",
       "      <td>224.0</td>\n",
       "      <td>2.0</td>\n",
       "      <td>1.0</td>\n",
       "      <td>0.0</td>\n",
       "      <td>0</td>\n",
       "      <td>1</td>\n",
       "      <td>0</td>\n",
       "    </tr>\n",
       "    <tr>\n",
       "      <th>35418</th>\n",
       "      <td>122883</td>\n",
       "      <td>120.0</td>\n",
       "      <td>84.0</td>\n",
       "      <td>103.0</td>\n",
       "      <td>13.0</td>\n",
       "      <td>194.0</td>\n",
       "      <td>2.0</td>\n",
       "      <td>1.0</td>\n",
       "      <td>0.0</td>\n",
       "      <td>0</td>\n",
       "      <td>1</td>\n",
       "      <td>0</td>\n",
       "    </tr>\n",
       "    <tr>\n",
       "      <th>35419</th>\n",
       "      <td>107700</td>\n",
       "      <td>121.0</td>\n",
       "      <td>70.0</td>\n",
       "      <td>89.0</td>\n",
       "      <td>13.0</td>\n",
       "      <td>241.0</td>\n",
       "      <td>2.0</td>\n",
       "      <td>1.0</td>\n",
       "      <td>0.0</td>\n",
       "      <td>0</td>\n",
       "      <td>0</td>\n",
       "      <td>0</td>\n",
       "    </tr>\n",
       "    <tr>\n",
       "      <th>35420</th>\n",
       "      <td>22859</td>\n",
       "      <td>115.0</td>\n",
       "      <td>75.0</td>\n",
       "      <td>98.0</td>\n",
       "      <td>13.0</td>\n",
       "      <td>190.0</td>\n",
       "      <td>2.0</td>\n",
       "      <td>1.0</td>\n",
       "      <td>0.0</td>\n",
       "      <td>0</td>\n",
       "      <td>0</td>\n",
       "      <td>0</td>\n",
       "    </tr>\n",
       "  </tbody>\n",
       "</table>\n",
       "<p>35421 rows × 12 columns</p>\n",
       "</div>"
      ],
      "text/plain": [
       "        index  bp_max  bp_min  bp_gluc  bt_mch  bt_chol  gender  smoke_flag  \\\n",
       "0       11565   119.0    73.0     89.0    15.0    197.0     1.0         1.0   \n",
       "1       23186   109.0    61.0     84.0    15.0    229.0     1.0         1.0   \n",
       "2      127414   134.0    80.0     90.0    17.0    196.0     1.0         1.0   \n",
       "3       35119   132.0    83.0     91.0    15.0    180.0     1.0         3.0   \n",
       "4      141647   121.0    90.0     98.0    15.0    212.0     1.0         2.0   \n",
       "...       ...     ...     ...      ...     ...      ...     ...         ...   \n",
       "35416  161781   118.0    85.0     88.0    13.0    195.0     2.0         1.0   \n",
       "35417  174466   105.0    65.0    103.0    13.0    224.0     2.0         1.0   \n",
       "35418  122883   120.0    84.0    103.0    13.0    194.0     2.0         1.0   \n",
       "35419  107700   121.0    70.0     89.0    13.0    241.0     2.0         1.0   \n",
       "35420   22859   115.0    75.0     98.0    13.0    190.0     2.0         1.0   \n",
       "\n",
       "       drinking_flag  bp_judge  bt_gluc_judge  bt_mchc_judge  \n",
       "0                0.0         0              0              0  \n",
       "1                0.0         0              0              0  \n",
       "2                0.0         1              0              0  \n",
       "3                1.0         1              0              0  \n",
       "4                0.0         1              0              0  \n",
       "...              ...       ...            ...            ...  \n",
       "35416            0.0         0              0              0  \n",
       "35417            0.0         0              1              0  \n",
       "35418            0.0         0              1              0  \n",
       "35419            0.0         0              0              0  \n",
       "35420            0.0         0              0              0  \n",
       "\n",
       "[35421 rows x 12 columns]"
      ]
     },
     "execution_count": 73,
     "metadata": {},
     "output_type": "execute_result"
    }
   ],
   "source": [
    "df = pd.read_csv('screen_1.csv',encoding='euckr')\n",
    "df = df.drop('Unnamed: 0',axis=1)\n",
    "df"
   ]
  },
  {
   "cell_type": "code",
   "execution_count": 74,
   "metadata": {},
   "outputs": [
    {
     "data": {
      "text/html": [
       "<div>\n",
       "<style scoped>\n",
       "    .dataframe tbody tr th:only-of-type {\n",
       "        vertical-align: middle;\n",
       "    }\n",
       "\n",
       "    .dataframe tbody tr th {\n",
       "        vertical-align: top;\n",
       "    }\n",
       "\n",
       "    .dataframe thead th {\n",
       "        text-align: right;\n",
       "    }\n",
       "</style>\n",
       "<table border=\"1\" class=\"dataframe\">\n",
       "  <thead>\n",
       "    <tr style=\"text-align: right;\">\n",
       "      <th></th>\n",
       "      <th>bt_chol</th>\n",
       "      <th>bp_judge</th>\n",
       "      <th>bt_gluc_judge</th>\n",
       "      <th>bt_mchc_judge</th>\n",
       "      <th>gender</th>\n",
       "    </tr>\n",
       "  </thead>\n",
       "  <tbody>\n",
       "    <tr>\n",
       "      <th>0</th>\n",
       "      <td>197.0</td>\n",
       "      <td>0</td>\n",
       "      <td>0</td>\n",
       "      <td>0</td>\n",
       "      <td>1.0</td>\n",
       "    </tr>\n",
       "    <tr>\n",
       "      <th>1</th>\n",
       "      <td>229.0</td>\n",
       "      <td>0</td>\n",
       "      <td>0</td>\n",
       "      <td>0</td>\n",
       "      <td>1.0</td>\n",
       "    </tr>\n",
       "    <tr>\n",
       "      <th>2</th>\n",
       "      <td>196.0</td>\n",
       "      <td>1</td>\n",
       "      <td>0</td>\n",
       "      <td>0</td>\n",
       "      <td>1.0</td>\n",
       "    </tr>\n",
       "    <tr>\n",
       "      <th>3</th>\n",
       "      <td>180.0</td>\n",
       "      <td>1</td>\n",
       "      <td>0</td>\n",
       "      <td>0</td>\n",
       "      <td>1.0</td>\n",
       "    </tr>\n",
       "    <tr>\n",
       "      <th>4</th>\n",
       "      <td>212.0</td>\n",
       "      <td>1</td>\n",
       "      <td>0</td>\n",
       "      <td>0</td>\n",
       "      <td>1.0</td>\n",
       "    </tr>\n",
       "    <tr>\n",
       "      <th>...</th>\n",
       "      <td>...</td>\n",
       "      <td>...</td>\n",
       "      <td>...</td>\n",
       "      <td>...</td>\n",
       "      <td>...</td>\n",
       "    </tr>\n",
       "    <tr>\n",
       "      <th>35416</th>\n",
       "      <td>195.0</td>\n",
       "      <td>0</td>\n",
       "      <td>0</td>\n",
       "      <td>0</td>\n",
       "      <td>2.0</td>\n",
       "    </tr>\n",
       "    <tr>\n",
       "      <th>35417</th>\n",
       "      <td>224.0</td>\n",
       "      <td>0</td>\n",
       "      <td>1</td>\n",
       "      <td>0</td>\n",
       "      <td>2.0</td>\n",
       "    </tr>\n",
       "    <tr>\n",
       "      <th>35418</th>\n",
       "      <td>194.0</td>\n",
       "      <td>0</td>\n",
       "      <td>1</td>\n",
       "      <td>0</td>\n",
       "      <td>2.0</td>\n",
       "    </tr>\n",
       "    <tr>\n",
       "      <th>35419</th>\n",
       "      <td>241.0</td>\n",
       "      <td>0</td>\n",
       "      <td>0</td>\n",
       "      <td>0</td>\n",
       "      <td>2.0</td>\n",
       "    </tr>\n",
       "    <tr>\n",
       "      <th>35420</th>\n",
       "      <td>190.0</td>\n",
       "      <td>0</td>\n",
       "      <td>0</td>\n",
       "      <td>0</td>\n",
       "      <td>2.0</td>\n",
       "    </tr>\n",
       "  </tbody>\n",
       "</table>\n",
       "<p>35421 rows × 5 columns</p>\n",
       "</div>"
      ],
      "text/plain": [
       "       bt_chol  bp_judge  bt_gluc_judge  bt_mchc_judge  gender\n",
       "0        197.0         0              0              0     1.0\n",
       "1        229.0         0              0              0     1.0\n",
       "2        196.0         1              0              0     1.0\n",
       "3        180.0         1              0              0     1.0\n",
       "4        212.0         1              0              0     1.0\n",
       "...        ...       ...            ...            ...     ...\n",
       "35416    195.0         0              0              0     2.0\n",
       "35417    224.0         0              1              0     2.0\n",
       "35418    194.0         0              1              0     2.0\n",
       "35419    241.0         0              0              0     2.0\n",
       "35420    190.0         0              0              0     2.0\n",
       "\n",
       "[35421 rows x 5 columns]"
      ]
     },
     "execution_count": 74,
     "metadata": {},
     "output_type": "execute_result"
    }
   ],
   "source": [
    "df_test = df[['bt_chol','bp_judge','bt_gluc_judge','bt_mchc_judge','gender']]\n",
    "df_test"
   ]
  },
  {
   "cell_type": "code",
   "execution_count": 75,
   "metadata": {},
   "outputs": [
    {
     "name": "stderr",
     "output_type": "stream",
     "text": [
      "C:\\Users\\BHU\\anaconda3\\lib\\site-packages\\ipykernel_launcher.py:2: SettingWithCopyWarning: \n",
      "A value is trying to be set on a copy of a slice from a DataFrame.\n",
      "Try using .loc[row_indexer,col_indexer] = value instead\n",
      "\n",
      "See the caveats in the documentation: https://pandas.pydata.org/pandas-docs/stable/user_guide/indexing.html#returning-a-view-versus-a-copy\n",
      "  \n"
     ]
    },
    {
     "data": {
      "text/html": [
       "<div>\n",
       "<style scoped>\n",
       "    .dataframe tbody tr th:only-of-type {\n",
       "        vertical-align: middle;\n",
       "    }\n",
       "\n",
       "    .dataframe tbody tr th {\n",
       "        vertical-align: top;\n",
       "    }\n",
       "\n",
       "    .dataframe thead th {\n",
       "        text-align: right;\n",
       "    }\n",
       "</style>\n",
       "<table border=\"1\" class=\"dataframe\">\n",
       "  <thead>\n",
       "    <tr style=\"text-align: right;\">\n",
       "      <th></th>\n",
       "      <th>bt_chol</th>\n",
       "      <th>bp_judge</th>\n",
       "      <th>bt_gluc_judge</th>\n",
       "      <th>bt_mchc_judge</th>\n",
       "      <th>gender</th>\n",
       "    </tr>\n",
       "    <tr>\n",
       "      <th>risk</th>\n",
       "      <th></th>\n",
       "      <th></th>\n",
       "      <th></th>\n",
       "      <th></th>\n",
       "      <th></th>\n",
       "    </tr>\n",
       "  </thead>\n",
       "  <tbody>\n",
       "    <tr>\n",
       "      <th>0.0</th>\n",
       "      <td>1542</td>\n",
       "      <td>1542</td>\n",
       "      <td>1542</td>\n",
       "      <td>1542</td>\n",
       "      <td>1542</td>\n",
       "    </tr>\n",
       "    <tr>\n",
       "      <th>1.0</th>\n",
       "      <td>33879</td>\n",
       "      <td>33879</td>\n",
       "      <td>33879</td>\n",
       "      <td>33879</td>\n",
       "      <td>33879</td>\n",
       "    </tr>\n",
       "  </tbody>\n",
       "</table>\n",
       "</div>"
      ],
      "text/plain": [
       "      bt_chol  bp_judge  bt_gluc_judge  bt_mchc_judge  gender\n",
       "risk                                                         \n",
       "0.0      1542      1542           1542           1542    1542\n",
       "1.0     33879     33879          33879          33879   33879"
      ]
     },
     "execution_count": 75,
     "metadata": {},
     "output_type": "execute_result"
    }
   ],
   "source": [
    "test_pred = gb_final.predict(df_test)\n",
    "df_test['risk'] = test_pred\n",
    "df_test.groupby('risk').count()"
   ]
  },
  {
   "cell_type": "code",
   "execution_count": 78,
   "metadata": {},
   "outputs": [
    {
     "name": "stderr",
     "output_type": "stream",
     "text": [
      "C:\\Users\\BHU\\anaconda3\\lib\\site-packages\\ipykernel_launcher.py:1: SettingWithCopyWarning: \n",
      "A value is trying to be set on a copy of a slice from a DataFrame.\n",
      "Try using .loc[row_indexer,col_indexer] = value instead\n",
      "\n",
      "See the caveats in the documentation: https://pandas.pydata.org/pandas-docs/stable/user_guide/indexing.html#returning-a-view-versus-a-copy\n",
      "  \"\"\"Entry point for launching an IPython kernel.\n"
     ]
    }
   ],
   "source": [
    "df_test['index'] = df['index']\n",
    "df_test.to_csv('result_1.csv',encoding='euckr')"
   ]
  },
  {
   "cell_type": "code",
   "execution_count": null,
   "metadata": {},
   "outputs": [],
   "source": []
  }
 ],
 "metadata": {
  "kernelspec": {
   "display_name": "Python 3",
   "language": "python",
   "name": "python3"
  },
  "language_info": {
   "codemirror_mode": {
    "name": "ipython",
    "version": 3
   },
   "file_extension": ".py",
   "mimetype": "text/x-python",
   "name": "python",
   "nbconvert_exporter": "python",
   "pygments_lexer": "ipython3",
   "version": "3.7.6"
  }
 },
 "nbformat": 4,
 "nbformat_minor": 4
}
