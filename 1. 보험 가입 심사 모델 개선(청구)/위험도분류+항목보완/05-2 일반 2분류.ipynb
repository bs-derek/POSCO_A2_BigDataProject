{
 "cells": [
  {
   "cell_type": "code",
   "execution_count": 1,
   "metadata": {},
   "outputs": [],
   "source": [
    "import pandas as pd\n",
    "import numpy as np\n",
    "# import pydot\n",
    "\n",
    "import matplotlib.pyplot as plt\n",
    "import matplotlib\n",
    "import seaborn as sns\n",
    "from sklearn.model_selection import train_test_split\n",
    "\n",
    "import statsmodels.formula.api as smf\n",
    "from sklearn.tree import DecisionTreeRegressor\n",
    "from sklearn.ensemble import RandomForestRegressor\n",
    "from sklearn.ensemble import GradientBoostingRegressor\n",
    "\n",
    "from sklearn.metrics import mean_squared_error\n",
    "from sklearn.metrics import mean_absolute_error\n",
    "\n",
    "from sklearn.tree import DecisionTreeClassifier\n",
    "from sklearn.ensemble import RandomForestClassifier\n",
    "from sklearn.ensemble import GradientBoostingClassifier\n",
    "from sklearn.neural_network import MLPClassifier\n",
    "\n",
    "from sklearn.svm import SVC\n",
    "\n",
    "from sklearn.metrics import f1_score,roc_curve,auc,precision_score,recall_score\n",
    "\n",
    "from sklearn.metrics import confusion_matrix\n",
    "\n",
    "import seaborn as sns\n",
    "from scipy import stats\n",
    "import scipy.stats\n",
    "import statsmodels.api as smd\n",
    "from statsmodels.stats.proportion import proportions_ztest\n",
    "\n",
    "# 가설검정, 분산분석하는 패키지\n",
    "from statsmodels.formula.api import ols # 분산분석하기? 모델링?\n",
    "from statsmodels.stats.anova import anova_lm # 아노바 데이터프레임 형태 출력\n",
    "from scipy.stats import shapiro\n",
    "%matplotlib inline\n",
    "from sklearn.preprocessing import scale,minmax_scale,robust_scale\n",
    "from scipy.stats import probplot\n",
    "from sklearn.model_selection import train_test_split\n",
    "from statsmodels.api import Logit\n",
    "\n",
    "# font_path = 'C:/Windows/Fonts/gulim.ttc'\n",
    "font_path = 'C:/Windows/Fonts/gulim.ttc'\n",
    "font_name = matplotlib.font_manager.FontProperties(fname=font_path).get_name()\n",
    "matplotlib.rc('font', family = font_name)\n",
    "\n",
    "from matplotlib import font_manager,rc\n",
    "\n",
    "from statsmodels.stats.outliers_influence import variance_inflation_factor\n",
    "from sklearn.linear_model import LinearRegression\n",
    "from sklearn.feature_selection import RFE\n",
    "from sklearn.preprocessing import StandardScaler\n",
    "from statsmodels.api import qqplot, add_constant\n",
    "\n",
    "# from sklearn.tree import export_graphviz\n",
    "# import graphviz\n",
    "\n",
    "from sklearn.metrics import mean_squared_error\n",
    "from sklearn.metrics import mean_absolute_error\n",
    "import numpy as np\n",
    "# import pydot\n",
    "\n",
    "import matplotlib.pyplot as plt\n",
    "import matplotlib\n",
    "import seaborn as sns\n",
    "from sklearn.model_selection import train_test_split\n",
    "\n",
    "import statsmodels.formula.api as smf\n",
    "from sklearn.tree import DecisionTreeRegressor\n",
    "from sklearn.ensemble import RandomForestRegressor\n",
    "from sklearn.ensemble import GradientBoostingRegressor\n",
    "\n",
    "from sklearn.metrics import mean_squared_error\n",
    "from sklearn.metrics import mean_absolute_error\n",
    "\n",
    "from sklearn.tree import DecisionTreeClassifier\n",
    "from sklearn.ensemble import RandomForestClassifier\n",
    "from sklearn.ensemble import GradientBoostingClassifier\n",
    "from sklearn.neural_network import MLPClassifier\n",
    "\n",
    "from sklearn.svm import SVC\n",
    "\n",
    "from sklearn.metrics import f1_score,roc_curve,auc,precision_score,recall_score\n",
    "\n",
    "from sklearn.metrics import confusion_matrix\n",
    "\n",
    "import seaborn as sns\n",
    "from scipy import stats\n",
    "import scipy.stats\n",
    "import statsmodels.api as smd\n",
    "from statsmodels.stats.proportion import proportions_ztest\n",
    "\n",
    "# 가설검정, 분산분석하는 패키지\n",
    "from statsmodels.formula.api import ols # 분산분석하기? 모델링?\n",
    "from statsmodels.stats.anova import anova_lm # 아노바 데이터프레임 형태 출력\n",
    "from scipy.stats import shapiro\n",
    "%matplotlib inline\n",
    "from sklearn.preprocessing import scale,minmax_scale,robust_scale\n",
    "from scipy.stats import probplot\n",
    "from sklearn.model_selection import train_test_split\n",
    "from statsmodels.api import Logit\n",
    "\n",
    "# # font_path = 'C:/Windows/Fonts/gulim.ttc'\n",
    "# font_path = '/usr/share/fonts/opentype/noto/NotoSerifCJK-ExtraLight.ttc'\n",
    "# font_name = matplotlib.font_manager.FontProperties(fname=font_path).get_name()\n",
    "# matplotlib.rc('font', family = font_name)\n",
    "\n",
    "from matplotlib import font_manager,rc\n",
    "\n",
    "from statsmodels.stats.outliers_influence import variance_inflation_factor\n",
    "from sklearn.linear_model import LinearRegression\n",
    "from sklearn.feature_selection import RFE\n",
    "from sklearn.preprocessing import StandardScaler\n",
    "from statsmodels.api import qqplot, add_constant\n",
    "\n",
    "# from sklearn.tree import export_graphviz\n",
    "# import graphviz\n",
    "\n",
    "from sklearn.metrics import mean_squared_error\n",
    "from sklearn.metrics import mean_absolute_error"
   ]
  },
  {
   "cell_type": "code",
   "execution_count": 2,
   "metadata": {},
   "outputs": [],
   "source": [
    "df_raw = pd.read_csv('review_2.csv',encoding='euckr')"
   ]
  },
  {
   "cell_type": "code",
   "execution_count": 3,
   "metadata": {},
   "outputs": [
    {
     "data": {
      "text/plain": [
       "Unnamed: 0              0\n",
       "customer_id             0\n",
       "review_cat              0\n",
       "judge                   0\n",
       "review_date             0\n",
       "gender                  0\n",
       "age                     0\n",
       "height                  0\n",
       "weight                  0\n",
       "bust                    0\n",
       "waist                   0\n",
       "bmi                     0\n",
       "whtr                    0\n",
       "bp_min                  0\n",
       "bp_max                  0\n",
       "pulse_count             0\n",
       "bt_chol               875\n",
       "bt_crea              2639\n",
       "bt_gluc               875\n",
       "bt_hb                1852\n",
       "bt_hbsa               875\n",
       "bt_hct               1852\n",
       "bt_mch               1852\n",
       "bt_mchc              1852\n",
       "bt_mvc               1852\n",
       "bt_plat              1852\n",
       "bt_rbc               1852\n",
       "bt_wbc               1852\n",
       "bt_rgpt              2400\n",
       "bt_sgot              2305\n",
       "bt_sgpt               875\n",
       "bt_trig              2371\n",
       "judge_score             0\n",
       "bp_judge                0\n",
       "pulse_count_judge       0\n",
       "bt_chol_judge         875\n",
       "bt_crea_judge         875\n",
       "bt_gluc_judge         875\n",
       "bt_hb_judge           875\n",
       "bt_hbsa_judge         875\n",
       "bt_hct_judge          875\n",
       "bt_mch_judge          875\n",
       "bt_mchc_judge         875\n",
       "bt_mvc_judge          875\n",
       "bt_plat_judge         875\n",
       "bt_rbc_judge          875\n",
       "bt_wbc_judge          875\n",
       "bt_rgpt_judge         875\n",
       "bt_sgot_judge         875\n",
       "bt_sgpt_judge         875\n",
       "bt_trig_judge         875\n",
       "n_risk                  0\n",
       "dtype: int64"
      ]
     },
     "execution_count": 3,
     "metadata": {},
     "output_type": "execute_result"
    }
   ],
   "source": [
    "df_raw.isna().sum()"
   ]
  },
  {
   "cell_type": "code",
   "execution_count": 4,
   "metadata": {},
   "outputs": [
    {
     "data": {
      "text/html": [
       "<div>\n",
       "<style scoped>\n",
       "    .dataframe tbody tr th:only-of-type {\n",
       "        vertical-align: middle;\n",
       "    }\n",
       "\n",
       "    .dataframe tbody tr th {\n",
       "        vertical-align: top;\n",
       "    }\n",
       "\n",
       "    .dataframe thead th {\n",
       "        text-align: right;\n",
       "    }\n",
       "</style>\n",
       "<table border=\"1\" class=\"dataframe\">\n",
       "  <thead>\n",
       "    <tr style=\"text-align: right;\">\n",
       "      <th></th>\n",
       "      <th>customer_id</th>\n",
       "      <th>review_cat</th>\n",
       "      <th>judge</th>\n",
       "      <th>review_date</th>\n",
       "      <th>gender</th>\n",
       "      <th>age</th>\n",
       "      <th>height</th>\n",
       "      <th>weight</th>\n",
       "      <th>bust</th>\n",
       "      <th>waist</th>\n",
       "      <th>...</th>\n",
       "      <th>bt_mchc_judge</th>\n",
       "      <th>bt_mvc_judge</th>\n",
       "      <th>bt_plat_judge</th>\n",
       "      <th>bt_rbc_judge</th>\n",
       "      <th>bt_wbc_judge</th>\n",
       "      <th>bt_rgpt_judge</th>\n",
       "      <th>bt_sgot_judge</th>\n",
       "      <th>bt_sgpt_judge</th>\n",
       "      <th>bt_trig_judge</th>\n",
       "      <th>n_risk</th>\n",
       "    </tr>\n",
       "  </thead>\n",
       "  <tbody>\n",
       "    <tr>\n",
       "      <th>2</th>\n",
       "      <td>C112411</td>\n",
       "      <td>일반검진</td>\n",
       "      <td>재검</td>\n",
       "      <td>2015-09-20</td>\n",
       "      <td>1</td>\n",
       "      <td>69</td>\n",
       "      <td>165</td>\n",
       "      <td>70</td>\n",
       "      <td>92</td>\n",
       "      <td>88</td>\n",
       "      <td>...</td>\n",
       "      <td>NaN</td>\n",
       "      <td>NaN</td>\n",
       "      <td>NaN</td>\n",
       "      <td>NaN</td>\n",
       "      <td>NaN</td>\n",
       "      <td>NaN</td>\n",
       "      <td>NaN</td>\n",
       "      <td>NaN</td>\n",
       "      <td>NaN</td>\n",
       "      <td>0.0</td>\n",
       "    </tr>\n",
       "    <tr>\n",
       "      <th>3</th>\n",
       "      <td>C112570</td>\n",
       "      <td>일반검진</td>\n",
       "      <td>재검</td>\n",
       "      <td>2015-05-27</td>\n",
       "      <td>1</td>\n",
       "      <td>67</td>\n",
       "      <td>165</td>\n",
       "      <td>75</td>\n",
       "      <td>95</td>\n",
       "      <td>89</td>\n",
       "      <td>...</td>\n",
       "      <td>NaN</td>\n",
       "      <td>NaN</td>\n",
       "      <td>NaN</td>\n",
       "      <td>NaN</td>\n",
       "      <td>NaN</td>\n",
       "      <td>NaN</td>\n",
       "      <td>NaN</td>\n",
       "      <td>NaN</td>\n",
       "      <td>NaN</td>\n",
       "      <td>0.0</td>\n",
       "    </tr>\n",
       "    <tr>\n",
       "      <th>4</th>\n",
       "      <td>C112727</td>\n",
       "      <td>일반검진</td>\n",
       "      <td>승인</td>\n",
       "      <td>2015-06-24</td>\n",
       "      <td>1</td>\n",
       "      <td>65</td>\n",
       "      <td>160</td>\n",
       "      <td>50</td>\n",
       "      <td>89</td>\n",
       "      <td>66</td>\n",
       "      <td>...</td>\n",
       "      <td>NaN</td>\n",
       "      <td>NaN</td>\n",
       "      <td>NaN</td>\n",
       "      <td>NaN</td>\n",
       "      <td>NaN</td>\n",
       "      <td>NaN</td>\n",
       "      <td>NaN</td>\n",
       "      <td>NaN</td>\n",
       "      <td>NaN</td>\n",
       "      <td>0.0</td>\n",
       "    </tr>\n",
       "    <tr>\n",
       "      <th>5</th>\n",
       "      <td>C112730</td>\n",
       "      <td>일반검진</td>\n",
       "      <td>승인</td>\n",
       "      <td>2015-09-01</td>\n",
       "      <td>1</td>\n",
       "      <td>65</td>\n",
       "      <td>164</td>\n",
       "      <td>64</td>\n",
       "      <td>97</td>\n",
       "      <td>80</td>\n",
       "      <td>...</td>\n",
       "      <td>NaN</td>\n",
       "      <td>NaN</td>\n",
       "      <td>NaN</td>\n",
       "      <td>NaN</td>\n",
       "      <td>NaN</td>\n",
       "      <td>NaN</td>\n",
       "      <td>NaN</td>\n",
       "      <td>NaN</td>\n",
       "      <td>NaN</td>\n",
       "      <td>0.0</td>\n",
       "    </tr>\n",
       "    <tr>\n",
       "      <th>6</th>\n",
       "      <td>C112742</td>\n",
       "      <td>일반검진</td>\n",
       "      <td>승인</td>\n",
       "      <td>2015-09-02</td>\n",
       "      <td>1</td>\n",
       "      <td>65</td>\n",
       "      <td>169</td>\n",
       "      <td>62</td>\n",
       "      <td>89</td>\n",
       "      <td>72</td>\n",
       "      <td>...</td>\n",
       "      <td>NaN</td>\n",
       "      <td>NaN</td>\n",
       "      <td>NaN</td>\n",
       "      <td>NaN</td>\n",
       "      <td>NaN</td>\n",
       "      <td>NaN</td>\n",
       "      <td>NaN</td>\n",
       "      <td>NaN</td>\n",
       "      <td>NaN</td>\n",
       "      <td>0.0</td>\n",
       "    </tr>\n",
       "    <tr>\n",
       "      <th>...</th>\n",
       "      <td>...</td>\n",
       "      <td>...</td>\n",
       "      <td>...</td>\n",
       "      <td>...</td>\n",
       "      <td>...</td>\n",
       "      <td>...</td>\n",
       "      <td>...</td>\n",
       "      <td>...</td>\n",
       "      <td>...</td>\n",
       "      <td>...</td>\n",
       "      <td>...</td>\n",
       "      <td>...</td>\n",
       "      <td>...</td>\n",
       "      <td>...</td>\n",
       "      <td>...</td>\n",
       "      <td>...</td>\n",
       "      <td>...</td>\n",
       "      <td>...</td>\n",
       "      <td>...</td>\n",
       "      <td>...</td>\n",
       "      <td>...</td>\n",
       "    </tr>\n",
       "    <tr>\n",
       "      <th>4060</th>\n",
       "      <td>C134107</td>\n",
       "      <td>일반검진</td>\n",
       "      <td>재검</td>\n",
       "      <td>2015-07-12</td>\n",
       "      <td>2</td>\n",
       "      <td>55</td>\n",
       "      <td>158</td>\n",
       "      <td>63</td>\n",
       "      <td>98</td>\n",
       "      <td>80</td>\n",
       "      <td>...</td>\n",
       "      <td>NaN</td>\n",
       "      <td>NaN</td>\n",
       "      <td>NaN</td>\n",
       "      <td>NaN</td>\n",
       "      <td>NaN</td>\n",
       "      <td>NaN</td>\n",
       "      <td>NaN</td>\n",
       "      <td>NaN</td>\n",
       "      <td>NaN</td>\n",
       "      <td>0.0</td>\n",
       "    </tr>\n",
       "    <tr>\n",
       "      <th>4075</th>\n",
       "      <td>C134186</td>\n",
       "      <td>일반검진</td>\n",
       "      <td>승인</td>\n",
       "      <td>2015-05-12</td>\n",
       "      <td>2</td>\n",
       "      <td>38</td>\n",
       "      <td>161</td>\n",
       "      <td>65</td>\n",
       "      <td>94</td>\n",
       "      <td>80</td>\n",
       "      <td>...</td>\n",
       "      <td>NaN</td>\n",
       "      <td>NaN</td>\n",
       "      <td>NaN</td>\n",
       "      <td>NaN</td>\n",
       "      <td>NaN</td>\n",
       "      <td>NaN</td>\n",
       "      <td>NaN</td>\n",
       "      <td>NaN</td>\n",
       "      <td>NaN</td>\n",
       "      <td>0.0</td>\n",
       "    </tr>\n",
       "    <tr>\n",
       "      <th>4076</th>\n",
       "      <td>C134188</td>\n",
       "      <td>일반검진</td>\n",
       "      <td>승인</td>\n",
       "      <td>2015-06-22</td>\n",
       "      <td>1</td>\n",
       "      <td>41</td>\n",
       "      <td>175</td>\n",
       "      <td>78</td>\n",
       "      <td>100</td>\n",
       "      <td>92</td>\n",
       "      <td>...</td>\n",
       "      <td>NaN</td>\n",
       "      <td>NaN</td>\n",
       "      <td>NaN</td>\n",
       "      <td>NaN</td>\n",
       "      <td>NaN</td>\n",
       "      <td>NaN</td>\n",
       "      <td>NaN</td>\n",
       "      <td>NaN</td>\n",
       "      <td>NaN</td>\n",
       "      <td>1.0</td>\n",
       "    </tr>\n",
       "    <tr>\n",
       "      <th>4080</th>\n",
       "      <td>C134250</td>\n",
       "      <td>일반검진</td>\n",
       "      <td>승인</td>\n",
       "      <td>2015-09-16</td>\n",
       "      <td>2</td>\n",
       "      <td>52</td>\n",
       "      <td>164</td>\n",
       "      <td>60</td>\n",
       "      <td>90</td>\n",
       "      <td>66</td>\n",
       "      <td>...</td>\n",
       "      <td>NaN</td>\n",
       "      <td>NaN</td>\n",
       "      <td>NaN</td>\n",
       "      <td>NaN</td>\n",
       "      <td>NaN</td>\n",
       "      <td>NaN</td>\n",
       "      <td>NaN</td>\n",
       "      <td>NaN</td>\n",
       "      <td>NaN</td>\n",
       "      <td>0.0</td>\n",
       "    </tr>\n",
       "    <tr>\n",
       "      <th>4081</th>\n",
       "      <td>C134251</td>\n",
       "      <td>일반검진</td>\n",
       "      <td>재검</td>\n",
       "      <td>2015-06-21</td>\n",
       "      <td>2</td>\n",
       "      <td>57</td>\n",
       "      <td>157</td>\n",
       "      <td>48</td>\n",
       "      <td>89</td>\n",
       "      <td>72</td>\n",
       "      <td>...</td>\n",
       "      <td>NaN</td>\n",
       "      <td>NaN</td>\n",
       "      <td>NaN</td>\n",
       "      <td>NaN</td>\n",
       "      <td>NaN</td>\n",
       "      <td>NaN</td>\n",
       "      <td>NaN</td>\n",
       "      <td>NaN</td>\n",
       "      <td>NaN</td>\n",
       "      <td>0.0</td>\n",
       "    </tr>\n",
       "  </tbody>\n",
       "</table>\n",
       "<p>875 rows × 51 columns</p>\n",
       "</div>"
      ],
      "text/plain": [
       "     customer_id review_cat judge review_date  gender  age  height  weight  \\\n",
       "2        C112411       일반검진    재검  2015-09-20       1   69     165      70   \n",
       "3        C112570       일반검진    재검  2015-05-27       1   67     165      75   \n",
       "4        C112727       일반검진    승인  2015-06-24       1   65     160      50   \n",
       "5        C112730       일반검진    승인  2015-09-01       1   65     164      64   \n",
       "6        C112742       일반검진    승인  2015-09-02       1   65     169      62   \n",
       "...          ...        ...   ...         ...     ...  ...     ...     ...   \n",
       "4060     C134107       일반검진    재검  2015-07-12       2   55     158      63   \n",
       "4075     C134186       일반검진    승인  2015-05-12       2   38     161      65   \n",
       "4076     C134188       일반검진    승인  2015-06-22       1   41     175      78   \n",
       "4080     C134250       일반검진    승인  2015-09-16       2   52     164      60   \n",
       "4081     C134251       일반검진    재검  2015-06-21       2   57     157      48   \n",
       "\n",
       "      bust  waist  ...  bt_mchc_judge  bt_mvc_judge  bt_plat_judge  \\\n",
       "2       92     88  ...            NaN           NaN            NaN   \n",
       "3       95     89  ...            NaN           NaN            NaN   \n",
       "4       89     66  ...            NaN           NaN            NaN   \n",
       "5       97     80  ...            NaN           NaN            NaN   \n",
       "6       89     72  ...            NaN           NaN            NaN   \n",
       "...    ...    ...  ...            ...           ...            ...   \n",
       "4060    98     80  ...            NaN           NaN            NaN   \n",
       "4075    94     80  ...            NaN           NaN            NaN   \n",
       "4076   100     92  ...            NaN           NaN            NaN   \n",
       "4080    90     66  ...            NaN           NaN            NaN   \n",
       "4081    89     72  ...            NaN           NaN            NaN   \n",
       "\n",
       "      bt_rbc_judge  bt_wbc_judge  bt_rgpt_judge  bt_sgot_judge  bt_sgpt_judge  \\\n",
       "2              NaN           NaN            NaN            NaN            NaN   \n",
       "3              NaN           NaN            NaN            NaN            NaN   \n",
       "4              NaN           NaN            NaN            NaN            NaN   \n",
       "5              NaN           NaN            NaN            NaN            NaN   \n",
       "6              NaN           NaN            NaN            NaN            NaN   \n",
       "...            ...           ...            ...            ...            ...   \n",
       "4060           NaN           NaN            NaN            NaN            NaN   \n",
       "4075           NaN           NaN            NaN            NaN            NaN   \n",
       "4076           NaN           NaN            NaN            NaN            NaN   \n",
       "4080           NaN           NaN            NaN            NaN            NaN   \n",
       "4081           NaN           NaN            NaN            NaN            NaN   \n",
       "\n",
       "      bt_trig_judge n_risk  \n",
       "2               NaN    0.0  \n",
       "3               NaN    0.0  \n",
       "4               NaN    0.0  \n",
       "5               NaN    0.0  \n",
       "6               NaN    0.0  \n",
       "...             ...    ...  \n",
       "4060            NaN    0.0  \n",
       "4075            NaN    0.0  \n",
       "4076            NaN    1.0  \n",
       "4080            NaN    0.0  \n",
       "4081            NaN    0.0  \n",
       "\n",
       "[875 rows x 51 columns]"
      ]
     },
     "execution_count": 4,
     "metadata": {},
     "output_type": "execute_result"
    }
   ],
   "source": [
    "g_2 = df_raw[df_raw['review_cat'] !='혈액검사'].drop('Unnamed: 0',axis=1)\n",
    "g_2"
   ]
  },
  {
   "cell_type": "code",
   "execution_count": 5,
   "metadata": {},
   "outputs": [
    {
     "data": {
      "text/plain": [
       "customer_id            0\n",
       "review_cat             0\n",
       "judge                  0\n",
       "review_date            0\n",
       "gender                 0\n",
       "age                    0\n",
       "height                 0\n",
       "weight                 0\n",
       "bust                   0\n",
       "waist                  0\n",
       "bmi                    0\n",
       "whtr                   0\n",
       "bp_min                 0\n",
       "bp_max                 0\n",
       "pulse_count            0\n",
       "bt_chol              875\n",
       "bt_crea              875\n",
       "bt_gluc              875\n",
       "bt_hb                875\n",
       "bt_hbsa              875\n",
       "bt_hct               875\n",
       "bt_mch               875\n",
       "bt_mchc              875\n",
       "bt_mvc               875\n",
       "bt_plat              875\n",
       "bt_rbc               875\n",
       "bt_wbc               875\n",
       "bt_rgpt              875\n",
       "bt_sgot              875\n",
       "bt_sgpt              875\n",
       "bt_trig              875\n",
       "judge_score            0\n",
       "bp_judge               0\n",
       "pulse_count_judge      0\n",
       "bt_chol_judge        875\n",
       "bt_crea_judge        875\n",
       "bt_gluc_judge        875\n",
       "bt_hb_judge          875\n",
       "bt_hbsa_judge        875\n",
       "bt_hct_judge         875\n",
       "bt_mch_judge         875\n",
       "bt_mchc_judge        875\n",
       "bt_mvc_judge         875\n",
       "bt_plat_judge        875\n",
       "bt_rbc_judge         875\n",
       "bt_wbc_judge         875\n",
       "bt_rgpt_judge        875\n",
       "bt_sgot_judge        875\n",
       "bt_sgpt_judge        875\n",
       "bt_trig_judge        875\n",
       "n_risk                 0\n",
       "dtype: int64"
      ]
     },
     "execution_count": 5,
     "metadata": {},
     "output_type": "execute_result"
    }
   ],
   "source": [
    "g_2.isna().sum()"
   ]
  },
  {
   "cell_type": "code",
   "execution_count": 6,
   "metadata": {},
   "outputs": [],
   "source": [
    "g_test = g_2[['customer_id','gender', 'age',\n",
    "       'height', 'weight', 'bust', 'waist', 'bmi', 'whtr', 'bp_min', 'bp_max',\n",
    "       'pulse_count', 'bp_judge', 'pulse_count_judge', 'judge_score', 'n_risk']]"
   ]
  },
  {
   "cell_type": "code",
   "execution_count": 7,
   "metadata": {},
   "outputs": [
    {
     "data": {
      "text/html": [
       "<div>\n",
       "<style scoped>\n",
       "    .dataframe tbody tr th:only-of-type {\n",
       "        vertical-align: middle;\n",
       "    }\n",
       "\n",
       "    .dataframe tbody tr th {\n",
       "        vertical-align: top;\n",
       "    }\n",
       "\n",
       "    .dataframe thead th {\n",
       "        text-align: right;\n",
       "    }\n",
       "</style>\n",
       "<table border=\"1\" class=\"dataframe\">\n",
       "  <thead>\n",
       "    <tr style=\"text-align: right;\">\n",
       "      <th></th>\n",
       "      <th>customer_id</th>\n",
       "      <th>gender</th>\n",
       "      <th>age</th>\n",
       "      <th>height</th>\n",
       "      <th>weight</th>\n",
       "      <th>bust</th>\n",
       "      <th>waist</th>\n",
       "      <th>bmi</th>\n",
       "      <th>whtr</th>\n",
       "      <th>bp_min</th>\n",
       "      <th>bp_max</th>\n",
       "      <th>pulse_count</th>\n",
       "      <th>bp_judge</th>\n",
       "      <th>pulse_count_judge</th>\n",
       "      <th>judge_score</th>\n",
       "      <th>n_risk</th>\n",
       "    </tr>\n",
       "  </thead>\n",
       "  <tbody>\n",
       "    <tr>\n",
       "      <th>2</th>\n",
       "      <td>C112411</td>\n",
       "      <td>1</td>\n",
       "      <td>69</td>\n",
       "      <td>165</td>\n",
       "      <td>70</td>\n",
       "      <td>92</td>\n",
       "      <td>88</td>\n",
       "      <td>25.711662</td>\n",
       "      <td>0.533333</td>\n",
       "      <td>75</td>\n",
       "      <td>120</td>\n",
       "      <td>68</td>\n",
       "      <td>0</td>\n",
       "      <td>0</td>\n",
       "      <td>0</td>\n",
       "      <td>0.0</td>\n",
       "    </tr>\n",
       "    <tr>\n",
       "      <th>3</th>\n",
       "      <td>C112570</td>\n",
       "      <td>1</td>\n",
       "      <td>67</td>\n",
       "      <td>165</td>\n",
       "      <td>75</td>\n",
       "      <td>95</td>\n",
       "      <td>89</td>\n",
       "      <td>27.548209</td>\n",
       "      <td>0.539394</td>\n",
       "      <td>90</td>\n",
       "      <td>140</td>\n",
       "      <td>70</td>\n",
       "      <td>1</td>\n",
       "      <td>0</td>\n",
       "      <td>1</td>\n",
       "      <td>0.0</td>\n",
       "    </tr>\n",
       "    <tr>\n",
       "      <th>4</th>\n",
       "      <td>C112727</td>\n",
       "      <td>1</td>\n",
       "      <td>65</td>\n",
       "      <td>160</td>\n",
       "      <td>50</td>\n",
       "      <td>89</td>\n",
       "      <td>66</td>\n",
       "      <td>19.531250</td>\n",
       "      <td>0.412500</td>\n",
       "      <td>80</td>\n",
       "      <td>130</td>\n",
       "      <td>64</td>\n",
       "      <td>1</td>\n",
       "      <td>0</td>\n",
       "      <td>0</td>\n",
       "      <td>0.0</td>\n",
       "    </tr>\n",
       "    <tr>\n",
       "      <th>5</th>\n",
       "      <td>C112730</td>\n",
       "      <td>1</td>\n",
       "      <td>65</td>\n",
       "      <td>164</td>\n",
       "      <td>64</td>\n",
       "      <td>97</td>\n",
       "      <td>80</td>\n",
       "      <td>23.795360</td>\n",
       "      <td>0.487805</td>\n",
       "      <td>80</td>\n",
       "      <td>125</td>\n",
       "      <td>68</td>\n",
       "      <td>1</td>\n",
       "      <td>0</td>\n",
       "      <td>0</td>\n",
       "      <td>0.0</td>\n",
       "    </tr>\n",
       "    <tr>\n",
       "      <th>6</th>\n",
       "      <td>C112742</td>\n",
       "      <td>1</td>\n",
       "      <td>65</td>\n",
       "      <td>169</td>\n",
       "      <td>62</td>\n",
       "      <td>89</td>\n",
       "      <td>72</td>\n",
       "      <td>21.707923</td>\n",
       "      <td>0.426036</td>\n",
       "      <td>80</td>\n",
       "      <td>120</td>\n",
       "      <td>70</td>\n",
       "      <td>0</td>\n",
       "      <td>0</td>\n",
       "      <td>0</td>\n",
       "      <td>0.0</td>\n",
       "    </tr>\n",
       "    <tr>\n",
       "      <th>...</th>\n",
       "      <td>...</td>\n",
       "      <td>...</td>\n",
       "      <td>...</td>\n",
       "      <td>...</td>\n",
       "      <td>...</td>\n",
       "      <td>...</td>\n",
       "      <td>...</td>\n",
       "      <td>...</td>\n",
       "      <td>...</td>\n",
       "      <td>...</td>\n",
       "      <td>...</td>\n",
       "      <td>...</td>\n",
       "      <td>...</td>\n",
       "      <td>...</td>\n",
       "      <td>...</td>\n",
       "      <td>...</td>\n",
       "    </tr>\n",
       "    <tr>\n",
       "      <th>4060</th>\n",
       "      <td>C134107</td>\n",
       "      <td>2</td>\n",
       "      <td>55</td>\n",
       "      <td>158</td>\n",
       "      <td>63</td>\n",
       "      <td>98</td>\n",
       "      <td>80</td>\n",
       "      <td>25.236340</td>\n",
       "      <td>0.506329</td>\n",
       "      <td>80</td>\n",
       "      <td>135</td>\n",
       "      <td>70</td>\n",
       "      <td>1</td>\n",
       "      <td>0</td>\n",
       "      <td>1</td>\n",
       "      <td>0.0</td>\n",
       "    </tr>\n",
       "    <tr>\n",
       "      <th>4075</th>\n",
       "      <td>C134186</td>\n",
       "      <td>2</td>\n",
       "      <td>38</td>\n",
       "      <td>161</td>\n",
       "      <td>65</td>\n",
       "      <td>94</td>\n",
       "      <td>80</td>\n",
       "      <td>25.076193</td>\n",
       "      <td>0.496894</td>\n",
       "      <td>70</td>\n",
       "      <td>110</td>\n",
       "      <td>72</td>\n",
       "      <td>0</td>\n",
       "      <td>0</td>\n",
       "      <td>0</td>\n",
       "      <td>0.0</td>\n",
       "    </tr>\n",
       "    <tr>\n",
       "      <th>4076</th>\n",
       "      <td>C134188</td>\n",
       "      <td>1</td>\n",
       "      <td>41</td>\n",
       "      <td>175</td>\n",
       "      <td>78</td>\n",
       "      <td>100</td>\n",
       "      <td>92</td>\n",
       "      <td>25.469388</td>\n",
       "      <td>0.525714</td>\n",
       "      <td>80</td>\n",
       "      <td>110</td>\n",
       "      <td>66</td>\n",
       "      <td>0</td>\n",
       "      <td>0</td>\n",
       "      <td>0</td>\n",
       "      <td>1.0</td>\n",
       "    </tr>\n",
       "    <tr>\n",
       "      <th>4080</th>\n",
       "      <td>C134250</td>\n",
       "      <td>2</td>\n",
       "      <td>52</td>\n",
       "      <td>164</td>\n",
       "      <td>60</td>\n",
       "      <td>90</td>\n",
       "      <td>66</td>\n",
       "      <td>22.308150</td>\n",
       "      <td>0.402439</td>\n",
       "      <td>80</td>\n",
       "      <td>120</td>\n",
       "      <td>70</td>\n",
       "      <td>0</td>\n",
       "      <td>0</td>\n",
       "      <td>0</td>\n",
       "      <td>0.0</td>\n",
       "    </tr>\n",
       "    <tr>\n",
       "      <th>4081</th>\n",
       "      <td>C134251</td>\n",
       "      <td>2</td>\n",
       "      <td>57</td>\n",
       "      <td>157</td>\n",
       "      <td>48</td>\n",
       "      <td>89</td>\n",
       "      <td>72</td>\n",
       "      <td>19.473407</td>\n",
       "      <td>0.458599</td>\n",
       "      <td>70</td>\n",
       "      <td>110</td>\n",
       "      <td>72</td>\n",
       "      <td>0</td>\n",
       "      <td>0</td>\n",
       "      <td>2</td>\n",
       "      <td>0.0</td>\n",
       "    </tr>\n",
       "  </tbody>\n",
       "</table>\n",
       "<p>875 rows × 16 columns</p>\n",
       "</div>"
      ],
      "text/plain": [
       "     customer_id  gender  age  height  weight  bust  waist        bmi  \\\n",
       "2        C112411       1   69     165      70    92     88  25.711662   \n",
       "3        C112570       1   67     165      75    95     89  27.548209   \n",
       "4        C112727       1   65     160      50    89     66  19.531250   \n",
       "5        C112730       1   65     164      64    97     80  23.795360   \n",
       "6        C112742       1   65     169      62    89     72  21.707923   \n",
       "...          ...     ...  ...     ...     ...   ...    ...        ...   \n",
       "4060     C134107       2   55     158      63    98     80  25.236340   \n",
       "4075     C134186       2   38     161      65    94     80  25.076193   \n",
       "4076     C134188       1   41     175      78   100     92  25.469388   \n",
       "4080     C134250       2   52     164      60    90     66  22.308150   \n",
       "4081     C134251       2   57     157      48    89     72  19.473407   \n",
       "\n",
       "          whtr  bp_min  bp_max  pulse_count  bp_judge  pulse_count_judge  \\\n",
       "2     0.533333      75     120           68         0                  0   \n",
       "3     0.539394      90     140           70         1                  0   \n",
       "4     0.412500      80     130           64         1                  0   \n",
       "5     0.487805      80     125           68         1                  0   \n",
       "6     0.426036      80     120           70         0                  0   \n",
       "...        ...     ...     ...          ...       ...                ...   \n",
       "4060  0.506329      80     135           70         1                  0   \n",
       "4075  0.496894      70     110           72         0                  0   \n",
       "4076  0.525714      80     110           66         0                  0   \n",
       "4080  0.402439      80     120           70         0                  0   \n",
       "4081  0.458599      70     110           72         0                  0   \n",
       "\n",
       "      judge_score  n_risk  \n",
       "2               0     0.0  \n",
       "3               1     0.0  \n",
       "4               0     0.0  \n",
       "5               0     0.0  \n",
       "6               0     0.0  \n",
       "...           ...     ...  \n",
       "4060            1     0.0  \n",
       "4075            0     0.0  \n",
       "4076            0     1.0  \n",
       "4080            0     0.0  \n",
       "4081            2     0.0  \n",
       "\n",
       "[875 rows x 16 columns]"
      ]
     },
     "execution_count": 7,
     "metadata": {},
     "output_type": "execute_result"
    }
   ],
   "source": [
    "g_test"
   ]
  },
  {
   "cell_type": "markdown",
   "metadata": {},
   "source": [
    "## 탐색적 분석"
   ]
  },
  {
   "cell_type": "code",
   "execution_count": 8,
   "metadata": {},
   "outputs": [],
   "source": [
    "def myhist(data,var):\n",
    "    plt.hist(data[data['n_risk']==0][var],label = '저위험', alpha = 0.5)\n",
    "    plt.hist(data[data['n_risk']==1][var],label = '고위험', alpha = 0.5)\n",
    "    plt.legend()\n",
    "    \n",
    "def mycrosstab(data,var) : \n",
    "    print(pd.crosstab(index = data['n_risk'], columns = data[var]))\n",
    "    print()\n",
    "    print(pd.crosstab(index = data['n_risk'], columns = data[var],normalize = 'columns').round(3))\n",
    "    \n",
    "def my_t(data,var):\n",
    "    k = stats.levene(data[data['n_risk']==0][var],data[data['n_risk']==1][var])\n",
    "    t_result = stats.ttest_ind(data[data['n_risk']==0][[var]],\n",
    "                               data[data['n_risk']==1][[var]],equal_var=True) # 2 sample 비교 명령어\n",
    "\n",
    "    t,p = t_result\n",
    "    print(k,p)"
   ]
  },
  {
   "cell_type": "code",
   "execution_count": 9,
   "metadata": {},
   "outputs": [
    {
     "data": {
      "image/png": "[encoded data removed]",
      "text/plain": [
       "<Figure size 432x288 with 1 Axes>"
      ]
     },
     "metadata": {
      "needs_background": "light"
     },
     "output_type": "display_data"
    }
   ],
   "source": [
    "myhist(g_test,'gender')"
   ]
  },
  {
   "cell_type": "code",
   "execution_count": 10,
   "metadata": {},
   "outputs": [
    {
     "name": "stdout",
     "output_type": "stream",
     "text": [
      "gender    1    2\n",
      "n_risk          \n",
      "0.0     285  448\n",
      "1.0      71   71\n",
      "\n",
      "gender      1      2\n",
      "n_risk              \n",
      "0.0     0.801  0.863\n",
      "1.0     0.199  0.137\n"
     ]
    }
   ],
   "source": [
    "mycrosstab(g_test,'gender')"
   ]
  },
  {
   "cell_type": "code",
   "execution_count": 11,
   "metadata": {},
   "outputs": [
    {
     "name": "stdout",
     "output_type": "stream",
     "text": [
      "p-value는 0.014\n"
     ]
    }
   ],
   "source": [
    "a = 285 ; b = 448 ; c = 71 ; d = 71\n",
    "\n",
    "count = np.array([a,b])\n",
    "num = np.array([a+c,b+d])\n",
    "\n",
    "stat, p_value = proportions_ztest(count,num)\n",
    "print('p-value는 {:.3f}'.format(p_value.round(3))) # 유의"
   ]
  },
  {
   "cell_type": "code",
   "execution_count": 12,
   "metadata": {},
   "outputs": [
    {
     "data": {
      "image/png": "[encoded data removed]",
      "text/plain": [
       "<Figure size 432x288 with 1 Axes>"
      ]
     },
     "metadata": {
      "needs_background": "light"
     },
     "output_type": "display_data"
    }
   ],
   "source": [
    "myhist(g_test,'pulse_count_judge') # pulse count 1 고객 존재 X -> 판단 불가, 제외"
   ]
  },
  {
   "cell_type": "code",
   "execution_count": 13,
   "metadata": {},
   "outputs": [
    {
     "data": {
      "image/png": "[encoded data removed]",
      "text/plain": [
       "<Figure size 432x288 with 1 Axes>"
      ]
     },
     "metadata": {
      "needs_background": "light"
     },
     "output_type": "display_data"
    }
   ],
   "source": [
    "myhist(g_test,'bp_judge')"
   ]
  },
  {
   "cell_type": "code",
   "execution_count": 14,
   "metadata": {},
   "outputs": [
    {
     "name": "stdout",
     "output_type": "stream",
     "text": [
      "bp_judge    0    1\n",
      "n_risk            \n",
      "0.0       589  144\n",
      "1.0       116   26\n",
      "\n",
      "bp_judge      0      1\n",
      "n_risk                \n",
      "0.0       0.835  0.847\n",
      "1.0       0.165  0.153\n"
     ]
    }
   ],
   "source": [
    "mycrosstab(g_test,'bp_judge')"
   ]
  },
  {
   "cell_type": "code",
   "execution_count": 15,
   "metadata": {},
   "outputs": [
    {
     "name": "stdout",
     "output_type": "stream",
     "text": [
      "p-value는 0.713\n"
     ]
    }
   ],
   "source": [
    "a = 589 ; b = 144 ; c = 116 ; d = 26\n",
    "\n",
    "count = np.array([a,b])\n",
    "num = np.array([a+c,b+d])\n",
    "\n",
    "stat, p_value = proportions_ztest(count,num)\n",
    "print('p-value는 {:.3f}'.format(p_value.round(3)))"
   ]
  },
  {
   "cell_type": "code",
   "execution_count": 16,
   "metadata": {},
   "outputs": [
    {
     "data": {
      "image/png": "[encoded data removed]",
      "text/plain": [
       "<Figure size 432x288 with 1 Axes>"
      ]
     },
     "metadata": {
      "needs_background": "light"
     },
     "output_type": "display_data"
    }
   ],
   "source": [
    "myhist(g_test,'judge_score')"
   ]
  },
  {
   "cell_type": "code",
   "execution_count": 17,
   "metadata": {},
   "outputs": [
    {
     "name": "stdout",
     "output_type": "stream",
     "text": [
      "judge_score    0    1   2   3   4  5  6\n",
      "n_risk                                 \n",
      "0.0          479  151  53  17  21  9  3\n",
      "1.0           95   26  13   5   1  2  0\n",
      "\n",
      "judge_score      0      1      2      3      4      5    6\n",
      "n_risk                                                    \n",
      "0.0          0.834  0.853  0.803  0.773  0.955  0.818  1.0\n",
      "1.0          0.166  0.147  0.197  0.227  0.045  0.182  0.0\n"
     ]
    }
   ],
   "source": [
    "mycrosstab(g_test,'judge_score')"
   ]
  },
  {
   "cell_type": "code",
   "execution_count": 18,
   "metadata": {},
   "outputs": [
    {
     "name": "stdout",
     "output_type": "stream",
     "text": [
      "검정 통계량은 4.441 p-value는 0.617276)\n"
     ]
    }
   ],
   "source": [
    "df = pd.DataFrame({'A':[479,151,53,17,21,9,3],'B':[95,26,13,5,1,2,0]})\n",
    "chi, p, dof, expected = stats.chi2_contingency(df.T) #테이블 형태로 넣는다는 의미\n",
    "print('검정 통계량은 {0} p-value는 {1})'.format(chi.round(3), p.round(6)))"
   ]
  },
  {
   "cell_type": "code",
   "execution_count": 19,
   "metadata": {},
   "outputs": [
    {
     "data": {
      "image/png": "[encoded data removed]",
      "text/plain": [
       "<Figure size 432x288 with 1 Axes>"
      ]
     },
     "metadata": {
      "needs_background": "light"
     },
     "output_type": "display_data"
    }
   ],
   "source": [
    "myhist(g_test,'age')"
   ]
  },
  {
   "cell_type": "code",
   "execution_count": 20,
   "metadata": {},
   "outputs": [
    {
     "name": "stdout",
     "output_type": "stream",
     "text": [
      "LeveneResult(statistic=7.114618605396788, pvalue=0.007787378994579735) [0.00156345]\n"
     ]
    }
   ],
   "source": [
    "my_t(g_test,'age') # 유의"
   ]
  },
  {
   "cell_type": "code",
   "execution_count": 21,
   "metadata": {},
   "outputs": [
    {
     "data": {
      "image/png": "[encoded data removed]",
      "text/plain": [
       "<Figure size 432x288 with 1 Axes>"
      ]
     },
     "metadata": {
      "needs_background": "light"
     },
     "output_type": "display_data"
    }
   ],
   "source": [
    "myhist(g_test,'height')"
   ]
  },
  {
   "cell_type": "code",
   "execution_count": 22,
   "metadata": {},
   "outputs": [
    {
     "name": "stdout",
     "output_type": "stream",
     "text": [
      "LeveneResult(statistic=0.5678228512762958, pvalue=0.45132853061646405) [0.00055806]\n"
     ]
    }
   ],
   "source": [
    "my_t(g_test,'height')"
   ]
  },
  {
   "cell_type": "code",
   "execution_count": 23,
   "metadata": {},
   "outputs": [
    {
     "data": {
      "image/png": "[encoded data removed]",
      "text/plain": [
       "<Figure size 432x288 with 1 Axes>"
      ]
     },
     "metadata": {
      "needs_background": "light"
     },
     "output_type": "display_data"
    }
   ],
   "source": [
    "myhist(g_test,'bp_max')"
   ]
  },
  {
   "cell_type": "code",
   "execution_count": 24,
   "metadata": {},
   "outputs": [
    {
     "name": "stdout",
     "output_type": "stream",
     "text": [
      "LeveneResult(statistic=0.0023458317027234953, pvalue=0.9613816108951024) [0.5794904]\n"
     ]
    }
   ],
   "source": [
    "my_t(g_test,'bp_max')"
   ]
  },
  {
   "cell_type": "code",
   "execution_count": 25,
   "metadata": {},
   "outputs": [
    {
     "data": {
      "image/png": "[encoded data removed]",
      "text/plain": [
       "<Figure size 432x288 with 1 Axes>"
      ]
     },
     "metadata": {
      "needs_background": "light"
     },
     "output_type": "display_data"
    }
   ],
   "source": [
    "myhist(g_test,'bp_min')"
   ]
  },
  {
   "cell_type": "code",
   "execution_count": 26,
   "metadata": {},
   "outputs": [
    {
     "data": {
      "image/png": "[encoded data removed]",
      "text/plain": [
       "<Figure size 432x288 with 1 Axes>"
      ]
     },
     "metadata": {
      "needs_background": "light"
     },
     "output_type": "display_data"
    }
   ],
   "source": [
    "myhist(g_test,'bp_min')"
   ]
  },
  {
   "cell_type": "code",
   "execution_count": 27,
   "metadata": {},
   "outputs": [
    {
     "name": "stdout",
     "output_type": "stream",
     "text": [
      "LeveneResult(statistic=0.7162103330525019, pvalue=0.3976217214384107) [0.25362709]\n"
     ]
    }
   ],
   "source": [
    "my_t(g_test,'bp_min')"
   ]
  },
  {
   "cell_type": "code",
   "execution_count": 28,
   "metadata": {},
   "outputs": [
    {
     "data": {
      "image/png": "[encoded data removed]",
      "text/plain": [
       "<Figure size 432x288 with 1 Axes>"
      ]
     },
     "metadata": {
      "needs_background": "light"
     },
     "output_type": "display_data"
    }
   ],
   "source": [
    "myhist(g_test,'waist')"
   ]
  },
  {
   "cell_type": "code",
   "execution_count": 29,
   "metadata": {},
   "outputs": [
    {
     "name": "stdout",
     "output_type": "stream",
     "text": [
      "LeveneResult(statistic=1.507716950551717, pvalue=0.2198187490807891) [0.24114989]\n"
     ]
    }
   ],
   "source": [
    "my_t(g_test,'waist')"
   ]
  },
  {
   "cell_type": "code",
   "execution_count": 30,
   "metadata": {},
   "outputs": [
    {
     "data": {
      "image/png": "[encoded data removed]",
      "text/plain": [
       "<Figure size 432x288 with 1 Axes>"
      ]
     },
     "metadata": {
      "needs_background": "light"
     },
     "output_type": "display_data"
    }
   ],
   "source": [
    "myhist(g_test,'bust')"
   ]
  },
  {
   "cell_type": "code",
   "execution_count": 31,
   "metadata": {},
   "outputs": [
    {
     "name": "stdout",
     "output_type": "stream",
     "text": [
      "LeveneResult(statistic=0.14139366986853383, pvalue=0.7069907854160677) [0.91420643]\n"
     ]
    }
   ],
   "source": [
    "my_t(g_test,'bust')"
   ]
  },
  {
   "cell_type": "code",
   "execution_count": 32,
   "metadata": {},
   "outputs": [
    {
     "data": {
      "image/png": "[encoded data removed]",
      "text/plain": [
       "<Figure size 432x288 with 1 Axes>"
      ]
     },
     "metadata": {
      "needs_background": "light"
     },
     "output_type": "display_data"
    }
   ],
   "source": [
    "myhist(g_test,'bmi')"
   ]
  },
  {
   "cell_type": "code",
   "execution_count": 33,
   "metadata": {},
   "outputs": [
    {
     "name": "stdout",
     "output_type": "stream",
     "text": [
      "LeveneResult(statistic=0.09561488170350056, pvalue=0.7572305799322043) [0.51389012]\n"
     ]
    }
   ],
   "source": [
    "my_t(g_test,'bmi')"
   ]
  },
  {
   "cell_type": "code",
   "execution_count": 34,
   "metadata": {},
   "outputs": [
    {
     "data": {
      "image/png": "[encoded data removed]",
      "text/plain": [
       "<Figure size 432x288 with 1 Axes>"
      ]
     },
     "metadata": {
      "needs_background": "light"
     },
     "output_type": "display_data"
    }
   ],
   "source": [
    "myhist(g_test,'pulse_count')"
   ]
  },
  {
   "cell_type": "code",
   "execution_count": 35,
   "metadata": {},
   "outputs": [
    {
     "name": "stdout",
     "output_type": "stream",
     "text": [
      "LeveneResult(statistic=1.3198954096185116, pvalue=0.2509254950564661) [0.89366557]\n"
     ]
    }
   ],
   "source": [
    "my_t(g_test,'pulse_count')"
   ]
  },
  {
   "cell_type": "code",
   "execution_count": 36,
   "metadata": {},
   "outputs": [
    {
     "data": {
      "image/png": "[encoded data removed]",
      "text/plain": [
       "<Figure size 432x288 with 1 Axes>"
      ]
     },
     "metadata": {
      "needs_background": "light"
     },
     "output_type": "display_data"
    }
   ],
   "source": [
    "myhist(g_test,'whtr')"
   ]
  },
  {
   "cell_type": "code",
   "execution_count": 37,
   "metadata": {},
   "outputs": [
    {
     "name": "stdout",
     "output_type": "stream",
     "text": [
      "LeveneResult(statistic=0.11395394346291973, pvalue=0.7357679126218739) [0.58561526]\n"
     ]
    }
   ],
   "source": [
    "my_t(g_test,'whtr')"
   ]
  },
  {
   "cell_type": "markdown",
   "metadata": {},
   "source": [
    "#### age, gender 유의"
   ]
  },
  {
   "cell_type": "markdown",
   "metadata": {},
   "source": [
    "### 로지스틱 탐색"
   ]
  },
  {
   "cell_type": "code",
   "execution_count": 38,
   "metadata": {},
   "outputs": [],
   "source": [
    "g_num = g_test.select_dtypes(exclude = 'object')"
   ]
  },
  {
   "cell_type": "code",
   "execution_count": 39,
   "metadata": {},
   "outputs": [
    {
     "name": "stdout",
     "output_type": "stream",
     "text": [
      "Warning: Maximum number of iterations has been exceeded.\n",
      "         Current function value: 0.422293\n",
      "         Iterations: 35\n",
      "                           Logit Regression Results                           \n",
      "==============================================================================\n",
      "Dep. Variable:                 n_risk   No. Observations:                  875\n",
      "Model:                          Logit   Df Residuals:                      855\n",
      "Method:                           MLE   Df Model:                           19\n",
      "Date:                Thu, 07 May 2020   Pseudo R-squ.:                 0.04769\n",
      "Time:                        13:47:02   Log-Likelihood:                -369.51\n",
      "converged:                      False   LL-Null:                       -388.01\n",
      "Covariance Type:            nonrobust   LLR p-value:                  0.007915\n",
      "=============================================================================================\n",
      "                                coef    std err          z      P>|z|      [0.025      0.975]\n",
      "---------------------------------------------------------------------------------------------\n",
      "Intercept                    16.0468     25.492      0.629      0.529     -33.917      66.011\n",
      "C(gender)[T.2]               -0.0362      0.308     -0.117      0.907      -0.640       0.567\n",
      "C(pulse_count_judge)[T.1]    22.4878   2.46e+04      0.001      0.999   -4.83e+04    4.83e+04\n",
      "C(judge_score)[T.1]          -0.2856      0.252     -1.133      0.257      -0.780       0.208\n",
      "C(judge_score)[T.2]           0.1637      0.339      0.483      0.629      -0.500       0.827\n",
      "C(judge_score)[T.3]           0.4030      0.535      0.753      0.451      -0.646       1.452\n",
      "C(judge_score)[T.4]          -1.3576      1.043     -1.302      0.193      -3.401       0.686\n",
      "C(judge_score)[T.5]          -0.0683      0.813     -0.084      0.933      -1.662       1.525\n",
      "C(judge_score)[T.6]         -15.3637   2592.835     -0.006      0.995   -5097.227    5066.500\n",
      "C(bp_judge)[T.1]              0.0092      0.334      0.027      0.978      -0.645       0.664\n",
      "age                          -0.0240      0.009     -2.551      0.011      -0.042      -0.006\n",
      "height                       -0.0886      0.155     -0.573      0.567      -0.392       0.214\n",
      "bust                         -0.0422      0.027     -1.592      0.111      -0.094       0.010\n",
      "bmi                          -0.0707      0.463     -0.153      0.879      -0.978       0.836\n",
      "whtr                        -40.0840     61.963     -0.647      0.518    -161.530      81.362\n",
      "bp_min                       -0.0454      0.029     -1.593      0.111      -0.101       0.010\n",
      "bp_max                        0.0213      0.024      0.895      0.371      -0.025       0.068\n",
      "pulse_count                  -0.0061      0.020     -0.302      0.763      -0.046       0.033\n",
      "waist                         0.3063      0.379      0.808      0.419      -0.437       1.049\n",
      "weight                        0.0010      0.167      0.006      0.995      -0.326       0.327\n",
      "=============================================================================================\n"
     ]
    },
    {
     "name": "stderr",
     "output_type": "stream",
     "text": [
      "C:\\Users\\BHU\\anaconda3\\lib\\site-packages\\statsmodels\\base\\model.py:568: ConvergenceWarning: Maximum Likelihood optimization failed to converge. Check mle_retvals\n",
      "  \"Check mle_retvals\", ConvergenceWarning)\n"
     ]
    }
   ],
   "source": [
    "log_model = Logit.from_formula(''' n_risk ~ C(gender) + age + height + bust\n",
    "+bmi+whtr+bp_min+bp_max+pulse_count + C(pulse_count_judge) +C(judge_score)+ waist + weight+\n",
    "C(bp_judge)''',data = g_num)\n",
    "log_result = log_model.fit()\n",
    "print(log_result.summary())\n",
    "\n",
    "# 판정은 0 아니면 1 따라서, 스케일은 진행하지 X"
   ]
  },
  {
   "cell_type": "code",
   "execution_count": 40,
   "metadata": {},
   "outputs": [
    {
     "data": {
      "text/html": [
       "<div>\n",
       "<style scoped>\n",
       "    .dataframe tbody tr th:only-of-type {\n",
       "        vertical-align: middle;\n",
       "    }\n",
       "\n",
       "    .dataframe tbody tr th {\n",
       "        vertical-align: top;\n",
       "    }\n",
       "\n",
       "    .dataframe thead th {\n",
       "        text-align: right;\n",
       "    }\n",
       "</style>\n",
       "<table border=\"1\" class=\"dataframe\">\n",
       "  <thead>\n",
       "    <tr style=\"text-align: right;\">\n",
       "      <th></th>\n",
       "      <th>variable</th>\n",
       "      <th>VIF</th>\n",
       "    </tr>\n",
       "  </thead>\n",
       "  <tbody>\n",
       "    <tr>\n",
       "      <th>12</th>\n",
       "      <td>judge_score</td>\n",
       "      <td>1.014</td>\n",
       "    </tr>\n",
       "    <tr>\n",
       "      <th>11</th>\n",
       "      <td>pulse_count_judge</td>\n",
       "      <td>1.035</td>\n",
       "    </tr>\n",
       "    <tr>\n",
       "      <th>9</th>\n",
       "      <td>pulse_count</td>\n",
       "      <td>1.048</td>\n",
       "    </tr>\n",
       "    <tr>\n",
       "      <th>2</th>\n",
       "      <td>age</td>\n",
       "      <td>1.305</td>\n",
       "    </tr>\n",
       "    <tr>\n",
       "      <th>10</th>\n",
       "      <td>bp_judge</td>\n",
       "      <td>1.902</td>\n",
       "    </tr>\n",
       "    <tr>\n",
       "      <th>1</th>\n",
       "      <td>gender</td>\n",
       "      <td>2.634</td>\n",
       "    </tr>\n",
       "    <tr>\n",
       "      <th>5</th>\n",
       "      <td>bmi</td>\n",
       "      <td>3.033</td>\n",
       "    </tr>\n",
       "    <tr>\n",
       "      <th>7</th>\n",
       "      <td>bp_min</td>\n",
       "      <td>3.343</td>\n",
       "    </tr>\n",
       "    <tr>\n",
       "      <th>6</th>\n",
       "      <td>whtr</td>\n",
       "      <td>3.418</td>\n",
       "    </tr>\n",
       "    <tr>\n",
       "      <th>3</th>\n",
       "      <td>height</td>\n",
       "      <td>3.486</td>\n",
       "    </tr>\n",
       "    <tr>\n",
       "      <th>4</th>\n",
       "      <td>bust</td>\n",
       "      <td>3.690</td>\n",
       "    </tr>\n",
       "    <tr>\n",
       "      <th>8</th>\n",
       "      <td>bp_max</td>\n",
       "      <td>4.658</td>\n",
       "    </tr>\n",
       "    <tr>\n",
       "      <th>0</th>\n",
       "      <td>const</td>\n",
       "      <td>2365.737</td>\n",
       "    </tr>\n",
       "  </tbody>\n",
       "</table>\n",
       "</div>"
      ],
      "text/plain": [
       "             variable       VIF\n",
       "12        judge_score     1.014\n",
       "11  pulse_count_judge     1.035\n",
       "9         pulse_count     1.048\n",
       "2                 age     1.305\n",
       "10           bp_judge     1.902\n",
       "1              gender     2.634\n",
       "5                 bmi     3.033\n",
       "7              bp_min     3.343\n",
       "6                whtr     3.418\n",
       "3              height     3.486\n",
       "4                bust     3.690\n",
       "8              bp_max     4.658\n",
       "0               const  2365.737"
      ]
     },
     "execution_count": 40,
     "metadata": {},
     "output_type": "execute_result"
    }
   ],
   "source": [
    "df_x = g_num.drop(['n_risk','waist','weight'],axis = 1)\n",
    "df_x # 종속 변수 빼고 새롭게 데이터 프레임 생성\n",
    "df_x_const = add_constant(df_x) # const열 생성\n",
    "\n",
    "df_vif = pd.DataFrame()\n",
    "df_vif['variable'] = df_x_const.columns\n",
    "df_vif['VIF'] = [variance_inflation_factor(df_x_const.values,i) for i in range(df_x_const.shape[1])]\n",
    "df_vif.sort_values('VIF',inplace=True)\n",
    "df_vif.round(3) # 다중공선성 존재 X -> 회귀식 자체로 판단"
   ]
  },
  {
   "cell_type": "code",
   "execution_count": 41,
   "metadata": {},
   "outputs": [
    {
     "name": "stdout",
     "output_type": "stream",
     "text": [
      "Warning: Maximum number of iterations has been exceeded.\n",
      "         Current function value: 0.422843\n",
      "         Iterations: 35\n",
      "                           Logit Regression Results                           \n",
      "==============================================================================\n",
      "Dep. Variable:                 n_risk   No. Observations:                  875\n",
      "Model:                          Logit   Df Residuals:                      857\n",
      "Method:                           MLE   Df Model:                           17\n",
      "Date:                Thu, 07 May 2020   Pseudo R-squ.:                 0.04645\n",
      "Time:                        13:47:03   Log-Likelihood:                -369.99\n",
      "converged:                      False   LL-Null:                       -388.01\n",
      "Covariance Type:            nonrobust   LLR p-value:                  0.004523\n",
      "=============================================================================================\n",
      "                                coef    std err          z      P>|z|      [0.025      0.975]\n",
      "---------------------------------------------------------------------------------------------\n",
      "Intercept                    -7.9299      4.270     -1.857      0.063     -16.299       0.439\n",
      "C(gender)[T.2]               -0.0350      0.306     -0.114      0.909      -0.635       0.565\n",
      "C(pulse_count_judge)[T.1]    22.7219   2.46e+04      0.001      0.999   -4.83e+04    4.83e+04\n",
      "C(judge_score)[T.1]          -0.2747      0.251     -1.093      0.275      -0.767       0.218\n",
      "C(judge_score)[T.2]           0.1831      0.337      0.543      0.587      -0.478       0.844\n",
      "C(judge_score)[T.3]           0.4310      0.534      0.807      0.420      -0.616       1.478\n",
      "C(judge_score)[T.4]          -1.2945      1.039     -1.245      0.213      -3.332       0.743\n",
      "C(judge_score)[T.5]          -0.0315      0.814     -0.039      0.969      -1.627       1.564\n",
      "C(judge_score)[T.6]         -16.2305   4003.603     -0.004      0.997   -7863.149    7830.688\n",
      "C(bp_judge)[T.1]              0.0124      0.332      0.037      0.970      -0.639       0.664\n",
      "age                          -0.0236      0.009     -2.541      0.011      -0.042      -0.005\n",
      "height                        0.0575      0.023      2.518      0.012       0.013       0.102\n",
      "bust                         -0.0407      0.026     -1.546      0.122      -0.092       0.011\n",
      "bmi                          -0.0638      0.068     -0.942      0.346      -0.197       0.069\n",
      "whtr                          9.6420      4.273      2.256      0.024       1.267      18.017\n",
      "bp_min                       -0.0451      0.028     -1.582      0.114      -0.101       0.011\n",
      "bp_max                        0.0210      0.024      0.883      0.377      -0.026       0.068\n",
      "pulse_count                  -0.0061      0.020     -0.301      0.763      -0.045       0.033\n",
      "=============================================================================================\n"
     ]
    },
    {
     "name": "stderr",
     "output_type": "stream",
     "text": [
      "C:\\Users\\BHU\\anaconda3\\lib\\site-packages\\statsmodels\\base\\model.py:568: ConvergenceWarning: Maximum Likelihood optimization failed to converge. Check mle_retvals\n",
      "  \"Check mle_retvals\", ConvergenceWarning)\n"
     ]
    }
   ],
   "source": [
    "log_model = Logit.from_formula(''' n_risk ~ C(gender) + age + height + bust\n",
    "+bmi+whtr+bp_min+bp_max+pulse_count + C(pulse_count_judge) +C(judge_score)+\n",
    "C(bp_judge)''',data = g_num)\n",
    "log_result = log_model.fit()\n",
    "print(log_result.summary())\n",
    "\n",
    "# 판정은 0 아니면 1 따라서, 스케일은 진행하지 X"
   ]
  },
  {
   "cell_type": "markdown",
   "metadata": {},
   "source": [
    "### 다중 공선성"
   ]
  },
  {
   "cell_type": "code",
   "execution_count": 42,
   "metadata": {},
   "outputs": [
    {
     "name": "stdout",
     "output_type": "stream",
     "text": [
      "select variables :  Index(['gender', 'bmi', 'whtr', 'pulse_count_judge'], dtype='object')\n",
      "removed variable :  Index(['age', 'height', 'bust', 'bp_min', 'bp_max', 'pulse_count', 'bp_judge',\n",
      "       'judge_score'],\n",
      "      dtype='object')\n"
     ]
    }
   ],
   "source": [
    "df_y = g_num['n_risk']\n",
    "model = LinearRegression()\n",
    "rfe = RFE(estimator = model, n_features_to_select = 4).fit(df_x,df_y)\n",
    "# df_x는 다중 공선성으로 제거 후 남은 x인자만 존재\n",
    "selected_cols = df_x.columns[rfe.support_]\n",
    "removed_cols = df_x.columns[~rfe.support_]\n",
    "\n",
    "print(\"select variables : \",selected_cols)\n",
    "print(\"removed variable : \",removed_cols)"
   ]
  },
  {
   "cell_type": "code",
   "execution_count": 43,
   "metadata": {},
   "outputs": [
    {
     "name": "stdout",
     "output_type": "stream",
     "text": [
      "Warning: Maximum number of iterations has been exceeded.\n",
      "         Current function value: 0.436956\n",
      "         Iterations: 35\n",
      "                           Logit Regression Results                           \n",
      "==============================================================================\n",
      "Dep. Variable:                 n_risk   No. Observations:                  875\n",
      "Model:                          Logit   Df Residuals:                      870\n",
      "Method:                           MLE   Df Model:                            4\n",
      "Date:                Thu, 07 May 2020   Pseudo R-squ.:                 0.01462\n",
      "Time:                        13:47:03   Log-Likelihood:                -382.34\n",
      "converged:                      False   LL-Null:                       -388.01\n",
      "Covariance Type:            nonrobust   LLR p-value:                   0.02292\n",
      "=====================================================================================\n",
      "                        coef    std err          z      P>|z|      [0.025      0.975]\n",
      "-------------------------------------------------------------------------------------\n",
      "Intercept            -0.2939      1.123     -0.262      0.794      -2.495       1.908\n",
      "C(gender)[T.2]       -0.5239      0.192     -2.733      0.006      -0.900      -0.148\n",
      "bmi                  -0.0443      0.058     -0.765      0.444      -0.158       0.069\n",
      "whtr                 -0.1036      3.367     -0.031      0.975      -6.704       6.496\n",
      "pulse_count_judge    21.8557   2.46e+04      0.001      0.999   -4.83e+04    4.83e+04\n",
      "=====================================================================================\n"
     ]
    },
    {
     "name": "stderr",
     "output_type": "stream",
     "text": [
      "C:\\Users\\BHU\\anaconda3\\lib\\site-packages\\statsmodels\\base\\model.py:568: ConvergenceWarning: Maximum Likelihood optimization failed to converge. Check mle_retvals\n",
      "  \"Check mle_retvals\", ConvergenceWarning)\n"
     ]
    }
   ],
   "source": [
    "log_model = Logit.from_formula(''' n_risk ~ C(gender)+bmi+whtr+pulse_count_judge''',data = g_num)\n",
    "log_result = log_model.fit()\n",
    "print(log_result.summary())\n",
    "\n",
    "# 판정은 0 아니면 1 따라서, 스케일은 진행하지 X"
   ]
  },
  {
   "cell_type": "markdown",
   "metadata": {},
   "source": [
    "### 유의수준 "
   ]
  },
  {
   "cell_type": "code",
   "execution_count": 44,
   "metadata": {},
   "outputs": [
    {
     "name": "stdout",
     "output_type": "stream",
     "text": [
      "Optimization terminated successfully.\n",
      "         Current function value: 0.431070\n",
      "         Iterations 6\n",
      "                           Logit Regression Results                           \n",
      "==============================================================================\n",
      "Dep. Variable:                 n_risk   No. Observations:                  875\n",
      "Model:                          Logit   Df Residuals:                      870\n",
      "Method:                           MLE   Df Model:                            4\n",
      "Date:                Thu, 07 May 2020   Pseudo R-squ.:                 0.02790\n",
      "Time:                        13:47:04   Log-Likelihood:                -377.19\n",
      "converged:                       True   LL-Null:                       -388.01\n",
      "Covariance Type:            nonrobust   LLR p-value:                 0.0002354\n",
      "==============================================================================\n",
      "                 coef    std err          z      P>|z|      [0.025      0.975]\n",
      "------------------------------------------------------------------------------\n",
      "Intercept     -8.1855      2.414     -3.391      0.001     -12.917      -3.454\n",
      "age           -0.0212      0.009     -2.402      0.016      -0.038      -0.004\n",
      "height         0.0545      0.016      3.409      0.001       0.023       0.086\n",
      "bust          -0.0480      0.024     -2.042      0.041      -0.094      -0.002\n",
      "whtr           6.2134      3.636      1.709      0.087      -0.913      13.340\n",
      "==============================================================================\n"
     ]
    }
   ],
   "source": [
    "log_model = Logit.from_formula(''' n_risk ~ age + height + bust\n",
    "+whtr''',data = g_num)\n",
    "log_result = log_model.fit()\n",
    "print(log_result.summary())\n",
    "\n",
    "# 판정은 0 아니면 1 따라서, 스케일은 진행하지 X"
   ]
  },
  {
   "cell_type": "markdown",
   "metadata": {},
   "source": [
    "### 정확도/정밀도 RF 모델\n",
    "\n",
    "- 변수 정리 : 'age','height','bust','whtr' 0.825 / 0.625\n",
    "- 검정 결과 : 'age','gender'\n",
    "- 다중 공선성 : 'gender', 'bmi', 'whtr', 'pulse_count_judge'"
   ]
  },
  {
   "cell_type": "markdown",
   "metadata": {},
   "source": [
    "## 모델링"
   ]
  },
  {
   "cell_type": "code",
   "execution_count": 54,
   "metadata": {},
   "outputs": [],
   "source": [
    "ensem_x = g_test[['age','height','bust','whtr']]\n",
    "ensem_y = g_test[['n_risk']]\n",
    "\n",
    "ensem_x = pd.get_dummies(ensem_x)\n",
    "\n",
    "# scaler = StandardScaler()\n",
    "# en_sc = scaler.fit_transform(ensem_x)\n",
    "# ensem_x = pd.DataFrame(en_sc,columns=ensem_x.columns)\n",
    "\n",
    "# 데이터 분할 1 : 학습용과 시험용\n",
    "\n",
    "train_x, test_x, train_y, test_y = train_test_split(ensem_x,ensem_y,test_size=0.3,random_state = 1234)\n",
    "# 학습용 데이터를 밸리데이션과 학습용으로 분할함으로써 CV진행 준비\n",
    "train_x, val_x, train_y, val_y = train_test_split(train_x,train_y,test_size = 3/7, random_state = 1234)"
   ]
  },
  {
   "cell_type": "code",
   "execution_count": 55,
   "metadata": {},
   "outputs": [
    {
     "name": "stderr",
     "output_type": "stream",
     "text": [
      "C:\\Users\\BHU\\anaconda3\\lib\\site-packages\\ipykernel_launcher.py:2: DataConversionWarning: A column-vector y was passed when a 1d array was expected. Please change the shape of y to (n_samples,), for example using ravel().\n",
      "  \n"
     ]
    },
    {
     "name": "stdout",
     "output_type": "stream",
     "text": [
      "\n",
      "초기 모델의 train data의 설명력 : 1.000\n",
      "초기 모델의 validation data의 설명력 : 0.814\n",
      "초기 모델의 test data의 설명력 : 0.825\n"
     ]
    }
   ],
   "source": [
    "gb_final = RandomForestClassifier(random_state=1234)\n",
    "gb_final.fit(train_x,train_y)\n",
    "\n",
    "print()\n",
    "print('초기 모델의 train data의 설명력 : {:.3f}'.format(gb_final.score(train_x,train_y)))\n",
    "print('초기 모델의 validation data의 설명력 : {:.3f}'.format(gb_final.score(val_x,val_y)))\n",
    "print('초기 모델의 test data의 설명력 : {:.3f}'.format(gb_final.score(test_x,test_y)))"
   ]
  },
  {
   "cell_type": "code",
   "execution_count": 56,
   "metadata": {},
   "outputs": [
    {
     "name": "stdout",
     "output_type": "stream",
     "text": [
      "Accuracy:0.825\n",
      "\n",
      "Confusion matrix:\n",
      "[[212   3]\n",
      " [ 43   5]]\n"
     ]
    },
    {
     "name": "stderr",
     "output_type": "stream",
     "text": [
      "C:\\Users\\BHU\\anaconda3\\lib\\site-packages\\ipykernel_launcher.py:20: DataConversionWarning: A column-vector y was passed when a 1d array was expected. Please change the shape of y to (n_samples,), for example using ravel().\n"
     ]
    },
    {
     "data": {
      "text/html": [
       "<div>\n",
       "<style scoped>\n",
       "    .dataframe tbody tr th:only-of-type {\n",
       "        vertical-align: middle;\n",
       "    }\n",
       "\n",
       "    .dataframe tbody tr th {\n",
       "        vertical-align: top;\n",
       "    }\n",
       "\n",
       "    .dataframe thead th {\n",
       "        text-align: right;\n",
       "    }\n",
       "</style>\n",
       "<table border=\"1\" class=\"dataframe\">\n",
       "  <thead>\n",
       "    <tr style=\"text-align: right;\">\n",
       "      <th></th>\n",
       "      <th>TrainAccuracy</th>\n",
       "      <th>TestAccuracy</th>\n",
       "      <th>F1Score</th>\n",
       "      <th>AUC</th>\n",
       "      <th>PrecisionScore</th>\n",
       "      <th>RecallScore</th>\n",
       "    </tr>\n",
       "  </thead>\n",
       "  <tbody>\n",
       "    <tr>\n",
       "      <th>GradientBoosting</th>\n",
       "      <td>1.0</td>\n",
       "      <td>0.825</td>\n",
       "      <td>0.179</td>\n",
       "      <td>0.545</td>\n",
       "      <td>0.625</td>\n",
       "      <td>0.104</td>\n",
       "    </tr>\n",
       "  </tbody>\n",
       "</table>\n",
       "</div>"
      ],
      "text/plain": [
       "                  TrainAccuracy  TestAccuracy  F1Score    AUC  PrecisionScore  \\\n",
       "GradientBoosting            1.0         0.825    0.179  0.545           0.625   \n",
       "\n",
       "                  RecallScore  \n",
       "GradientBoosting        0.104  "
      ]
     },
     "execution_count": 56,
     "metadata": {},
     "output_type": "execute_result"
    }
   ],
   "source": [
    "y_pred=gb_final.predict(test_x)\n",
    "print('Accuracy:{0:.3f}\\n'.format(gb_final.score(test_x,test_y)))\n",
    "print('Confusion matrix:\\n{}'.format(confusion_matrix(test_y,y_pred)))\n",
    "\n",
    "#분석 모델\n",
    "model=['GradientBoosting']\n",
    "#정확도 저장\n",
    "train_accuracy=[]; test_accuracy=[]\n",
    "#f1 score 저장\n",
    "model_f1_score=[]\n",
    "#auc score 저장\n",
    "model_auc=[]\n",
    "#precision score저장\n",
    "model_precision_score=[]\n",
    "#recall score 저장\n",
    "model_recall_score=[]\n",
    "\n",
    "#최종 모델\n",
    "gb_model=RandomForestClassifier(random_state=1234)\n",
    "gb_model.fit(train_x,train_y)\n",
    "# train 정확도\n",
    "train_accuracy.append(gb_model.score(train_x, train_y))\n",
    "# test 정확도\n",
    "test_accuracy.append(gb_model.score(test_x, test_y))\n",
    "#최종 모델을 이용한 분류 예측\n",
    "y_pred=gb_model.predict(test_x)\n",
    "#roc_curve(실제값,예측값) fpr=(FP)/(FP+TN):거짓 양성 비율, tpr=TP/(TP+FN):진짜 양성비율(재현율)\n",
    "fpr,tpr,thresholds=roc_curve(test_y,y_pred)\n",
    "roc_auc=auc(fpr,tpr)\n",
    "#auc 저장\n",
    "model_auc.append(roc_auc)\n",
    "\n",
    "#f1스코어\n",
    "model_f1_score.append(f1_score(test_y,y_pred))\n",
    "#precision 스코어\n",
    "model_precision_score.append(precision_score(test_y,y_pred))\n",
    "#recall 스코어\n",
    "model_recall_score.append(recall_score(test_y,y_pred))\n",
    "\n",
    "df_eval=pd.DataFrame(index=model)\n",
    "df_eval['TrainAccuracy']=train_accuracy\n",
    "df_eval['TestAccuracy']=test_accuracy\n",
    "df_eval['F1Score']=model_f1_score\n",
    "df_eval['AUC']=model_auc\n",
    "df_eval['PrecisionScore']=model_precision_score\n",
    "df_eval['RecallScore']=model_recall_score\n",
    "df_eval.round(3)"
   ]
  },
  {
   "cell_type": "markdown",
   "metadata": {},
   "source": [
    "-> 정밀도 고려 최종 변수 선택 : 'age','height','bust','whtr'"
   ]
  },
  {
   "cell_type": "markdown",
   "metadata": {},
   "source": [
    "-> 일반검사 기준 낮은 정밀도, 추가적인 건강검진 기준 보완 요구(Screen data 활용)"
   ]
  },
  {
   "cell_type": "markdown",
   "metadata": {},
   "source": [
    "## 2분류 거절 고객 분류"
   ]
  },
  {
   "cell_type": "code",
   "execution_count": 67,
   "metadata": {},
   "outputs": [
    {
     "data": {
      "text/html": [
       "<div>\n",
       "<style scoped>\n",
       "    .dataframe tbody tr th:only-of-type {\n",
       "        vertical-align: middle;\n",
       "    }\n",
       "\n",
       "    .dataframe tbody tr th {\n",
       "        vertical-align: top;\n",
       "    }\n",
       "\n",
       "    .dataframe thead th {\n",
       "        text-align: right;\n",
       "    }\n",
       "</style>\n",
       "<table border=\"1\" class=\"dataframe\">\n",
       "  <thead>\n",
       "    <tr style=\"text-align: right;\">\n",
       "      <th></th>\n",
       "      <th>customer_id</th>\n",
       "    </tr>\n",
       "  </thead>\n",
       "  <tbody>\n",
       "    <tr>\n",
       "      <th>0</th>\n",
       "      <td>C112409</td>\n",
       "    </tr>\n",
       "    <tr>\n",
       "      <th>1</th>\n",
       "      <td>C112414</td>\n",
       "    </tr>\n",
       "    <tr>\n",
       "      <th>2</th>\n",
       "      <td>C112421</td>\n",
       "    </tr>\n",
       "    <tr>\n",
       "      <th>3</th>\n",
       "      <td>C112437</td>\n",
       "    </tr>\n",
       "    <tr>\n",
       "      <th>4</th>\n",
       "      <td>C112449</td>\n",
       "    </tr>\n",
       "    <tr>\n",
       "      <th>...</th>\n",
       "      <td>...</td>\n",
       "    </tr>\n",
       "    <tr>\n",
       "      <th>471</th>\n",
       "      <td>C134023</td>\n",
       "    </tr>\n",
       "    <tr>\n",
       "      <th>472</th>\n",
       "      <td>C134058</td>\n",
       "    </tr>\n",
       "    <tr>\n",
       "      <th>473</th>\n",
       "      <td>C134153</td>\n",
       "    </tr>\n",
       "    <tr>\n",
       "      <th>474</th>\n",
       "      <td>C134160</td>\n",
       "    </tr>\n",
       "    <tr>\n",
       "      <th>475</th>\n",
       "      <td>C134240</td>\n",
       "    </tr>\n",
       "  </tbody>\n",
       "</table>\n",
       "<p>476 rows × 1 columns</p>\n",
       "</div>"
      ],
      "text/plain": [
       "    customer_id\n",
       "0       C112409\n",
       "1       C112414\n",
       "2       C112421\n",
       "3       C112437\n",
       "4       C112449\n",
       "..          ...\n",
       "471     C134023\n",
       "472     C134058\n",
       "473     C134153\n",
       "474     C134160\n",
       "475     C134240\n",
       "\n",
       "[476 rows x 1 columns]"
      ]
     },
     "execution_count": 67,
     "metadata": {},
     "output_type": "execute_result"
    }
   ],
   "source": [
    "df_danger = pd.read_csv('danger_reject_g.csv',encoding='euckr')\n",
    "df_danger = df_danger[['customer_id']]\n",
    "df_danger"
   ]
  },
  {
   "cell_type": "code",
   "execution_count": 69,
   "metadata": {},
   "outputs": [],
   "source": [
    "df_raw = pd.read_csv('insu_pre_review.csv',encoding='euckr')\n",
    "df_test = df_raw[df_raw['judge']=='거절']\n",
    "df_test = df_test[df_test['review_cat'] != '혈액검사']\n",
    "df_test = pd.merge(df_danger,df_test,on='customer_id',how='left')\n",
    "df_test\n",
    "df_reject = df_test[['age','height','bust','whtr']]\n",
    "\n",
    "# df_reject = pd.get_dummies(df_reject)\n",
    "# en_sc_2 = scaler.fit_transform(df_reject)\n",
    "# df_reject = pd.DataFrame(en_sc_2,columns=df_reject.columns)"
   ]
  },
  {
   "cell_type": "code",
   "execution_count": 70,
   "metadata": {},
   "outputs": [
    {
     "data": {
      "text/html": [
       "<div>\n",
       "<style scoped>\n",
       "    .dataframe tbody tr th:only-of-type {\n",
       "        vertical-align: middle;\n",
       "    }\n",
       "\n",
       "    .dataframe tbody tr th {\n",
       "        vertical-align: top;\n",
       "    }\n",
       "\n",
       "    .dataframe thead th {\n",
       "        text-align: right;\n",
       "    }\n",
       "</style>\n",
       "<table border=\"1\" class=\"dataframe\">\n",
       "  <thead>\n",
       "    <tr style=\"text-align: right;\">\n",
       "      <th></th>\n",
       "      <th>age</th>\n",
       "      <th>height</th>\n",
       "      <th>bust</th>\n",
       "      <th>whtr</th>\n",
       "    </tr>\n",
       "  </thead>\n",
       "  <tbody>\n",
       "    <tr>\n",
       "      <th>0</th>\n",
       "      <td>69</td>\n",
       "      <td>178</td>\n",
       "      <td>99</td>\n",
       "      <td>0.505618</td>\n",
       "    </tr>\n",
       "    <tr>\n",
       "      <th>1</th>\n",
       "      <td>68</td>\n",
       "      <td>165</td>\n",
       "      <td>94</td>\n",
       "      <td>0.533333</td>\n",
       "    </tr>\n",
       "    <tr>\n",
       "      <th>2</th>\n",
       "      <td>69</td>\n",
       "      <td>165</td>\n",
       "      <td>93</td>\n",
       "      <td>0.496970</td>\n",
       "    </tr>\n",
       "    <tr>\n",
       "      <th>3</th>\n",
       "      <td>68</td>\n",
       "      <td>163</td>\n",
       "      <td>100</td>\n",
       "      <td>0.515337</td>\n",
       "    </tr>\n",
       "    <tr>\n",
       "      <th>4</th>\n",
       "      <td>67</td>\n",
       "      <td>164</td>\n",
       "      <td>93</td>\n",
       "      <td>0.481707</td>\n",
       "    </tr>\n",
       "    <tr>\n",
       "      <th>...</th>\n",
       "      <td>...</td>\n",
       "      <td>...</td>\n",
       "      <td>...</td>\n",
       "      <td>...</td>\n",
       "    </tr>\n",
       "    <tr>\n",
       "      <th>471</th>\n",
       "      <td>63</td>\n",
       "      <td>156</td>\n",
       "      <td>90</td>\n",
       "      <td>0.525641</td>\n",
       "    </tr>\n",
       "    <tr>\n",
       "      <th>472</th>\n",
       "      <td>69</td>\n",
       "      <td>158</td>\n",
       "      <td>103</td>\n",
       "      <td>0.569620</td>\n",
       "    </tr>\n",
       "    <tr>\n",
       "      <th>473</th>\n",
       "      <td>37</td>\n",
       "      <td>161</td>\n",
       "      <td>80</td>\n",
       "      <td>0.428571</td>\n",
       "    </tr>\n",
       "    <tr>\n",
       "      <th>474</th>\n",
       "      <td>53</td>\n",
       "      <td>150</td>\n",
       "      <td>91</td>\n",
       "      <td>0.546667</td>\n",
       "    </tr>\n",
       "    <tr>\n",
       "      <th>475</th>\n",
       "      <td>22</td>\n",
       "      <td>160</td>\n",
       "      <td>80</td>\n",
       "      <td>0.375000</td>\n",
       "    </tr>\n",
       "  </tbody>\n",
       "</table>\n",
       "<p>476 rows × 4 columns</p>\n",
       "</div>"
      ],
      "text/plain": [
       "     age  height  bust      whtr\n",
       "0     69     178    99  0.505618\n",
       "1     68     165    94  0.533333\n",
       "2     69     165    93  0.496970\n",
       "3     68     163   100  0.515337\n",
       "4     67     164    93  0.481707\n",
       "..   ...     ...   ...       ...\n",
       "471   63     156    90  0.525641\n",
       "472   69     158   103  0.569620\n",
       "473   37     161    80  0.428571\n",
       "474   53     150    91  0.546667\n",
       "475   22     160    80  0.375000\n",
       "\n",
       "[476 rows x 4 columns]"
      ]
     },
     "execution_count": 70,
     "metadata": {},
     "output_type": "execute_result"
    }
   ],
   "source": [
    "df_reject"
   ]
  },
  {
   "cell_type": "code",
   "execution_count": 71,
   "metadata": {},
   "outputs": [
    {
     "name": "stderr",
     "output_type": "stream",
     "text": [
      "C:\\Users\\BHU\\anaconda3\\lib\\site-packages\\ipykernel_launcher.py:2: SettingWithCopyWarning: \n",
      "A value is trying to be set on a copy of a slice from a DataFrame.\n",
      "Try using .loc[row_indexer,col_indexer] = value instead\n",
      "\n",
      "See the caveats in the documentation: https://pandas.pydata.org/pandas-docs/stable/user_guide/indexing.html#returning-a-view-versus-a-copy\n",
      "  \n",
      "C:\\Users\\BHU\\anaconda3\\lib\\site-packages\\ipykernel_launcher.py:3: SettingWithCopyWarning: \n",
      "A value is trying to be set on a copy of a slice from a DataFrame.\n",
      "Try using .loc[row_indexer,col_indexer] = value instead\n",
      "\n",
      "See the caveats in the documentation: https://pandas.pydata.org/pandas-docs/stable/user_guide/indexing.html#returning-a-view-versus-a-copy\n",
      "  This is separate from the ipykernel package so we can avoid doing imports until\n"
     ]
    }
   ],
   "source": [
    "pred = gb_model.predict(df_reject)\n",
    "df_reject['n_risk'] = pred\n",
    "df_reject['customer_id'] = df_test['customer_id']"
   ]
  },
  {
   "cell_type": "code",
   "execution_count": 72,
   "metadata": {},
   "outputs": [
    {
     "data": {
      "text/html": [
       "<div>\n",
       "<style scoped>\n",
       "    .dataframe tbody tr th:only-of-type {\n",
       "        vertical-align: middle;\n",
       "    }\n",
       "\n",
       "    .dataframe tbody tr th {\n",
       "        vertical-align: top;\n",
       "    }\n",
       "\n",
       "    .dataframe thead th {\n",
       "        text-align: right;\n",
       "    }\n",
       "</style>\n",
       "<table border=\"1\" class=\"dataframe\">\n",
       "  <thead>\n",
       "    <tr style=\"text-align: right;\">\n",
       "      <th></th>\n",
       "      <th>age</th>\n",
       "      <th>height</th>\n",
       "      <th>bust</th>\n",
       "      <th>whtr</th>\n",
       "      <th>customer_id</th>\n",
       "    </tr>\n",
       "    <tr>\n",
       "      <th>n_risk</th>\n",
       "      <th></th>\n",
       "      <th></th>\n",
       "      <th></th>\n",
       "      <th></th>\n",
       "      <th></th>\n",
       "    </tr>\n",
       "  </thead>\n",
       "  <tbody>\n",
       "    <tr>\n",
       "      <th>0.0</th>\n",
       "      <td>469</td>\n",
       "      <td>469</td>\n",
       "      <td>469</td>\n",
       "      <td>469</td>\n",
       "      <td>469</td>\n",
       "    </tr>\n",
       "    <tr>\n",
       "      <th>1.0</th>\n",
       "      <td>7</td>\n",
       "      <td>7</td>\n",
       "      <td>7</td>\n",
       "      <td>7</td>\n",
       "      <td>7</td>\n",
       "    </tr>\n",
       "  </tbody>\n",
       "</table>\n",
       "</div>"
      ],
      "text/plain": [
       "        age  height  bust  whtr  customer_id\n",
       "n_risk                                      \n",
       "0.0     469     469   469   469          469\n",
       "1.0       7       7     7     7            7"
      ]
     },
     "execution_count": 72,
     "metadata": {},
     "output_type": "execute_result"
    }
   ],
   "source": [
    "df_reject.groupby('n_risk').count()"
   ]
  },
  {
   "cell_type": "markdown",
   "metadata": {},
   "source": [
    "### 저위험 고객 469명, 고위험 고객 7명 -> 혈액 검사 기준\n",
    "### 고위험 고객 거절 유지, 저위험 고객 상품 추천 및 할증 진행"
   ]
  },
  {
   "cell_type": "code",
   "execution_count": 73,
   "metadata": {},
   "outputs": [],
   "source": [
    "# 데이터 내보내기\n",
    "\n",
    "df_high = df_reject[df_reject['n_risk'] == 1][['customer_id']]\n",
    "df_low = df_reject[df_reject['n_risk'] == 0][['customer_id']]\n",
    "\n",
    "df_high.to_csv('high_danger_g.csv',encoding='euckr')\n",
    "df_low.to_csv('low_danger_g.csv',encoding='euckr')"
   ]
  }
 ],
 "metadata": {
  "kernelspec": {
   "display_name": "Python 3",
   "language": "python",
   "name": "python3"
  },
  "language_info": {
   "codemirror_mode": {
    "name": "ipython",
    "version": 3
   },
   "file_extension": ".py",
   "mimetype": "text/x-python",
   "name": "python",
   "nbconvert_exporter": "python",
   "pygments_lexer": "ipython3",
   "version": "3.7.6"
  }
 },
 "nbformat": 4,
 "nbformat_minor": 4
}
